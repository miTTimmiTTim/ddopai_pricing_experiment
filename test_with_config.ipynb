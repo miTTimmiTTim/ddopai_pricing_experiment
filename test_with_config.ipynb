{
 "cells": [
  {
   "cell_type": "code",
   "execution_count": 1,
   "metadata": {},
   "outputs": [],
   "source": [
    "import os\n",
    "os.environ['NUMEXPR_MAX_THREADS'] = '1'\n",
    "\n",
    "import logging\n",
    "import numexpr as ne\n",
    "import numpy as np\n",
    "import torch\n",
    "import datetime\n",
    "from ddopai.envs.pricing.dynamic import DynamicPricingEnv\n",
    "from ddopai.envs.pricing.dynamic_RL2 import RL2DynamicPricingEnv\n",
    "from ddopai.envs.pricing.dynamic_lag import LagDynamicPricingEnv\n",
    "from ddopai.envs.pricing.dynamic_inventory import DynamicPricingInvEnv\n",
    "from ddopai.envs.actionprocessors import ClipAction, RoundAction\n",
    "from ddopai.agents.obsprocessors import ConvertDictSpace\n",
    "\n",
    "from ddopai.experiments.experiment_functions_online import run_experiment, run_hp_experiment, evaluate_val\n",
    "from ddopai.experiments.meta_experiment_functions import *\n",
    "import requests\n",
    "import yaml\n",
    "import re\n",
    "import pandas as pd\n",
    "import wandb\n",
    "from copy import deepcopy\n",
    "import warnings\n",
    "import gc\n",
    "#from mushroom_rl import core \n",
    "from ddopai.experiments.meta_core import Core\n",
    "import pickle"
   ]
  },
  {
   "cell_type": "code",
   "execution_count": 2,
   "metadata": {},
   "outputs": [],
   "source": [
    "logging_level = logging.INFO\n",
    "logging.basicConfig(level=logging_level)\n",
    "\n",
    "ne.set_num_threads(1)\n",
    "torch.backends.cudnn.enabled = False\n",
    "torch.set_num_threads(1)\n",
    "\n",
    "set_warnings(logging.INFO) # turn off warnings for any level higher or equal to the input level\n",
    "LIBRARIES_TO_TRACK = [\"ddopai\", \"mushroom_rl\"]\n",
    "PROJECT_NAME = \"pricing_cMDP_test\"\n",
    "\n",
    "ENVCLASS = DynamicPricingEnv\n",
    "RESULTS_DIR = \"results\"\n",
    "def get_ENVCLASS(class_name):\n",
    "    if class_name == \"DynamicPricingEnv\":\n",
    "        return DynamicPricingEnv\n",
    "    elif class_name == \"DynamicPricingInvEnv\":\n",
    "        return DynamicPricingInvEnv\n",
    "    elif class_name == \"LagDynamicPricingEnv\":\n",
    "        return LagDynamicPricingEnv\n",
    "    elif class_name == \"RL2DynamicPricingEnv\":\n",
    "        return RL2DynamicPricingEnv\n",
    "    else:\n",
    "        raise ValueError(f\"Unknown class name {class_name}\")"
   ]
  },
  {
   "cell_type": "markdown",
   "metadata": {},
   "source": [
    "# Experiment preparations\n",
    "## Set-up WandB\n",
    "### Init WandB"
   ]
  },
  {
   "cell_type": "code",
   "execution_count": 3,
   "metadata": {},
   "outputs": [],
   "source": [
    "project_name = \"pricing_cMDP\"\n"
   ]
  },
  {
   "cell_type": "markdown",
   "metadata": {},
   "source": [
    "### Track library versions and git hash of experiment"
   ]
  },
  {
   "cell_type": "markdown",
   "metadata": {},
   "source": [
    "# Experiment parameters"
   ]
  },
  {
   "cell_type": "code",
   "execution_count": 4,
   "metadata": {},
   "outputs": [
    {
     "name": "stderr",
     "output_type": "stream",
     "text": [
      "\u001b[34m\u001b[1mwandb\u001b[0m: Using wandb-core as the SDK backend.  Please refer to https://wandb.me/wandb-core for more information.\n",
      "\u001b[34m\u001b[1mwandb\u001b[0m: Currently logged in as: \u001b[33mtimlachner\u001b[0m. Use \u001b[1m`wandb login --relogin`\u001b[0m to force relogin\n"
     ]
    },
    {
     "data": {
      "text/html": [
       "Tracking run with wandb version 0.18.6"
      ],
      "text/plain": [
       "<IPython.core.display.HTML object>"
      ]
     },
     "metadata": {},
     "output_type": "display_data"
    },
    {
     "data": {
      "text/html": [
       "Run data is saved locally in <code>/Users/timlachner/Library/CloudStorage/OneDrive-Personal/Work/DDOP/ddopai_pricing_experiments/wandb/run-20250429_194525-8dvi7i6k</code>"
      ],
      "text/plain": [
       "<IPython.core.display.HTML object>"
      ]
     },
     "metadata": {},
     "output_type": "display_data"
    },
    {
     "data": {
      "text/html": [
       "Syncing run <strong><a href='https://wandb.ai/timlachner/pricing_cMDP_test/runs/8dvi7i6k' target=\"_blank\">pricing_cMDP_test_2025-04-29_19-45-24</a></strong> to <a href='https://wandb.ai/timlachner/pricing_cMDP_test' target=\"_blank\">Weights & Biases</a> (<a href='https://wandb.me/developer-guide' target=\"_blank\">docs</a>)<br/>"
      ],
      "text/plain": [
       "<IPython.core.display.HTML object>"
      ]
     },
     "metadata": {},
     "output_type": "display_data"
    },
    {
     "data": {
      "text/html": [
       " View project at <a href='https://wandb.ai/timlachner/pricing_cMDP_test' target=\"_blank\">https://wandb.ai/timlachner/pricing_cMDP_test</a>"
      ],
      "text/plain": [
       "<IPython.core.display.HTML object>"
      ]
     },
     "metadata": {},
     "output_type": "display_data"
    },
    {
     "data": {
      "text/html": [
       " View run at <a href='https://wandb.ai/timlachner/pricing_cMDP_test/runs/8dvi7i6k' target=\"_blank\">https://wandb.ai/timlachner/pricing_cMDP_test/runs/8dvi7i6k</a>"
      ],
      "text/plain": [
       "<IPython.core.display.HTML object>"
      ]
     },
     "metadata": {},
     "output_type": "display_data"
    },
    {
     "name": "stderr",
     "output_type": "stream",
     "text": [
      "INFO:root:ddopai: 0.0.7\n",
      "INFO:root:mushroom_rl: 1.10.1\n",
      "INFO:root:Git hash: 1b303091ee923ebc8cc99f44a2502ad060a25ffc\n",
      "INFO:root:Configuration file 'config_train.yaml' successfully loaded.\n",
      "INFO:root:Configuration file 'config_agent.yaml' successfully loaded.\n",
      "INFO:root:Configuration file 'config_env.yaml' successfully loaded.\n",
      "WARNING:root:No lag window specified in the agent configuration. Keeping value from env config\n"
     ]
    }
   ],
   "source": [
    "config_train, config_agent, config_env, AgentClass, agent_name = prep_experiment(\n",
    "        PROJECT_NAME,\n",
    "        LIBRARIES_TO_TRACK,\n",
    "        config_train_name=\"config_train.yaml\",\n",
    "        config_agent_name=\"config_agent.yaml\",\n",
    "        config_env_name=\"config_env.yaml\",\n",
    "    )"
   ]
  },
  {
   "cell_type": "code",
   "execution_count": 5,
   "metadata": {},
   "outputs": [],
   "source": [
    "if config_env['lag_window_params'].get(\"lag_window\") is not None:\n",
    "        for env_kwargs in config_env[\"env_kwargs\"]:\n",
    "            env_kwargs[\"lag_window\"] = config_env['lag_window_params']['lag_window']\n",
    "            env_kwargs[\"env_class\"] = \"LagDynamicPricingEnv\"\n",
    "if \"gamma\" in config_agent:\n",
    "        for env_kwargs in config_env[\"env_kwargs\"]:\n",
    "            env_kwargs[\"gamma\"] = config_agent[\"gamma\"]\n",
    "        del config_agent[\"gamma\"]"
   ]
  },
  {
   "cell_type": "code",
   "execution_count": 6,
   "metadata": {},
   "outputs": [],
   "source": [
    "#artifact = wandb.use_artifact('raw_data:latest')\n",
    "#path = artifact.download()\n",
    "#raw_data = pickle.load(open(os.path.join(path, 'raw_data.pkl'), 'rb'))"
   ]
  },
  {
   "cell_type": "code",
   "execution_count": 7,
   "metadata": {},
   "outputs": [],
   "source": [
    "raw_data, val_index_start, test_index_start = get_online_data(\n",
    "            config_env,\n",
    "            overwrite=False\n",
    "        )"
   ]
  },
  {
   "cell_type": "code",
   "execution_count": 8,
   "metadata": {},
   "outputs": [
    {
     "data": {
      "text/plain": [
       "array([0.45329345, 0.45625252, 0.2714313 , 0.35211957, 0.31304172])"
      ]
     },
     "execution_count": 8,
     "metadata": {},
     "output_type": "execute_result"
    }
   ],
   "source": [
    "raw_data[0][0][100]"
   ]
  },
  {
   "cell_type": "markdown",
   "metadata": {},
   "source": [
    "## Environment parameters\n",
    "\n",
    "* Get the environment parameters from the config file \n",
    "* Overwrite the ```lag_window```parameter with the parameter specified in the agent, if it is specified (since lag window is provided by the environment, but a tunable hyperparameter of the agent)"
   ]
  },
  {
   "cell_type": "code",
   "execution_count": 9,
   "metadata": {},
   "outputs": [],
   "source": [
    "round_action = RoundAction(unit_size=config_env[\"unit_size\"])\n",
    "clip_action = ClipAction(lower=config_env[\"setup_kwargs\"][\"p_bound_low\"], upper=config_env[\"setup_kwargs\"][\"p_bound_high\"])\n",
    "postprocessors = [round_action, clip_action]\n",
    "\n",
    "#ENVCLASS = get_ENVCLASS(config_env[\"env_class\"])\n",
    "#environment = set_up_env_online(ENVCLASS, raw_data, val_index_start, test_index_start, config_env, postprocessors)\n",
    "environments = prepare_env_online(get_ENVCLASS=get_ENVCLASS, raw_data=raw_data, val_index_start=0, test_index_start=0, config_env=config_env, postprocessors=postprocessors)"
   ]
  },
  {
   "cell_type": "code",
   "execution_count": 10,
   "metadata": {},
   "outputs": [
    {
     "data": {
      "text/plain": [
       "array([3000.])"
      ]
     },
     "execution_count": 10,
     "metadata": {},
     "output_type": "execute_result"
    }
   ],
   "source": [
    "environments[0].inv"
   ]
  },
  {
   "cell_type": "code",
   "execution_count": 11,
   "metadata": {},
   "outputs": [
    {
     "data": {
      "text/plain": [
       "Dict('features': Box([0.00135587 0.0005734  0.00041923 0.00048459 0.00530169], [0.49910572 0.4991851  0.49827215 0.4935362  0.49968392], (5,), float32), 'inventory': Box(0.0, 1.0, (1,), float32), 'prev_action': Box(0.0, 5.0, (1,), float32), 'prev_done': Box(0.0, 1.0, (1,), float32), 'prev_reward': Box(-inf, inf, (1,), float32))"
      ]
     },
     "execution_count": 11,
     "metadata": {},
     "output_type": "execute_result"
    }
   ],
   "source": [
    "environments[0].observation_space"
   ]
  },
  {
   "cell_type": "code",
   "execution_count": 12,
   "metadata": {},
   "outputs": [
    {
     "data": {
      "text/plain": [
       "{'features': array([0.09599362, 0.14803715, 0.04638279, 0.05974782, 0.01263212]),\n",
       " 'inventory': array([[1.]], dtype=float32),\n",
       " 'prev_action': array([0.], dtype=float32),\n",
       " 'prev_reward': array([0.], dtype=float32),\n",
       " 'prev_done': array([1.], dtype=float32)}"
      ]
     },
     "execution_count": 12,
     "metadata": {},
     "output_type": "execute_result"
    }
   ],
   "source": [
    "obs, _ = environments[0].get_observation()\n",
    "obs"
   ]
  },
  {
   "cell_type": "code",
   "execution_count": 13,
   "metadata": {},
   "outputs": [
    {
     "data": {
      "text/plain": [
       "array([0.09599362, 0.14803715, 0.04638279, 0.05974782, 0.01263212,\n",
       "       1.        , 0.        , 0.        , 1.        ])"
      ]
     },
     "execution_count": 13,
     "metadata": {},
     "output_type": "execute_result"
    }
   ],
   "source": [
    "conv = ConvertDictSpace(keep_time_dim=False)\n",
    "X = conv(environments[0].get_observation()[0])\n",
    "X"
   ]
  },
  {
   "cell_type": "markdown",
   "metadata": {},
   "source": [
    "## Agent Parameter"
   ]
  },
  {
   "cell_type": "code",
   "execution_count": 14,
   "metadata": {},
   "outputs": [],
   "source": [
    "n_steps_per_fit = config_agent.pop(\"n_steps_per_fit\", None)\n",
    "n_episodes_per_fit = config_agent.pop(\"n_episodes_per_fit\", None)"
   ]
  },
  {
   "cell_type": "code",
   "execution_count": 15,
   "metadata": {},
   "outputs": [
    {
     "data": {
      "text/plain": [
       "{'learning_rate_actor': 0.0001,\n",
       " 'learning_rate_critic': 0.0002,\n",
       " 'n_epochs_policy': 6,\n",
       " 'meta_episodes_per_policy_update': 2,\n",
       " 'meta_episodes_per_learner_batch': 64,\n",
       " 'eps_ppo': 0.1,\n",
       " 'lam': 0.95,\n",
       " 'ent_coeff': 0.03,\n",
       " 'hidden_layers_RNN': 2,\n",
       " 'num_hidden_units_RNN': 512,\n",
       " 'hidden_layers_MLP': [256, 128],\n",
       " 'activation': 'tanh',\n",
       " 'drop_prob': 0,\n",
       " 'init_method': 'kaiming_uniform',\n",
       " 'optimizer': 'Adam',\n",
       " 'loss': 'MSE',\n",
       " 'device': 'cpu',\n",
       " 'RNN_cell': 'GRU'}"
      ]
     },
     "execution_count": 15,
     "metadata": {},
     "output_type": "execute_result"
    }
   ],
   "source": [
    "config_agent"
   ]
  },
  {
   "cell_type": "code",
   "execution_count": 16,
   "metadata": {},
   "outputs": [
    {
     "name": "stderr",
     "output_type": "stream",
     "text": [
      "INFO:root:Agent: RL2PPO\n",
      "INFO:root:Actor (RL²) network:\n"
     ]
    },
    {
     "name": "stdout",
     "output_type": "stream",
     "text": [
      "==========================================================================================\n",
      "Layer (type:depth-idx)                   Output Shape              Param #\n",
      "==========================================================================================\n",
      "RL2RNNActor                              [1, 1, 1]                 --\n",
      "├─RL2RNN: 1-1                            [1, 1, 1]                 --\n",
      "│    └─SpecificRNNWrapperHS: 2-1         [1, 1, 512]               --\n",
      "│    │    └─GRU: 3-1                     [1, 1, 512]               2,379,264\n",
      "│    └─Sequential: 2-2                   [1, 1]                    --\n",
      "│    │    └─Linear: 3-2                  [1, 256]                  131,328\n",
      "│    │    └─Tanh: 3-3                    [1, 256]                  --\n",
      "│    │    └─Dropout: 3-4                 [1, 256]                  --\n",
      "│    │    └─Linear: 3-5                  [1, 128]                  32,896\n",
      "│    │    └─Tanh: 3-6                    [1, 128]                  --\n",
      "│    │    └─Dropout: 3-7                 [1, 128]                  --\n",
      "│    │    └─Linear: 3-8                  [1, 1]                    129\n",
      "==========================================================================================\n",
      "Total params: 2,543,617\n",
      "Trainable params: 2,543,617\n",
      "Non-trainable params: 0\n",
      "Total mult-adds (M): 2.54\n",
      "==========================================================================================\n",
      "Input size (MB): 0.00\n",
      "Forward/backward pass size (MB): 0.01\n",
      "Params size (MB): 10.17\n",
      "Estimated Total Size (MB): 10.18\n",
      "==========================================================================================\n"
     ]
    },
    {
     "name": "stderr",
     "output_type": "stream",
     "text": [
      "INFO:root:Critic (RL²) network:\n"
     ]
    },
    {
     "name": "stdout",
     "output_type": "stream",
     "text": [
      "==========================================================================================\n",
      "Layer (type:depth-idx)                   Output Shape              Param #\n",
      "==========================================================================================\n",
      "RL2RNNValue                              [1, 1, 1]                 --\n",
      "├─RL2RNN: 1-1                            [1, 1, 1]                 --\n",
      "│    └─SpecificRNNWrapperHS: 2-1         [1, 1, 512]               --\n",
      "│    │    └─GRU: 3-1                     [1, 1, 512]               2,379,264\n",
      "│    └─Sequential: 2-2                   [1, 1]                    --\n",
      "│    │    └─Linear: 3-2                  [1, 256]                  131,328\n",
      "│    │    └─Tanh: 3-3                    [1, 256]                  --\n",
      "│    │    └─Dropout: 3-4                 [1, 256]                  --\n",
      "│    │    └─Linear: 3-5                  [1, 128]                  32,896\n",
      "│    │    └─Tanh: 3-6                    [1, 128]                  --\n",
      "│    │    └─Dropout: 3-7                 [1, 128]                  --\n",
      "│    │    └─Linear: 3-8                  [1, 1]                    129\n",
      "==========================================================================================\n",
      "Total params: 2,543,617\n",
      "Trainable params: 2,543,617\n",
      "Non-trainable params: 0\n",
      "Total mult-adds (M): 2.54\n",
      "==========================================================================================\n",
      "Input size (MB): 0.00\n",
      "Forward/backward pass size (MB): 0.01\n",
      "Params size (MB): 10.17\n",
      "Estimated Total Size (MB): 10.18\n",
      "==========================================================================================\n"
     ]
    }
   ],
   "source": [
    "logging.info(f\"Agent: {agent_name}\")\n",
    "if agent_name in [\"SAC\", \"PPORNN\", \"RL2PPO\"]:\n",
    "    obsprocessors = [ConvertDictSpace(keep_time_dim=False, )]\n",
    "else:\n",
    "    obsprocessors = []\n",
    "if AgentClass.train_mode == \"env_interaction\":\n",
    "    if \"link\" in config_agent:\n",
    "        glm_link, price_function = set_up_agent(AgentClass, environments[0], config_agent)\n",
    "        config_agent[\"g\"] = glm_link\n",
    "        config_agent[\"price_function\"] = price_function\n",
    "        \n",
    "        del config_agent[\"link\"]\n",
    "    if agent_name == \"Clairvoyant\":\n",
    "        agent = AgentClass(\n",
    "        alpha=environments[0].alpha,\n",
    "        beta=environments[0].beta,\n",
    "        environment_info=environments[0].mdp_info,\n",
    "        **config_agent\n",
    "        )\n",
    "    else:\n",
    "        agent = AgentClass(\n",
    "        environment_info=environments[0].mdp_info,\n",
    "        obsprocessors=obsprocessors,\n",
    "        **config_agent\n",
    "        )\n",
    "\n",
    "else:\n",
    "    raise ValueError(\"Invalid train_mode for online training\")"
   ]
  },
  {
   "cell_type": "code",
   "execution_count": 17,
   "metadata": {},
   "outputs": [],
   "source": [
    "earlystoppinghandler = set_up_earlystoppinghandler(config_train)"
   ]
  },
  {
   "cell_type": "code",
   "execution_count": 18,
   "metadata": {},
   "outputs": [],
   "source": [
    "eval_envs = np.random.choice(environments, size=16, replace=False).tolist()\n",
    "train_envs = [env for env in environments if env not in eval_envs]"
   ]
  },
  {
   "cell_type": "markdown",
   "metadata": {},
   "source": [
    "def run_experiment(\n",
    "        *,\n",
    "        agent,                                     # BaseAgent\n",
    "        train_envs:   List = None,                 # envs used for training\n",
    "        eval_envs:    List = None,                 # envs used for val / test\n",
    "        experiment_type: str = \"train_only\",       # 'train_only'|'train_val'|'only_eval'\n",
    "        # ---------- training hyper‑params ----------\n",
    "        n_epochs: int = 1,\n",
    "        n_steps: int = None,\n",
    "        n_steps_per_fit: int = 1,\n",
    "        n_episodes_per_fit: int = None,\n",
    "        # ---------- validation ----------\n",
    "        val_every: int = 10,                       # how often to call evaluate_val\n",
    "        # ---------- misc ----------\n",
    "        early_stopping_handler: Union[EarlyStoppingHandler, None] = None,\n",
    "        save_best: bool = True,\n",
    "        performance_criterion: str = \"J\",\n",
    "        tracking: Union[str, None] = None,         # 'wandb' or None\n",
    "        results_dir: str = \"results\",\n",
    "        run_id: str | None = None,\n",
    "        print_freq: int = 1,\n",
    "        eval_step_info: bool = False,\n",
    "):"
   ]
  },
  {
   "cell_type": "code",
   "execution_count": 19,
   "metadata": {},
   "outputs": [
    {
     "name": "stderr",
     "output_type": "stream",
     "text": [
      "INFO:root:★ Experiment dir: results/8dvi7i6k\n",
      "epochs:   1%|          | 249/40000 [01:39<3:34:02,  3.10it/s] INFO:root:[VAL] running validation after epoch 250\n",
      "INFO:root:[VAL] mean True_R=336.36  mean R=363.85\n",
      "epochs:   1%|          | 499/40000 [03:40<3:40:27,  2.99it/s] INFO:root:[VAL] running validation after epoch 500\n",
      "INFO:root:[VAL] mean True_R=337.38  mean R=369.39\n",
      "epochs:   2%|▏         | 749/40000 [05:40<3:30:47,  3.10it/s] INFO:root:[VAL] running validation after epoch 750\n",
      "INFO:root:[VAL] mean True_R=300.20  mean R=331.68\n",
      "epochs:   2%|▏         | 999/40000 [07:41<3:27:27,  3.13it/s] INFO:root:[VAL] running validation after epoch 1000\n",
      "INFO:root:[VAL] mean True_R=226.39  mean R=245.92\n",
      "epochs:   3%|▎         | 1249/40000 [09:39<3:20:11,  3.23it/s] INFO:root:[VAL] running validation after epoch 1250\n",
      "INFO:root:[VAL] mean True_R=225.60  mean R=251.32\n",
      "epochs:   4%|▎         | 1499/40000 [11:42<3:26:32,  3.11it/s] INFO:root:[VAL] running validation after epoch 1500\n",
      "INFO:root:[VAL] mean True_R=224.77  mean R=249.16\n",
      "epochs:   4%|▍         | 1749/40000 [13:43<3:30:08,  3.03it/s] INFO:root:[VAL] running validation after epoch 1750\n",
      "INFO:root:[VAL] mean True_R=228.22  mean R=257.48\n",
      "epochs:   5%|▍         | 1999/40000 [15:43<3:24:34,  3.10it/s] INFO:root:[VAL] running validation after epoch 2000\n",
      "INFO:root:[VAL] mean True_R=260.53  mean R=287.69\n",
      "epochs:   6%|▌         | 2249/40000 [17:44<3:22:33,  3.11it/s] INFO:root:[VAL] running validation after epoch 2250\n",
      "INFO:root:[VAL] mean True_R=229.00  mean R=248.35\n",
      "epochs:   6%|▌         | 2499/40000 [19:49<3:45:01,  2.78it/s] INFO:root:[VAL] running validation after epoch 2500\n",
      "INFO:root:[VAL] mean True_R=265.56  mean R=290.67\n",
      "epochs:   7%|▋         | 2749/40000 [40:58<3:13:48,  3.20it/s]    INFO:root:[VAL] running validation after epoch 2750\n",
      "INFO:root:[VAL] mean True_R=228.24  mean R=251.41\n",
      "epochs:   7%|▋         | 2999/40000 [42:54<3:10:14,  3.24it/s] INFO:root:[VAL] running validation after epoch 3000\n",
      "INFO:root:[VAL] mean True_R=204.37  mean R=229.29\n",
      "epochs:   8%|▊         | 3249/40000 [2:11:49<4:10:04,  2.45it/s]    INFO:root:[VAL] running validation after epoch 3250\n",
      "INFO:root:[VAL] mean True_R=219.33  mean R=243.23\n",
      "epochs:   9%|▊         | 3499/40000 [2:38:35<3:09:35,  3.21it/s]    INFO:root:[VAL] running validation after epoch 3500\n",
      "INFO:root:[VAL] mean True_R=227.93  mean R=249.18\n",
      "epochs:   9%|▉         | 3749/40000 [3:22:26<29:58:18,  2.98s/it]   INFO:root:[VAL] running validation after epoch 3750\n",
      "INFO:root:[VAL] mean True_R=204.01  mean R=223.07\n",
      "epochs:  10%|▉         | 3999/40000 [4:09:29<3:05:49,  3.23it/s]    INFO:root:[VAL] running validation after epoch 4000\n",
      "INFO:root:[VAL] mean True_R=271.25  mean R=301.21\n",
      "epochs:  11%|█         | 4249/40000 [4:11:25<3:12:57,  3.09it/s] INFO:root:[VAL] running validation after epoch 4250\n",
      "INFO:root:[VAL] mean True_R=269.01  mean R=296.48\n",
      "epochs:  11%|█         | 4499/40000 [5:43:28<319:35:15, 32.41s/it]  INFO:root:[VAL] running validation after epoch 4500\n",
      "INFO:root:[VAL] mean True_R=243.75  mean R=271.97\n",
      "epochs:  12%|█▏        | 4749/40000 [5:45:23<3:33:29,  2.75it/s]  INFO:root:[VAL] running validation after epoch 4750\n",
      "INFO:root:[VAL] mean True_R=239.37  mean R=269.71\n",
      "epochs:  12%|█▏        | 4999/40000 [6:33:23<223:28:10, 22.98s/it]  INFO:root:[VAL] running validation after epoch 5000\n",
      "INFO:root:[VAL] mean True_R=231.77  mean R=261.25\n",
      "epochs:  13%|█▎        | 5249/40000 [7:23:08<38:05:54,  3.95s/it]   INFO:root:[VAL] running validation after epoch 5250\n",
      "INFO:root:[VAL] mean True_R=251.01  mean R=278.42\n",
      "epochs:  14%|█▎        | 5499/40000 [7:24:45<2:57:50,  3.23it/s] INFO:root:[VAL] running validation after epoch 5500\n",
      "INFO:root:[VAL] mean True_R=237.77  mean R=264.19\n",
      "epochs:  14%|█▍        | 5749/40000 [8:37:29<54:09:09,  5.69s/it]   INFO:root:[VAL] running validation after epoch 5750\n",
      "INFO:root:[VAL] mean True_R=249.82  mean R=279.87\n",
      "epochs:  15%|█▍        | 5999/40000 [9:54:39<3:09:51,  2.98it/s]    INFO:root:[VAL] running validation after epoch 6000\n",
      "INFO:root:[VAL] mean True_R=268.27  mean R=298.85\n",
      "epochs:  16%|█▌        | 6249/40000 [11:41:45<149:04:18, 15.90s/it]  INFO:root:[VAL] running validation after epoch 6250\n",
      "INFO:root:[VAL] mean True_R=241.67  mean R=267.98\n",
      "epochs:  16%|█▌        | 6499/40000 [12:26:24<3:02:35,  3.06it/s]    INFO:root:[VAL] running validation after epoch 6500\n",
      "INFO:root:[VAL] mean True_R=267.74  mean R=298.36\n",
      "epochs:  17%|█▋        | 6749/40000 [12:28:29<3:08:37,  2.94it/s] INFO:root:[VAL] running validation after epoch 6750\n",
      "INFO:root:[VAL] mean True_R=253.06  mean R=283.61\n",
      "epochs:  17%|█▋        | 6999/40000 [12:30:40<3:00:56,  3.04it/s] INFO:root:[VAL] running validation after epoch 7000\n",
      "INFO:root:[VAL] mean True_R=260.33  mean R=295.25\n",
      "epochs:  18%|█▊        | 7249/40000 [12:32:47<3:06:28,  2.93it/s] INFO:root:[VAL] running validation after epoch 7250\n",
      "INFO:root:[VAL] mean True_R=226.46  mean R=252.00\n",
      "epochs:  19%|█▊        | 7499/40000 [12:34:53<2:54:41,  3.10it/s] INFO:root:[VAL] running validation after epoch 7500\n",
      "INFO:root:[VAL] mean True_R=244.71  mean R=276.16\n",
      "epochs:  19%|█▉        | 7749/40000 [12:36:54<2:53:56,  3.09it/s] INFO:root:[VAL] running validation after epoch 7750\n",
      "INFO:root:[VAL] mean True_R=260.89  mean R=286.85\n",
      "epochs:  20%|█▉        | 7999/40000 [12:38:55<2:52:15,  3.10it/s] INFO:root:[VAL] running validation after epoch 8000\n",
      "INFO:root:[VAL] mean True_R=254.29  mean R=281.78\n",
      "epochs:  21%|██        | 8249/40000 [12:40:55<2:52:16,  3.07it/s] INFO:root:[VAL] running validation after epoch 8250\n",
      "INFO:root:[VAL] mean True_R=246.39  mean R=273.33\n",
      "epochs:  21%|██        | 8499/40000 [12:42:57<3:08:17,  2.79it/s] INFO:root:[VAL] running validation after epoch 8500\n",
      "INFO:root:[VAL] mean True_R=247.56  mean R=274.27\n",
      "epochs:  22%|██▏       | 8749/40000 [12:44:59<2:58:20,  2.92it/s] INFO:root:[VAL] running validation after epoch 8750\n",
      "INFO:root:[VAL] mean True_R=261.02  mean R=291.76\n",
      "epochs:  22%|██▏       | 8999/40000 [12:47:06<2:46:22,  3.11it/s] INFO:root:[VAL] running validation after epoch 9000\n",
      "INFO:root:[VAL] mean True_R=271.17  mean R=303.42\n",
      "epochs:  23%|██▎       | 9249/40000 [12:49:08<2:45:50,  3.09it/s] INFO:root:[VAL] running validation after epoch 9250\n",
      "INFO:root:[VAL] mean True_R=270.05  mean R=298.80\n",
      "epochs:  24%|██▎       | 9499/40000 [12:51:09<2:49:00,  3.01it/s] INFO:root:[VAL] running validation after epoch 9500\n",
      "INFO:root:[VAL] mean True_R=248.55  mean R=278.11\n",
      "epochs:  24%|██▍       | 9749/40000 [12:53:10<2:45:41,  3.04it/s] INFO:root:[VAL] running validation after epoch 9750\n",
      "INFO:root:[VAL] mean True_R=231.86  mean R=259.23\n",
      "epochs:  25%|██▍       | 9999/40000 [12:55:11<2:55:02,  2.86it/s] INFO:root:[VAL] running validation after epoch 10000\n",
      "INFO:root:[VAL] mean True_R=262.74  mean R=297.27\n",
      "epochs:  26%|██▌       | 10249/40000 [12:57:14<4:37:31,  1.79it/s] INFO:root:[VAL] running validation after epoch 10250\n",
      "INFO:root:[VAL] mean True_R=243.80  mean R=274.31\n",
      "epochs:  26%|██▌       | 10499/40000 [12:59:14<18:15:56,  2.23s/it]INFO:root:[VAL] running validation after epoch 10500\n",
      "INFO:root:[VAL] mean True_R=279.33  mean R=310.42\n",
      "epochs:  27%|██▋       | 10749/40000 [13:00:56<2:37:12,  3.10it/s] INFO:root:[VAL] running validation after epoch 10750\n",
      "INFO:root:[VAL] mean True_R=260.14  mean R=291.53\n",
      "epochs:  27%|██▋       | 10999/40000 [13:02:58<2:34:30,  3.13it/s] INFO:root:[VAL] running validation after epoch 11000\n",
      "INFO:root:[VAL] mean True_R=249.84  mean R=277.71\n",
      "epochs:  28%|██▊       | 11249/40000 [13:04:59<2:36:20,  3.07it/s] INFO:root:[VAL] running validation after epoch 11250\n",
      "INFO:root:[VAL] mean True_R=213.65  mean R=240.08\n",
      "epochs:  29%|██▊       | 11499/40000 [13:07:01<2:33:55,  3.09it/s] INFO:root:[VAL] running validation after epoch 11500\n",
      "INFO:root:[VAL] mean True_R=247.36  mean R=273.27\n",
      "epochs:  29%|██▉       | 11749/40000 [13:09:03<2:47:28,  2.81it/s] INFO:root:[VAL] running validation after epoch 11750\n",
      "INFO:root:[VAL] mean True_R=239.75  mean R=263.38\n",
      "epochs:  30%|██▉       | 11999/40000 [13:11:04<2:30:45,  3.10it/s] INFO:root:[VAL] running validation after epoch 12000\n",
      "INFO:root:[VAL] mean True_R=242.54  mean R=266.00\n",
      "epochs:  31%|███       | 12249/40000 [13:13:05<2:31:19,  3.06it/s] INFO:root:[VAL] running validation after epoch 12250\n",
      "INFO:root:[VAL] mean True_R=255.12  mean R=285.11\n",
      "epochs:  31%|███       | 12499/40000 [13:15:08<2:32:08,  3.01it/s] INFO:root:[VAL] running validation after epoch 12500\n",
      "INFO:root:[VAL] mean True_R=266.21  mean R=294.48\n",
      "epochs:  32%|███▏      | 12749/40000 [13:17:10<2:27:44,  3.07it/s] INFO:root:[VAL] running validation after epoch 12750\n",
      "INFO:root:[VAL] mean True_R=261.58  mean R=289.25\n",
      "epochs:  32%|███▏      | 12999/40000 [13:19:12<2:30:14,  3.00it/s] INFO:root:[VAL] running validation after epoch 13000\n",
      "INFO:root:[VAL] mean True_R=269.33  mean R=296.71\n",
      "epochs:  33%|███▎      | 13249/40000 [13:21:14<2:23:15,  3.11it/s] INFO:root:[VAL] running validation after epoch 13250\n",
      "INFO:root:[VAL] mean True_R=277.92  mean R=309.30\n",
      "epochs:  34%|███▎      | 13499/40000 [13:23:15<2:20:52,  3.14it/s] INFO:root:[VAL] running validation after epoch 13500\n",
      "INFO:root:[VAL] mean True_R=252.57  mean R=282.58\n",
      "epochs:  34%|███▍      | 13749/40000 [13:25:15<2:27:40,  2.96it/s] INFO:root:[VAL] running validation after epoch 13750\n",
      "INFO:root:[VAL] mean True_R=285.31  mean R=315.48\n",
      "epochs:  35%|███▍      | 13999/40000 [13:27:15<2:25:23,  2.98it/s] INFO:root:[VAL] running validation after epoch 14000\n",
      "INFO:root:[VAL] mean True_R=282.63  mean R=314.30\n",
      "epochs:  36%|███▌      | 14249/40000 [13:29:16<2:18:06,  3.11it/s] INFO:root:[VAL] running validation after epoch 14250\n",
      "INFO:root:[VAL] mean True_R=272.65  mean R=303.69\n",
      "epochs:  36%|███▌      | 14499/40000 [13:31:20<2:15:37,  3.13it/s] INFO:root:[VAL] running validation after epoch 14500\n",
      "INFO:root:[VAL] mean True_R=249.79  mean R=280.72\n",
      "epochs:  37%|███▋      | 14749/40000 [13:33:30<2:43:06,  2.58it/s] INFO:root:[VAL] running validation after epoch 14750\n",
      "INFO:root:[VAL] mean True_R=267.31  mean R=296.15\n",
      "epochs:  37%|███▋      | 14999/40000 [13:35:34<2:17:21,  3.03it/s] INFO:root:[VAL] running validation after epoch 15000\n",
      "INFO:root:[VAL] mean True_R=264.61  mean R=294.01\n",
      "epochs:  38%|███▊      | 15249/40000 [13:37:38<2:18:35,  2.98it/s] INFO:root:[VAL] running validation after epoch 15250\n",
      "INFO:root:[VAL] mean True_R=258.40  mean R=287.86\n",
      "epochs:  39%|███▊      | 15499/40000 [13:39:40<2:59:25,  2.28it/s] INFO:root:[VAL] running validation after epoch 15500\n",
      "INFO:root:[VAL] mean True_R=241.59  mean R=267.65\n",
      "epochs:  39%|███▉      | 15749/40000 [13:41:45<8:49:40,  1.31s/it] INFO:root:[VAL] running validation after epoch 15750\n",
      "INFO:root:[VAL] mean True_R=217.55  mean R=239.32\n",
      "epochs:  40%|███▉      | 15999/40000 [13:43:31<2:12:06,  3.03it/s] INFO:root:[VAL] running validation after epoch 16000\n",
      "INFO:root:[VAL] mean True_R=219.88  mean R=243.03\n",
      "epochs:  41%|████      | 16249/40000 [13:45:34<2:12:08,  3.00it/s] INFO:root:[VAL] running validation after epoch 16250\n",
      "INFO:root:[VAL] mean True_R=230.66  mean R=256.62\n",
      "epochs:  41%|████      | 16499/40000 [13:47:37<2:06:29,  3.10it/s] INFO:root:[VAL] running validation after epoch 16500\n",
      "INFO:root:[VAL] mean True_R=285.95  mean R=316.23\n",
      "epochs:  42%|████▏     | 16749/40000 [13:49:40<2:05:27,  3.09it/s] INFO:root:[VAL] running validation after epoch 16750\n",
      "INFO:root:[VAL] mean True_R=204.97  mean R=220.74\n",
      "epochs:  42%|████▏     | 16999/40000 [13:51:45<2:12:01,  2.90it/s] INFO:root:[VAL] running validation after epoch 17000\n",
      "INFO:root:[VAL] mean True_R=270.83  mean R=292.40\n",
      "epochs:  43%|████▎     | 17249/40000 [13:53:47<2:02:34,  3.09it/s] INFO:root:[VAL] running validation after epoch 17250\n",
      "INFO:root:[VAL] mean True_R=252.34  mean R=274.04\n",
      "epochs:  44%|████▎     | 17499/40000 [13:55:49<2:02:21,  3.07it/s] INFO:root:[VAL] running validation after epoch 17500\n",
      "INFO:root:[VAL] mean True_R=239.58  mean R=266.62\n",
      "epochs:  44%|████▍     | 17749/40000 [13:57:51<2:00:21,  3.08it/s] INFO:root:[VAL] running validation after epoch 17750\n",
      "INFO:root:[VAL] mean True_R=253.86  mean R=283.34\n",
      "epochs:  45%|████▍     | 17999/40000 [13:59:58<2:06:53,  2.89it/s] INFO:root:[VAL] running validation after epoch 18000\n",
      "INFO:root:[VAL] mean True_R=266.70  mean R=297.06\n",
      "epochs:  46%|████▌     | 18249/40000 [14:02:05<2:00:03,  3.02it/s] INFO:root:[VAL] running validation after epoch 18250\n",
      "INFO:root:[VAL] mean True_R=283.72  mean R=319.21\n",
      "epochs:  46%|████▌     | 18499/40000 [14:04:10<1:56:55,  3.06it/s] INFO:root:[VAL] running validation after epoch 18500\n",
      "INFO:root:[VAL] mean True_R=271.19  mean R=303.03\n",
      "epochs:  47%|████▋     | 18749/40000 [14:06:15<2:05:03,  2.83it/s] INFO:root:[VAL] running validation after epoch 18750\n",
      "INFO:root:[VAL] mean True_R=218.98  mean R=240.86\n",
      "epochs:  47%|████▋     | 18999/40000 [14:08:21<2:19:03,  2.52it/s] INFO:root:[VAL] running validation after epoch 19000\n",
      "INFO:root:[VAL] mean True_R=260.92  mean R=286.01\n",
      "epochs:  48%|████▊     | 19249/40000 [14:10:25<1:57:47,  2.94it/s] INFO:root:[VAL] running validation after epoch 19250\n",
      "INFO:root:[VAL] mean True_R=219.23  mean R=240.96\n",
      "epochs:  49%|████▊     | 19499/40000 [14:12:25<1:54:36,  2.98it/s] INFO:root:[VAL] running validation after epoch 19500\n",
      "INFO:root:[VAL] mean True_R=250.09  mean R=276.42\n",
      "epochs:  49%|████▉     | 19749/40000 [14:14:26<1:52:30,  3.00it/s] INFO:root:[VAL] running validation after epoch 19750\n",
      "INFO:root:[VAL] mean True_R=244.82  mean R=270.40\n",
      "epochs:  50%|████▉     | 19999/40000 [14:16:28<1:48:23,  3.08it/s] INFO:root:[VAL] running validation after epoch 20000\n",
      "INFO:root:[VAL] mean True_R=245.87  mean R=273.66\n",
      "epochs:  51%|█████     | 20249/40000 [14:18:34<1:47:28,  3.06it/s] INFO:root:[VAL] running validation after epoch 20250\n",
      "INFO:root:[VAL] mean True_R=220.96  mean R=239.70\n",
      "INFO:root:Early‑stopping triggered at epoch 20250\n",
      "epochs:  51%|█████     | 20249/40000 [14:18:36<13:57:29,  2.54s/it]\n"
     ]
    }
   ],
   "source": [
    "dataset = run_experiment(\n",
    "        agent=agent,\n",
    "        train_envs=train_envs,\n",
    "        eval_envs=eval_envs,\n",
    "        experiment_type=\"train_val\",\n",
    "        val_every= 250,    \n",
    "        n_epochs=config_train[\"n_epochs\"],\n",
    "        n_steps=config_train[\"n_steps\"],\n",
    "        n_steps_per_fit=n_steps_per_fit,\n",
    "        n_episodes_per_fit=n_episodes_per_fit,\n",
    "        early_stopping_handler=earlystoppinghandler,\n",
    "        save_best=config_train[\"save_best\"],\n",
    "        run_id=wandb.run.id,\n",
    "        tracking=\"wandb\",\n",
    "        eval_step_info=False,\n",
    "        print_freq=1,\n",
    "        results_dir = RESULTS_DIR\n",
    "    )"
   ]
  },
  {
   "cell_type": "code",
   "execution_count": 20,
   "metadata": {},
   "outputs": [
    {
     "data": {
      "text/html": [
       "\n",
       "    <style>\n",
       "        .wandb-row {\n",
       "            display: flex;\n",
       "            flex-direction: row;\n",
       "            flex-wrap: wrap;\n",
       "            justify-content: flex-start;\n",
       "            width: 100%;\n",
       "        }\n",
       "        .wandb-col {\n",
       "            display: flex;\n",
       "            flex-direction: column;\n",
       "            flex-basis: 100%;\n",
       "            flex: 1;\n",
       "            padding: 10px;\n",
       "        }\n",
       "    </style>\n",
       "<div class=\"wandb-row\"><div class=\"wandb-col\"><h3>Run history:</h3><br/><table class=\"wandb\"><tr><td>Action</td><td>▁▄▅▁█▃▂▁▅▄▄▄▅▃▅▁▃▁▁▅▁▁▂▁▅▂▆▃▃▂▄▁▃▃▂▄▆▃▃▃</td></tr><tr><td>Cumulative_Reward</td><td>▆▁▄▆▂▃█▅▃▄▃▆▅▁▄▂▄▁▇▂▂▄▃▄▃▇▁▁▃▄▄▁▄▄▄▄▁▂▂▁</td></tr><tr><td>Cumulative_True_Reward</td><td>▃▄▁▁▃▆▅▃▃▄▄▂▃▆▆▆▄▅▁▂▂▄▂▂▄▂▃█▇▄▄▂▃▅▄▂▃▄█▄</td></tr><tr><td>Epoch</td><td>▁▁▁▁▁▂▂▂▃▃▃▃▃▄▄▄▅▅▅▅▅▅▅▅▅▆▆▆▆▆▆▇▇▇▇▇▇▇▇█</td></tr><tr><td>Inventory</td><td>▁▁▁▁▁▁▁▁▁▁▁▁▁▁▁▁▁▁▁▁▁▁▁▁▁▁▁▁▁▁▁▁▁▁▁▁▁▁▁▁</td></tr><tr><td>Reward</td><td>▁▅▄▄▁▁▁▂▅▁▂▅▁▁▁▂▆▂▁█▁▁▁▂▁▁▁▄▆▂▁▁▅▁▁▂▁▁▁▂</td></tr><tr><td>True_Reward</td><td>▅▃▆▁▁▁▅▁▁▄▄▇▃▃▄▆▃▂▁▂▃▄▂▆▁▄█▂▄▁▅▄▁▂▁▄▅▆▂▁</td></tr><tr><td>Val_Action</td><td>▆▁▆▂▆▆▆▄▁▁▆▇▄▁▃▅▄▂▇▁▅▁▇▁▁█▆▂▇▇▇▇▂▆▆▂▇█▂▃</td></tr><tr><td>Val_Cumulative_Reward</td><td>▃▅▅▄▂▁▇▆▄▂▂▄█▃▁▃▂▃▂▃▅▃▂▂▄▃▅█▂▂▇█▅▄▂▆▁▇▃▂</td></tr><tr><td>Val_Cumulative_True_Reward</td><td>▄▂▁▃▁▁▆▂▁▁▅▆▁▅█▁▂▁▂▄▅▅▄▁▄▄▁▅▃▂▄▂▇▃▁█▆▇▁▂</td></tr><tr><td>Val_Epoch</td><td>▄▂▇▅▅▅▁▄▁▄▃█▂▅▁█▄▃▁▇▂▇█▄▂▄▂▂▇▂█▁▅▂▅▇▃█▆▃</td></tr><tr><td>Val_J</td><td>▅██▃▃▄▄▂▂▂▂█▁▂█▅▄▂▃▃▂█▁▂▁█▅▄▅▄▁█▂▁▃▄▂▂▁▁</td></tr><tr><td>Val_R</td><td>▅▅▃█▃▃█▅▃▃▁▃▄▃▄▅▃▃▃▁▃▄▂▄▃▂▄█▁▃▃▂▄▃██▃▁██</td></tr><tr><td>Val_Reward</td><td>▄▁▄▁▂▄▂▅▂█▁▇▂▁▇▄▃▁▁▃▃▂▁▆▁▁▆▄▄▆█▆▁▁▁▂▁▃▆▁</td></tr><tr><td>Val_True_Reward</td><td>▂▂▆▂▂▂▃▁▄▁█▇▃▄▃▁▂▅▃▅▆▅▁▄▄▁▂▄▁▇▇▄▇▂▂▆▄▁▁▅</td></tr><tr><td>Val_t</td><td>▄▂▆▇▄▄▅▂▅▆▃▆▄▇▆▆▁▆▇▃▂▅▅▂▁▄▆▂▂▂▂▅▇▂█▇▆▆▇▂</td></tr><tr><td>covariance_parameter</td><td>▁▁▁▁▁▁▁▁▁▁▁▁▁▁▁▁▁▁▁▁▁▁▁▁▁▁▁▁▁▁▁▁▁▁▁▁▁▁▁▁</td></tr><tr><td>leading_alpha</td><td>▁▁▁▁▁▁▁▁▁▁▁▁▁▁▁▁▁▁▁▁▁▁▁▁▁▁▁▁▁▁▁▁▁▁▁▁▁▁▁▁</td></tr><tr><td>leading_beta</td><td>▁▁▁▁▁▁▁▁▁▁▁▁▁▁▁▁▁▁▁▁▁▁▁▁▁▁▁▁▁▁▁▁▁▁▁▁▁▁▁▁</td></tr><tr><td>mean_alpha</td><td>▁▁▁▁▁▁▁▁▁▁▁▁▁▁▁▁▁▁▁▁▁▁▁▁▁▁▁▁▁▁▁▁▁▁▁▁▁▁▁▁</td></tr><tr><td>mean_beta</td><td>▁▁▁▁▁▁▁▁▁▁▁▁▁▁▁▁▁▁▁▁▁▁▁▁▁▁▁▁▁▁▁▁▁▁▁▁▁▁▁▁</td></tr><tr><td>noise_std</td><td>▁▁▁▁▁▁▁▁▁▁▁▁▁▁▁▁▁▁▁▁▁▁▁▁▁▁▁▁▁▁▁▁▁▁▁▁▁▁▁▁</td></tr><tr><td>t</td><td>▆▄█▃▆▂▅▅█▆▅▃▂▆▂▆▇▃▆▇▅▇▄▂▁▇▂▃▇▃▄▁▁▆▇▆▁▆▅▇</td></tr></table><br/></div><div class=\"wandb-col\"><h3>Run summary:</h3><br/><table class=\"wandb\"><tr><td>Action</td><td>0.02</td></tr><tr><td>Cumulative_Reward</td><td>343.59381</td></tr><tr><td>Cumulative_True_Reward</td><td>286.46385</td></tr><tr><td>Epoch</td><td>20249</td></tr><tr><td>Inventory</td><td>3000</td></tr><tr><td>Reward</td><td>0.03609</td></tr><tr><td>True_Reward</td><td>0.02781</td></tr><tr><td>Val_Action</td><td>0.06</td></tr><tr><td>Val_Cumulative_Reward</td><td>39.73909</td></tr><tr><td>Val_Cumulative_True_Reward</td><td>34.56135</td></tr><tr><td>Val_Epoch</td><td>15</td></tr><tr><td>Val_J</td><td>73.57534</td></tr><tr><td>Val_R</td><td>73.57534</td></tr><tr><td>Val_Reward</td><td>0</td></tr><tr><td>Val_True_Reward</td><td>0.04606</td></tr><tr><td>Val_t</td><td>299</td></tr><tr><td>covariance_parameter</td><td>0.2</td></tr><tr><td>inv</td><td>False</td></tr><tr><td>leading_alpha</td><td>10</td></tr><tr><td>leading_beta</td><td>-1</td></tr><tr><td>mean_alpha</td><td>1.2</td></tr><tr><td>mean_beta</td><td>-0.3</td></tr><tr><td>noise_std</td><td>1</td></tr><tr><td>reference_price</td><td>False</td></tr><tr><td>t</td><td>299</td></tr></table><br/></div></div>"
      ],
      "text/plain": [
       "<IPython.core.display.HTML object>"
      ]
     },
     "metadata": {},
     "output_type": "display_data"
    },
    {
     "data": {
      "text/html": [
       " View run <strong style=\"color:#cdcd00\">pricing_cMDP_test_2025-04-29_19-45-24</strong> at: <a href='https://wandb.ai/timlachner/pricing_cMDP_test/runs/8dvi7i6k' target=\"_blank\">https://wandb.ai/timlachner/pricing_cMDP_test/runs/8dvi7i6k</a><br/> View project at: <a href='https://wandb.ai/timlachner/pricing_cMDP_test' target=\"_blank\">https://wandb.ai/timlachner/pricing_cMDP_test</a><br/>Synced 5 W&B file(s), 0 media file(s), 0 artifact file(s) and 0 other file(s)"
      ],
      "text/plain": [
       "<IPython.core.display.HTML object>"
      ]
     },
     "metadata": {},
     "output_type": "display_data"
    },
    {
     "data": {
      "text/html": [
       "Find logs at: <code>./wandb/run-20250429_194525-8dvi7i6k/logs</code>"
      ],
      "text/plain": [
       "<IPython.core.display.HTML object>"
      ]
     },
     "metadata": {},
     "output_type": "display_data"
    }
   ],
   "source": [
    "wandb.finish()"
   ]
  },
  {
   "cell_type": "code",
   "execution_count": 21,
   "metadata": {},
   "outputs": [
    {
     "name": "stdout",
     "output_type": "stream",
     "text": [
      "({'features': array([0.3749225 , 0.49686624, 0.4088976 , 0.42476839, 0.43450523]), 'inventory': array([[1.]], dtype=float32), 'prev_action': array([[-0.88]], dtype=float32), 'prev_reward': array([[0.]], dtype=float32), 'prev_done': array([0.], dtype=float32)}, array([0.]), array([False]), {'inv': array([3000.]), 'demand': array([0.]), 'true_demand': array([0.48489932]), 'action': array([0.3]), 'reward': array([0.]), 'true_reward': array([0.1454698])})\n",
      "({'features': array([0.44248337, 0.34391384, 0.32635113, 0.05098269, 0.25883157]), 'inventory': array([[1.]], dtype=float32), 'prev_action': array([[-0.856]], dtype=float32), 'prev_reward': array([[353446.]], dtype=float32), 'prev_done': array([0.], dtype=float32)}, array([353445.99751488]), array([False]), {'inv': array([3000.]), 'demand': array([0.98179444]), 'true_demand': array([2.33301445]), 'action': array([0.36]), 'reward': array([0.353446]), 'true_reward': array([0.8398852])})\n",
      "({'features': array([0.38869095, 0.08539285, 0.19983749, 0.3420461 , 0.12032834]), 'inventory': array([[1.]], dtype=float32), 'prev_action': array([[-0.828]], dtype=float32), 'prev_reward': array([[0.57607466]], dtype=float32), 'prev_done': array([0.], dtype=float32)}, array([0.57607467]), array([False]), {'inv': array([3000.]), 'demand': array([2.08276795]), 'true_demand': array([1.37172115]), 'action': array([0.43]), 'reward': array([0.89559022]), 'true_reward': array([0.58984009])})\n",
      "({'features': array([0.30010805, 0.04749575, 0.18348857, 0.48235245, 0.47569307]), 'inventory': array([[1.]], dtype=float32), 'prev_action': array([[-0.924]], dtype=float32), 'prev_reward': array([[0.]], dtype=float32), 'prev_done': array([0.], dtype=float32)}, array([0.]), array([False]), {'inv': array([3000.]), 'demand': array([0.]), 'true_demand': array([1.15427489]), 'action': array([0.19]), 'reward': array([0.]), 'true_reward': array([0.21931223])})\n",
      "({'features': array([0.45138365, 0.42930418, 0.27455746, 0.48953844, 0.08932565]), 'inventory': array([[1.]], dtype=float32), 'prev_action': array([[-0.9]], dtype=float32), 'prev_reward': array([[0.22067587]], dtype=float32), 'prev_done': array([0.], dtype=float32)}, array([0.22067588]), array([False]), {'inv': array([3000.]), 'demand': array([1.64850118]), 'true_demand': array([1.38817257]), 'action': array([0.25]), 'reward': array([0.4121253]), 'true_reward': array([0.34704314])})\n",
      "({'features': array([0.28152145, 0.029485  , 0.16722738, 0.30622193, 0.31509896]), 'inventory': array([[1.]], dtype=float32), 'prev_action': array([[-0.86]], dtype=float32), 'prev_reward': array([[0.39388663]], dtype=float32), 'prev_done': array([0.], dtype=float32)}, array([0.39388664]), array([False]), {'inv': array([3000.]), 'demand': array([2.49683183]), 'true_demand': array([2.00012364]), 'action': array([0.35]), 'reward': array([0.87389114]), 'true_reward': array([0.70004328])})\n",
      "({'features': array([0.37152026, 0.28678175, 0.10189163, 0.41611324, 0.04520716]), 'inventory': array([[1.]], dtype=float32), 'prev_action': array([[-0.828]], dtype=float32), 'prev_reward': array([[0.37477288]], dtype=float32), 'prev_done': array([0.], dtype=float32)}, array([0.37477287]), array([False]), {'inv': array([3000.]), 'demand': array([2.4591927]), 'true_demand': array([0.92268301]), 'action': array([0.43]), 'reward': array([1.05745286]), 'true_reward': array([0.39675369])})\n",
      "({'features': array([0.14498793, 0.02670648, 0.42152116, 0.01743025, 0.22999282]), 'inventory': array([[1.]], dtype=float32), 'prev_action': array([[-0.808]], dtype=float32), 'prev_reward': array([[267802.56]], dtype=float32), 'prev_done': array([0.], dtype=float32)}, array([267802.56552813]), array([False]), {'inv': array([3000.]), 'demand': array([0.55792201]), 'true_demand': array([1.36740777]), 'action': array([0.48]), 'reward': array([0.26780257]), 'true_reward': array([0.65635573])})\n",
      "({'features': array([0.28740179, 0.36626017, 0.2241057 , 0.36118572, 0.09545778]), 'inventory': array([[1.]], dtype=float32), 'prev_action': array([[-0.776]], dtype=float32), 'prev_reward': array([[0.9273914]], dtype=float32), 'prev_done': array([0.], dtype=float32)}, array([0.9273914]), array([False]), {'inv': array([3000.]), 'demand': array([1.96022063]), 'true_demand': array([0.446341]), 'action': array([0.56]), 'reward': array([1.09772356]), 'true_reward': array([0.24995096])})\n",
      "({'features': array([0.32671631, 0.36148224, 0.09884541, 0.36057574, 0.02768203]), 'inventory': array([[1.]], dtype=float32), 'prev_action': array([[-0.86]], dtype=float32), 'prev_reward': array([[214660.12]], dtype=float32), 'prev_done': array([0.], dtype=float32)}, array([214660.11924429]), array([False]), {'inv': array([3000.]), 'demand': array([0.61331463]), 'true_demand': array([1.57995594]), 'action': array([0.35]), 'reward': array([0.21466012]), 'true_reward': array([0.55298458])})\n",
      "({'features': array([0.21481763, 0.25953762, 0.40202871, 0.19670087, 0.20657534]), 'inventory': array([[1.]], dtype=float32), 'prev_action': array([[-0.824]], dtype=float32), 'prev_reward': array([[85324.89]], dtype=float32), 'prev_done': array([0.], dtype=float32)}, array([85324.88894508]), array([False]), {'inv': array([3000.]), 'demand': array([0.1939202]), 'true_demand': array([1.42899003]), 'action': array([0.44]), 'reward': array([0.08532489]), 'true_reward': array([0.62875561])})\n",
      "({'features': array([0.28288776, 0.250524  , 0.42505683, 0.11525204, 0.07604961]), 'inventory': array([[1.]], dtype=float32), 'prev_action': array([[-0.848]], dtype=float32), 'prev_reward': array([[0.5317648]], dtype=float32), 'prev_done': array([0.], dtype=float32)}, array([0.53176481]), array([False]), {'inv': array([3000.]), 'demand': array([1.61128434]), 'true_demand': array([1.27466414]), 'action': array([0.38]), 'reward': array([0.61228805]), 'true_reward': array([0.48437237])})\n",
      "({'features': array([0.12488748, 0.39929971, 0.02790322, 0.07845833, 0.22270556]), 'inventory': array([[1.]], dtype=float32), 'prev_action': array([[-0.876]], dtype=float32), 'prev_reward': array([[9560.045]], dtype=float32), 'prev_done': array([0.], dtype=float32)}, array([9560.04517345]), array([False]), {'inv': array([3000.]), 'demand': array([0.03083886]), 'true_demand': array([1.17705424]), 'action': array([0.31]), 'reward': array([0.00956005]), 'true_reward': array([0.36488682])})\n",
      "({'features': array([0.1968003 , 0.29577199, 0.07328787, 0.18406183, 0.39396548]), 'inventory': array([[1.]], dtype=float32), 'prev_action': array([[-0.84]], dtype=float32), 'prev_reward': array([[0.19026953]], dtype=float32), 'prev_done': array([0.], dtype=float32)}, array([0.19026953]), array([False]), {'inv': array([3000.]), 'demand': array([2.01823657]), 'true_demand': array([1.16628827]), 'action': array([0.4]), 'reward': array([0.80729463]), 'true_reward': array([0.46651531])})\n",
      "({'features': array([0.12670908, 0.09077576, 0.32746786, 0.43752072, 0.44673059]), 'inventory': array([[1.]], dtype=float32), 'prev_action': array([[-0.88]], dtype=float32), 'prev_reward': array([[24313.12]], dtype=float32), 'prev_done': array([0.], dtype=float32)}, array([24313.11913061]), array([False]), {'inv': array([3000.]), 'demand': array([0.08104373]), 'true_demand': array([1.31127758]), 'action': array([0.3]), 'reward': array([0.02431312]), 'true_reward': array([0.39338328])})\n",
      "({'features': array([0.36814181, 0.29960257, 0.06428788, 0.35996201, 0.22280777]), 'inventory': array([[1.]], dtype=float32), 'prev_action': array([[-0.84]], dtype=float32), 'prev_reward': array([[0.3154662]], dtype=float32), 'prev_done': array([0.], dtype=float32)}, array([0.31546621]), array([False]), {'inv': array([3000.]), 'demand': array([2.51110427]), 'true_demand': array([1.30108815]), 'action': array([0.4]), 'reward': array([1.00444171]), 'true_reward': array([0.52043526])})\n",
      "({'features': array([0.2475479 , 0.34373625, 0.24580493, 0.1882367 , 0.34054791]), 'inventory': array([[1.]], dtype=float32), 'prev_action': array([[-0.884]], dtype=float32), 'prev_reward': array([[0.47605833]], dtype=float32), 'prev_done': array([0.], dtype=float32)}, array([0.47605834]), array([False]), {'inv': array([3000.]), 'demand': array([1.0351173]), 'true_demand': array([1.52873758]), 'action': array([0.29]), 'reward': array([0.30018402]), 'true_reward': array([0.4433339])})\n",
      "({'features': array([0.218397  , 0.34718203, 0.08661508, 0.21734075, 0.44616402]), 'inventory': array([[1.]], dtype=float32), 'prev_action': array([[-0.88]], dtype=float32), 'prev_reward': array([[0.42519134]], dtype=float32), 'prev_done': array([0.], dtype=float32)}, array([0.42519135]), array([False]), {'inv': array([3000.]), 'demand': array([1.29824758]), 'true_demand': array([1.52176338]), 'action': array([0.3]), 'reward': array([0.38947427]), 'true_reward': array([0.45652901])})\n",
      "({'features': array([0.1173627 , 0.48765154, 0.49027755, 0.21818502, 0.3190588 ]), 'inventory': array([[1.]], dtype=float32), 'prev_action': array([[-0.864]], dtype=float32), 'prev_reward': array([[0.18870327]], dtype=float32), 'prev_done': array([0.], dtype=float32)}, array([0.18870327]), array([False]), {'inv': array([3000.]), 'demand': array([2.31006484]), 'true_demand': array([1.50742439]), 'action': array([0.34]), 'reward': array([0.78542205]), 'true_reward': array([0.51252429])})\n",
      "({'features': array([0.43210518, 0.40089049, 0.49229271, 0.16549311, 0.49250627]), 'inventory': array([[1.]], dtype=float32), 'prev_action': array([[-0.856]], dtype=float32), 'prev_reward': array([[0.42608956]], dtype=float32), 'prev_done': array([0.], dtype=float32)}, array([0.42608957]), array([False]), {'inv': array([3000.]), 'demand': array([2.2263574]), 'true_demand': array([1.84834323]), 'action': array([0.36]), 'reward': array([0.80148866]), 'true_reward': array([0.66540356])})\n",
      "({'features': array([0.22922291, 0.10358272, 0.3784583 , 0.43861311, 0.10856079]), 'inventory': array([[1.]], dtype=float32), 'prev_action': array([[-0.856]], dtype=float32), 'prev_reward': array([[0.42590597]], dtype=float32), 'prev_done': array([0.], dtype=float32)}, array([0.42590599]), array([False]), {'inv': array([3000.]), 'demand': array([3.48640768]), 'true_demand': array([1.95058902]), 'action': array([0.36]), 'reward': array([1.25510676]), 'true_reward': array([0.70221205])})\n",
      "({'features': array([0.48167454, 0.41311927, 0.36398426, 0.04208455, 0.00747178]), 'inventory': array([[1.]], dtype=float32), 'prev_action': array([[-0.848]], dtype=float32), 'prev_reward': array([[0.4420461]], dtype=float32), 'prev_done': array([0.], dtype=float32)}, array([0.44204611]), array([False]), {'inv': array([3000.]), 'demand': array([2.6222767]), 'true_demand': array([1.17563917]), 'action': array([0.38]), 'reward': array([0.99646515]), 'true_reward': array([0.44674288])})\n",
      "({'features': array([0.42477618, 0.39448567, 0.470656  , 0.35306439, 0.35700539]), 'inventory': array([[1.]], dtype=float32), 'prev_action': array([[-0.856]], dtype=float32), 'prev_reward': array([[0.5934047]], dtype=float32), 'prev_done': array([0.], dtype=float32)}, array([0.59340474]), array([False]), {'inv': array([3000.]), 'demand': array([1.80774205]), 'true_demand': array([1.42287909]), 'action': array([0.36]), 'reward': array([0.65078714]), 'true_reward': array([0.51223647])})\n",
      "({'features': array([0.16185177, 0.23719387, 0.05650477, 0.1523059 , 0.29361863]), 'inventory': array([[1.]], dtype=float32), 'prev_action': array([[-0.844]], dtype=float32), 'prev_reward': array([[0.86166203]], dtype=float32), 'prev_done': array([0.], dtype=float32)}, array([0.86166204]), array([False]), {'inv': array([3000.]), 'demand': array([1.3179607]), 'true_demand': array([2.01556145]), 'action': array([0.39]), 'reward': array([0.51400467]), 'true_reward': array([0.78606896])})\n",
      "({'features': array([0.06006714, 0.31235154, 0.0703119 , 0.44702444, 0.0198336 ]), 'inventory': array([[1.]], dtype=float32), 'prev_action': array([[-0.836]], dtype=float32), 'prev_reward': array([[0.5497444]], dtype=float32), 'prev_done': array([0.], dtype=float32)}, array([0.54974443]), array([False]), {'inv': array([3000.]), 'demand': array([0.66173728]), 'true_demand': array([1.01767761]), 'action': array([0.41]), 'reward': array([0.27131228]), 'true_reward': array([0.41724782])})\n",
      "({'features': array([0.18741722, 0.47561857, 0.34868139, 0.37050299, 0.15526166]), 'inventory': array([[1.]], dtype=float32), 'prev_action': array([[-0.82]], dtype=float32), 'prev_reward': array([[0.1957979]], dtype=float32), 'prev_done': array([0.], dtype=float32)}, array([0.19579791]), array([False]), {'inv': array([3000.]), 'demand': array([1.72699258]), 'true_demand': array([1.25621654]), 'action': array([0.45]), 'reward': array([0.77714666]), 'true_reward': array([0.56529745])})\n",
      "({'features': array([0.37435383, 0.12317997, 0.22660981, 0.30235115, 0.17954696]), 'inventory': array([[1.]], dtype=float32), 'prev_action': array([[-0.812]], dtype=float32), 'prev_reward': array([[87625.805]], dtype=float32), 'prev_done': array([0.], dtype=float32)}, array([87625.80495689]), array([False]), {'inv': array([3000.]), 'demand': array([0.18643788]), 'true_demand': array([1.7756574]), 'action': array([0.47]), 'reward': array([0.0876258]), 'true_reward': array([0.83455898])})\n",
      "({'features': array([0.2398688 , 0.47500089, 0.15608103, 0.48930005, 0.33375204]), 'inventory': array([[1.]], dtype=float32), 'prev_action': array([[-0.776]], dtype=float32), 'prev_reward': array([[0.6999455]], dtype=float32), 'prev_done': array([0.], dtype=float32)}, array([0.69994548]), array([False]), {'inv': array([3000.]), 'demand': array([1.25787431]), 'true_demand': array([1.00490262]), 'action': array([0.56]), 'reward': array([0.70440961]), 'true_reward': array([0.56274547])})\n",
      "({'features': array([0.29158838, 0.29625859, 0.3524249 , 0.29931008, 0.49841915]), 'inventory': array([[1.]], dtype=float32), 'prev_action': array([[-0.832]], dtype=float32), 'prev_reward': array([[0.37472287]], dtype=float32), 'prev_done': array([0.], dtype=float32)}, array([0.37472288]), array([False]), {'inv': array([3000.]), 'demand': array([1.709214]), 'true_demand': array([2.03295164]), 'action': array([0.42]), 'reward': array([0.71786988]), 'true_reward': array([0.85383969])})\n",
      "({'features': array([0.21302324, 0.03300067, 0.14483602, 0.26290316, 0.10948253]), 'inventory': array([[1.]], dtype=float32), 'prev_action': array([[-0.82]], dtype=float32), 'prev_reward': array([[0.6330659]], dtype=float32), 'prev_done': array([0.], dtype=float32)}, array([0.63306589]), array([False]), {'inv': array([3000.]), 'demand': array([1.36581898]), 'true_demand': array([1.66935538]), 'action': array([0.45]), 'reward': array([0.61461854]), 'true_reward': array([0.75120992])})\n",
      "({'features': array([0.06934408, 0.36789467, 0.13744324, 0.07903926, 0.12798044]), 'inventory': array([[1.]], dtype=float32), 'prev_action': array([[-0.816]], dtype=float32), 'prev_reward': array([[0.]], dtype=float32), 'prev_done': array([0.], dtype=float32)}, array([0.]), array([False]), {'inv': array([3000.]), 'demand': array([0.]), 'true_demand': array([0.65678744]), 'action': array([0.46]), 'reward': array([0.]), 'true_reward': array([0.30212222])})\n",
      "({'features': array([0.33635592, 0.4578443 , 0.39246736, 0.14047401, 0.48623362]), 'inventory': array([[1.]], dtype=float32), 'prev_action': array([[-0.816]], dtype=float32), 'prev_reward': array([[0.6233022]], dtype=float32), 'prev_done': array([0.], dtype=float32)}, array([0.62330219]), array([False]), {'inv': array([3000.]), 'demand': array([0.74162549]), 'true_demand': array([1.03156233]), 'action': array([0.46]), 'reward': array([0.34114772]), 'true_reward': array([0.47451867])})\n",
      "({'features': array([0.03945518, 0.21921173, 0.47565872, 0.23047657, 0.4591013 ]), 'inventory': array([[1.]], dtype=float32), 'prev_action': array([[-0.808]], dtype=float32), 'prev_reward': array([[0.57359767]], dtype=float32), 'prev_done': array([0.], dtype=float32)}, array([0.57359766]), array([False]), {'inv': array([3000.]), 'demand': array([2.00355509]), 'true_demand': array([1.80767715]), 'action': array([0.48]), 'reward': array([0.96170645]), 'true_reward': array([0.86768503])})\n",
      "({'features': array([0.05517453, 0.38030402, 0.30808288, 0.19506169, 0.34645583]), 'inventory': array([[1.]], dtype=float32), 'prev_action': array([[-0.8]], dtype=float32), 'prev_reward': array([[0.6425966]], dtype=float32), 'prev_done': array([0.], dtype=float32)}, array([0.64259659]), array([False]), {'inv': array([3000.]), 'demand': array([1.24796976]), 'true_demand': array([1.27383382]), 'action': array([0.5]), 'reward': array([0.62398488]), 'true_reward': array([0.63691691])})\n",
      "({'features': array([0.18435992, 0.20790833, 0.1675579 , 0.46012129, 0.14819486]), 'inventory': array([[1.]], dtype=float32), 'prev_action': array([[-0.792]], dtype=float32), 'prev_reward': array([[0.46014276]], dtype=float32), 'prev_done': array([0.], dtype=float32)}, array([0.46014276]), array([False]), {'inv': array([3000.]), 'demand': array([1.72660071]), 'true_demand': array([1.40132712]), 'action': array([0.52]), 'reward': array([0.89783237]), 'true_reward': array([0.7286901])})\n",
      "({'features': array([0.01335212, 0.38126825, 0.39302867, 0.00969051, 0.45660364]), 'inventory': array([[1.]], dtype=float32), 'prev_action': array([[-0.78]], dtype=float32), 'prev_reward': array([[0.45821196]], dtype=float32), 'prev_done': array([0.], dtype=float32)}, array([0.45821195]), array([False]), {'inv': array([3000.]), 'demand': array([1.41158573]), 'true_demand': array([1.23782409]), 'action': array([0.55]), 'reward': array([0.77637215]), 'true_reward': array([0.68080325])})\n",
      "({'features': array([0.2659131 , 0.31808424, 0.2466856 , 0.48145177, 0.28319402]), 'inventory': array([[1.]], dtype=float32), 'prev_action': array([[-0.784]], dtype=float32), 'prev_reward': array([[7121.553]], dtype=float32), 'prev_done': array([0.], dtype=float32)}, array([7121.55325632]), array([False]), {'inv': array([3000.]), 'demand': array([0.01318806]), 'true_demand': array([1.25690922]), 'action': array([0.54]), 'reward': array([0.00712155]), 'true_reward': array([0.67873098])})\n",
      "({'features': array([0.05437301, 0.14369664, 0.20208577, 0.34369685, 0.36528974]), 'inventory': array([[1.]], dtype=float32), 'prev_action': array([[-0.748]], dtype=float32), 'prev_reward': array([[0.5662145]], dtype=float32), 'prev_done': array([0.], dtype=float32)}, array([0.56621452]), array([False]), {'inv': array([3000.]), 'demand': array([1.75994828]), 'true_demand': array([1.60713063]), 'action': array([0.63]), 'reward': array([1.10876742]), 'true_reward': array([1.01249229])})\n",
      "({'features': array([0.20587586, 0.27504282, 0.1842348 , 0.29414545, 0.02887843]), 'inventory': array([[1.]], dtype=float32), 'prev_action': array([[-0.812]], dtype=float32), 'prev_reward': array([[92244.7]], dtype=float32), 'prev_done': array([0.], dtype=float32)}, array([92244.69975141]), array([False]), {'inv': array([3000.]), 'demand': array([0.19626532]), 'true_demand': array([1.10521577]), 'action': array([0.47]), 'reward': array([0.0922447]), 'true_reward': array([0.51945141])})\n",
      "({'features': array([0.30629677, 0.05468117, 0.39214063, 0.04132386, 0.20632392]), 'inventory': array([[1.]], dtype=float32), 'prev_action': array([[-0.8]], dtype=float32), 'prev_reward': array([[0.82829666]], dtype=float32), 'prev_done': array([0.], dtype=float32)}, array([0.82829669]), array([False]), {'inv': array([3000.]), 'demand': array([0.76654294]), 'true_demand': array([1.11145316]), 'action': array([0.5]), 'reward': array([0.38327147]), 'true_reward': array([0.55572658])})\n",
      "({'features': array([0.22880182, 0.00427636, 0.24621033, 0.08498582, 0.14433432]), 'inventory': array([[1.]], dtype=float32), 'prev_action': array([[-0.836]], dtype=float32), 'prev_reward': array([[0.7734755]], dtype=float32), 'prev_done': array([0.], dtype=float32)}, array([0.77347551]), array([False]), {'inv': array([3000.]), 'demand': array([1.02616801]), 'true_demand': array([0.70028075]), 'action': array([0.41]), 'reward': array([0.42072889]), 'true_reward': array([0.28711511])})\n",
      "({'features': array([0.23554798, 0.48047255, 0.04285447, 0.12138464, 0.38191236]), 'inventory': array([[1.]], dtype=float32), 'prev_action': array([[-0.824]], dtype=float32), 'prev_reward': array([[1.2472008]], dtype=float32), 'prev_done': array([0.], dtype=float32)}, array([1.24720087]), array([False]), {'inv': array([3000.]), 'demand': array([0.25459141]), 'true_demand': array([0.46974436]), 'action': array([0.44]), 'reward': array([0.11202022]), 'true_reward': array([0.20668752])})\n",
      "({'features': array([0.03242365, 0.4683612 , 0.27434304, 0.12246831, 0.15436868]), 'inventory': array([[1.]], dtype=float32), 'prev_action': array([[-0.804]], dtype=float32), 'prev_reward': array([[0.29294017]], dtype=float32), 'prev_done': array([0.], dtype=float32)}, array([0.29294016]), array([False]), {'inv': array([3000.]), 'demand': array([1.95465709]), 'true_demand': array([1.55187611]), 'action': array([0.49]), 'reward': array([0.95778197]), 'true_reward': array([0.7604193])})\n",
      "({'features': array([0.41878607, 0.47300862, 0.051187  , 0.13916433, 0.41271087]), 'inventory': array([[1.]], dtype=float32), 'prev_action': array([[-0.792]], dtype=float32), 'prev_reward': array([[0.55827653]], dtype=float32), 'prev_done': array([0.], dtype=float32)}, array([0.55827653]), array([False]), {'inv': array([3000.]), 'demand': array([1.27502365]), 'true_demand': array([1.31319725]), 'action': array([0.52]), 'reward': array([0.6630123]), 'true_reward': array([0.68286257])})\n",
      "({'features': array([0.40762152, 0.00522589, 0.40796079, 0.07152111, 0.03552025]), 'inventory': array([[1.]], dtype=float32), 'prev_action': array([[-0.78]], dtype=float32), 'prev_reward': array([[234984.62]], dtype=float32), 'prev_done': array([0.], dtype=float32)}, array([234984.63279359]), array([False]), {'inv': array([3000.]), 'demand': array([0.42724479]), 'true_demand': array([1.65639277]), 'action': array([0.55]), 'reward': array([0.23498463]), 'true_reward': array([0.91101602])})\n",
      "({'features': array([0.15460821, 0.38164407, 0.27624816, 0.43520031, 0.48473779]), 'inventory': array([[1.]], dtype=float32), 'prev_action': array([[-0.748]], dtype=float32), 'prev_reward': array([[0.]], dtype=float32), 'prev_done': array([0.], dtype=float32)}, array([0.]), array([False]), {'inv': array([3000.]), 'demand': array([0.]), 'true_demand': array([0.37537155]), 'action': array([0.63]), 'reward': array([0.]), 'true_reward': array([0.23648408])})\n",
      "({'features': array([0.13327058, 0.47536477, 0.15386378, 0.42014941, 0.40880613]), 'inventory': array([[1.]], dtype=float32), 'prev_action': array([[-0.8]], dtype=float32), 'prev_reward': array([[0.36663154]], dtype=float32), 'prev_done': array([0.], dtype=float32)}, array([0.36663154]), array([False]), {'inv': array([3000.]), 'demand': array([2.20271771]), 'true_demand': array([1.85909078]), 'action': array([0.5]), 'reward': array([1.10135885]), 'true_reward': array([0.92954539])})\n",
      "({'features': array([0.49171144, 0.02184762, 0.2789022 , 0.186241  , 0.01697969]), 'inventory': array([[1.]], dtype=float32), 'prev_action': array([[-0.812]], dtype=float32), 'prev_reward': array([[0.]], dtype=float32), 'prev_done': array([0.], dtype=float32)}, array([0.]), array([False]), {'inv': array([3000.]), 'demand': array([0.]), 'true_demand': array([1.92254376]), 'action': array([0.47]), 'reward': array([0.]), 'true_reward': array([0.90359557])})\n",
      "({'features': array([0.07161778, 0.2469719 , 0.06082458, 0.04243093, 0.44734507]), 'inventory': array([[1.]], dtype=float32), 'prev_action': array([[-0.804]], dtype=float32), 'prev_reward': array([[0.]], dtype=float32), 'prev_done': array([0.], dtype=float32)}, array([0.]), array([False]), {'inv': array([3000.]), 'demand': array([0.]), 'true_demand': array([0.66146049]), 'action': array([0.49]), 'reward': array([0.]), 'true_reward': array([0.32411564])})\n",
      "({'features': array([0.33614156, 0.35996475, 0.31743592, 0.22854359, 0.13711669]), 'inventory': array([[1.]], dtype=float32), 'prev_action': array([[-0.804]], dtype=float32), 'prev_reward': array([[0.20086621]], dtype=float32), 'prev_done': array([0.], dtype=float32)}, array([0.2008662]), array([False]), {'inv': array([3000.]), 'demand': array([1.14585582]), 'true_demand': array([0.95597616]), 'action': array([0.49]), 'reward': array([0.56146935]), 'true_reward': array([0.46842832])})\n",
      "({'features': array([0.39351279, 0.36864068, 0.09238658, 0.02969344, 0.41686992]), 'inventory': array([[1.]], dtype=float32), 'prev_action': array([[-0.808]], dtype=float32), 'prev_reward': array([[0.69659126]], dtype=float32), 'prev_done': array([0.], dtype=float32)}, array([0.69659126]), array([False]), {'inv': array([3000.]), 'demand': array([1.33008434]), 'true_demand': array([1.41954233]), 'action': array([0.48]), 'reward': array([0.63844049]), 'true_reward': array([0.68138032])})\n",
      "({'features': array([0.02101848, 0.00267183, 0.18562603, 0.11333112, 0.17182744]), 'inventory': array([[1.]], dtype=float32), 'prev_action': array([[-0.808]], dtype=float32), 'prev_reward': array([[86857.2]], dtype=float32), 'prev_done': array([0.], dtype=float32)}, array([86857.20482197]), array([False]), {'inv': array([3000.]), 'demand': array([0.18095251]), 'true_demand': array([1.35364137]), 'action': array([0.48]), 'reward': array([0.0868572]), 'true_reward': array([0.64974786])})\n",
      "({'features': array([0.08408407, 0.15486623, 0.42652799, 0.43831341, 0.11741032]), 'inventory': array([[1.]], dtype=float32), 'prev_action': array([[-0.796]], dtype=float32), 'prev_reward': array([[0.53616834]], dtype=float32), 'prev_done': array([0.], dtype=float32)}, array([0.53616834]), array([False]), {'inv': array([3000.]), 'demand': array([1.35713883]), 'true_demand': array([0.35560217]), 'action': array([0.51]), 'reward': array([0.6921408]), 'true_reward': array([0.18135711])})\n",
      "({'features': array([0.38693164, 0.08583656, 0.35637579, 0.39085663, 0.24724672]), 'inventory': array([[1.]], dtype=float32), 'prev_action': array([[-0.836]], dtype=float32), 'prev_reward': array([[0.86796373]], dtype=float32), 'prev_done': array([0.], dtype=float32)}, array([0.8679637]), array([False]), {'inv': array([3000.]), 'demand': array([0.79535513]), 'true_demand': array([1.19767225]), 'action': array([0.41]), 'reward': array([0.3260956]), 'true_reward': array([0.49104562])})\n",
      "({'features': array([0.29487692, 0.30893825, 0.26445071, 0.0143631 , 0.10596911]), 'inventory': array([[1.]], dtype=float32), 'prev_action': array([[-0.836]], dtype=float32), 'prev_reward': array([[0.51041245]], dtype=float32), 'prev_done': array([0.], dtype=float32)}, array([0.51041247]), array([False]), {'inv': array([3000.]), 'demand': array([2.30134508]), 'true_demand': array([1.25417653]), 'action': array([0.41]), 'reward': array([0.94355148]), 'true_reward': array([0.51421238])})\n",
      "({'features': array([0.28832828, 0.3752394 , 0.05765429, 0.03589295, 0.43099491]), 'inventory': array([[1.]], dtype=float32), 'prev_action': array([[-0.836]], dtype=float32), 'prev_reward': array([[0.8820436]], dtype=float32), 'prev_done': array([0.], dtype=float32)}, array([0.88204363]), array([False]), {'inv': array([3000.]), 'demand': array([0.73727422]), 'true_demand': array([1.0355163]), 'action': array([0.41]), 'reward': array([0.30228243]), 'true_reward': array([0.42456168])})\n",
      "({'features': array([0.49910571, 0.15425087, 0.10899553, 0.35594672, 0.32101242]), 'inventory': array([[1.]], dtype=float32), 'prev_action': array([[-0.824]], dtype=float32), 'prev_reward': array([[0.38063183]], dtype=float32), 'prev_done': array([0.], dtype=float32)}, array([0.38063184]), array([False]), {'inv': array([3000.]), 'demand': array([1.35877474]), 'true_demand': array([1.32774162]), 'action': array([0.44]), 'reward': array([0.59786089]), 'true_reward': array([0.58420631])})\n",
      "({'features': array([0.17356221, 0.48390385, 0.24063254, 0.25541357, 0.26820182]), 'inventory': array([[1.]], dtype=float32), 'prev_action': array([[-0.8]], dtype=float32), 'prev_reward': array([[0.5646748]], dtype=float32), 'prev_done': array([0.], dtype=float32)}, array([0.56467478]), array([False]), {'inv': array([3000.]), 'demand': array([1.37251353]), 'true_demand': array([1.30523509]), 'action': array([0.5]), 'reward': array([0.68625676]), 'true_reward': array([0.65261754])})\n",
      "({'features': array([0.16002739, 0.27712895, 0.27973228, 0.46965654, 0.05445674]), 'inventory': array([[1.]], dtype=float32), 'prev_action': array([[-0.8]], dtype=float32), 'prev_reward': array([[0.8449929]], dtype=float32), 'prev_done': array([0.], dtype=float32)}, array([0.84499285]), array([False]), {'inv': array([3000.]), 'demand': array([1.04808325]), 'true_demand': array([1.67029875]), 'action': array([0.5]), 'reward': array([0.52404163]), 'true_reward': array([0.83514938])})\n",
      "({'features': array([0.1375362 , 0.43152649, 0.47218477, 0.09559235, 0.45533826]), 'inventory': array([[1.]], dtype=float32), 'prev_action': array([[-0.792]], dtype=float32), 'prev_reward': array([[253993.58]], dtype=float32), 'prev_done': array([0.], dtype=float32)}, array([253993.57927968]), array([False]), {'inv': array([3000.]), 'demand': array([0.48844919]), 'true_demand': array([1.35053163]), 'action': array([0.52]), 'reward': array([0.25399358]), 'true_reward': array([0.70227645])})\n",
      "({'features': array([0.06324362, 0.43030658, 0.02930616, 0.46370239, 0.36947528]), 'inventory': array([[1.]], dtype=float32), 'prev_action': array([[-0.772]], dtype=float32), 'prev_reward': array([[0.93810284]], dtype=float32), 'prev_done': array([0.], dtype=float32)}, array([0.93810287]), array([False]), {'inv': array([3000.]), 'demand': array([1.04590579]), 'true_demand': array([1.52486732]), 'action': array([0.57]), 'reward': array([0.5961663]), 'true_reward': array([0.86917437])})\n",
      "({'features': array([0.3352836 , 0.33212243, 0.39470346, 0.26403019, 0.37816436]), 'inventory': array([[1.]], dtype=float32), 'prev_action': array([[-0.828]], dtype=float32), 'prev_reward': array([[0.12178966]], dtype=float32), 'prev_done': array([0.], dtype=float32)}, array([0.12178967]), array([False]), {'inv': array([3000.]), 'demand': array([1.61012609]), 'true_demand': array([1.76910209]), 'action': array([0.43]), 'reward': array([0.69235422]), 'true_reward': array([0.7607139])})\n",
      "({'features': array([0.29251945, 0.27086191, 0.47904164, 0.34075945, 0.01709619]), 'inventory': array([[1.]], dtype=float32), 'prev_action': array([[-0.804]], dtype=float32), 'prev_reward': array([[0.586937]], dtype=float32), 'prev_done': array([0.], dtype=float32)}, array([0.58693703]), array([False]), {'inv': array([3000.]), 'demand': array([1.96126666]), 'true_demand': array([1.61585245]), 'action': array([0.49]), 'reward': array([0.96102067]), 'true_reward': array([0.7917677])})\n",
      "({'features': array([0.48558888, 0.37429751, 0.2111415 , 0.43605018, 0.35986267]), 'inventory': array([[1.]], dtype=float32), 'prev_action': array([[-0.808]], dtype=float32), 'prev_reward': array([[0.6398399]], dtype=float32), 'prev_done': array([0.], dtype=float32)}, array([0.63983987]), array([False]), {'inv': array([3000.]), 'demand': array([2.25044779]), 'true_demand': array([1.32490395]), 'action': array([0.48]), 'reward': array([1.08021494]), 'true_reward': array([0.6359539])})\n",
      "({'features': array([0.42252194, 0.0754261 , 0.18958482, 0.051758  , 0.08849745]), 'inventory': array([[1.]], dtype=float32), 'prev_action': array([[-0.792]], dtype=float32), 'prev_reward': array([[210786.27]], dtype=float32), 'prev_done': array([0.], dtype=float32)}, array([210786.2689854]), array([False]), {'inv': array([3000.]), 'demand': array([0.40535821]), 'true_demand': array([1.88835351]), 'action': array([0.52]), 'reward': array([0.21078627]), 'true_reward': array([0.98194383])})\n",
      "({'features': array([0.14002709, 0.28708254, 0.29728793, 0.04344667, 0.09321469]), 'inventory': array([[1.]], dtype=float32), 'prev_action': array([[-0.764]], dtype=float32), 'prev_reward': array([[0.98603266]], dtype=float32), 'prev_done': array([0.], dtype=float32)}, array([0.98603267]), array([False]), {'inv': array([3000.]), 'demand': array([0.49243289]), 'true_demand': array([0.52183597]), 'action': array([0.59]), 'reward': array([0.2905354]), 'true_reward': array([0.30788322])})\n",
      "({'features': array([0.15145387, 0.13632221, 0.07624737, 0.35752608, 0.12131522]), 'inventory': array([[1.]], dtype=float32), 'prev_action': array([[-0.832]], dtype=float32), 'prev_reward': array([[0.58386254]], dtype=float32), 'prev_done': array([0.], dtype=float32)}, array([0.58386256]), array([False]), {'inv': array([3000.]), 'demand': array([1.2321035]), 'true_demand': array([0.93045968]), 'action': array([0.42]), 'reward': array([0.51748347]), 'true_reward': array([0.39079307])})\n",
      "({'features': array([0.46510227, 0.04973012, 0.4449509 , 0.03383534, 0.10164229]), 'inventory': array([[1.]], dtype=float32), 'prev_action': array([[-0.816]], dtype=float32), 'prev_reward': array([[170220.03]], dtype=float32), 'prev_done': array([0.], dtype=float32)}, array([170220.03361904]), array([False]), {'inv': array([3000.]), 'demand': array([0.37004355]), 'true_demand': array([0.92495387]), 'action': array([0.46]), 'reward': array([0.17022003]), 'true_reward': array([0.42547878])})\n",
      "({'features': array([0.06759233, 0.40215686, 0.16682858, 0.42953253, 0.01614875]), 'inventory': array([[1.]], dtype=float32), 'prev_action': array([[-0.792]], dtype=float32), 'prev_reward': array([[1.0088183]], dtype=float32), 'prev_done': array([0.], dtype=float32)}, array([1.00881825]), array([False]), {'inv': array([3000.]), 'demand': array([0.51268044]), 'true_demand': array([0.61310055]), 'action': array([0.52]), 'reward': array([0.26659383]), 'true_reward': array([0.31881228])})\n",
      "({'features': array([0.07098624, 0.42058923, 0.36046825, 0.31549517, 0.18116185]), 'inventory': array([[1.]], dtype=float32), 'prev_action': array([[-0.844]], dtype=float32), 'prev_reward': array([[0.27094418]], dtype=float32), 'prev_done': array([0.], dtype=float32)}, array([0.27094417]), array([False]), {'inv': array([3000.]), 'demand': array([1.85205039]), 'true_demand': array([1.48012803]), 'action': array([0.39]), 'reward': array([0.72229965]), 'true_reward': array([0.57724993])})\n",
      "({'features': array([0.20045198, 0.31638487, 0.24334741, 0.1381276 , 0.41481757]), 'inventory': array([[1.]], dtype=float32), 'prev_action': array([[-0.832]], dtype=float32), 'prev_reward': array([[0.35701275]], dtype=float32), 'prev_done': array([0.], dtype=float32)}, array([0.35701275]), array([False]), {'inv': array([3000.]), 'demand': array([2.9726452]), 'true_demand': array([1.58694815]), 'action': array([0.42]), 'reward': array([1.24851098]), 'true_reward': array([0.66651822])})\n",
      "({'features': array([0.08817681, 0.18834187, 0.00041923, 0.35207262, 0.10031644]), 'inventory': array([[1.]], dtype=float32), 'prev_action': array([[-0.828]], dtype=float32), 'prev_reward': array([[0.37171078]], dtype=float32), 'prev_done': array([0.], dtype=float32)}, array([0.37171078]), array([False]), {'inv': array([3000.]), 'demand': array([2.2814206]), 'true_demand': array([1.35754268]), 'action': array([0.43]), 'reward': array([0.98101086]), 'true_reward': array([0.58374335])})\n",
      "({'features': array([0.17271114, 0.01389482, 0.00382138, 0.4112324 , 0.40369267]), 'inventory': array([[1.]], dtype=float32), 'prev_action': array([[-0.812]], dtype=float32), 'prev_reward': array([[0.12195361]], dtype=float32), 'prev_done': array([0.], dtype=float32)}, array([0.1219536]), array([False]), {'inv': array([3000.]), 'demand': array([1.63639858]), 'true_demand': array([0.93729068]), 'action': array([0.47]), 'reward': array([0.76910733]), 'true_reward': array([0.44052662])})\n",
      "({'features': array([0.06584257, 0.2828124 , 0.07668567, 0.16344843, 0.02562996]), 'inventory': array([[1.]], dtype=float32), 'prev_action': array([[-0.788]], dtype=float32), 'prev_reward': array([[0.12116513]], dtype=float32), 'prev_done': array([0.], dtype=float32)}, array([0.12116512]), array([False]), {'inv': array([3000.]), 'demand': array([1.77409624]), 'true_demand': array([0.94158487]), 'action': array([0.53]), 'reward': array([0.94027101]), 'true_reward': array([0.49903998])})\n",
      "({'features': array([0.42069976, 0.34391833, 0.29480148, 0.42460515, 0.19913658]), 'inventory': array([[1.]], dtype=float32), 'prev_action': array([[-0.792]], dtype=float32), 'prev_reward': array([[5.2453175]], dtype=float32), 'prev_done': array([0.], dtype=float32)}, array([5.24531737]), array([False]), {'inv': array([3000.]), 'demand': array([0.38113869]), 'true_demand': array([0.84426969]), 'action': array([0.52]), 'reward': array([0.19819212]), 'true_reward': array([0.43902024])})\n",
      "({'features': array([0.25480929, 0.17676652, 0.07379045, 0.12726977, 0.32240065]), 'inventory': array([[1.]], dtype=float32), 'prev_action': array([[-0.776]], dtype=float32), 'prev_reward': array([[0.6319122]], dtype=float32), 'prev_done': array([0.], dtype=float32)}, array([0.6319122]), array([False]), {'inv': array([3000.]), 'demand': array([1.88667237]), 'true_demand': array([1.64983504]), 'action': array([0.56]), 'reward': array([1.05653653]), 'true_reward': array([0.92390762])})\n",
      "({'features': array([0.23773551, 0.49394681, 0.45395814, 0.00977574, 0.3830822 ]), 'inventory': array([[1.]], dtype=float32), 'prev_action': array([[-0.788]], dtype=float32), 'prev_reward': array([[0.3830669]], dtype=float32), 'prev_done': array([0.], dtype=float32)}, array([0.38306691]), array([False]), {'inv': array([3000.]), 'demand': array([1.88511283]), 'true_demand': array([0.91579827]), 'action': array([0.53]), 'reward': array([0.9991098]), 'true_reward': array([0.48537308])})\n",
      "({'features': array([0.03829398, 0.37496417, 0.24851676, 0.38464573, 0.28196926]), 'inventory': array([[1.]], dtype=float32), 'prev_action': array([[-0.796]], dtype=float32), 'prev_reward': array([[0.]], dtype=float32), 'prev_done': array([0.], dtype=float32)}, array([0.]), array([False]), {'inv': array([3000.]), 'demand': array([0.]), 'true_demand': array([1.5813044]), 'action': array([0.51]), 'reward': array([0.]), 'true_reward': array([0.80646524])})\n",
      "({'features': array([0.45380903, 0.18435747, 0.25717066, 0.37002644, 0.03814883]), 'inventory': array([[1.]], dtype=float32), 'prev_action': array([[-0.792]], dtype=float32), 'prev_reward': array([[0.5255226]], dtype=float32), 'prev_done': array([0.], dtype=float32)}, array([0.5255226]), array([False]), {'inv': array([3000.]), 'demand': array([1.19395919]), 'true_demand': array([1.54478366]), 'action': array([0.52]), 'reward': array([0.62085878]), 'true_reward': array([0.8032875])})\n",
      "({'features': array([0.39556863, 0.15942916, 0.15851749, 0.43669473, 0.33856758]), 'inventory': array([[1.]], dtype=float32), 'prev_action': array([[-0.78]], dtype=float32), 'prev_reward': array([[0.8240443]], dtype=float32), 'prev_done': array([0.], dtype=float32)}, array([0.82404428]), array([False]), {'inv': array([3000.]), 'demand': array([1.06173971]), 'true_demand': array([1.15247632]), 'action': array([0.55]), 'reward': array([0.58395684]), 'true_reward': array([0.63386198])})\n",
      "({'features': array([0.43708695, 0.29510421, 0.40349517, 0.04325314, 0.42656172]), 'inventory': array([[1.]], dtype=float32), 'prev_action': array([[-0.76]], dtype=float32), 'prev_reward': array([[0.6181604]], dtype=float32), 'prev_done': array([0.], dtype=float32)}, array([0.61816042]), array([False]), {'inv': array([3000.]), 'demand': array([1.32314661]), 'true_demand': array([1.33867589]), 'action': array([0.6]), 'reward': array([0.79388796]), 'true_reward': array([0.80320553])})\n",
      "({'features': array([0.29782073, 0.12348091, 0.32552925, 0.3674831 , 0.1671863 ]), 'inventory': array([[1.]], dtype=float32), 'prev_action': array([[-0.76]], dtype=float32), 'prev_reward': array([[164650.53]], dtype=float32), 'prev_done': array([0.], dtype=float32)}, array([164650.53594825]), array([False]), {'inv': array([3000.]), 'demand': array([0.27441756]), 'true_demand': array([1.26280282]), 'action': array([0.6]), 'reward': array([0.16465054]), 'true_reward': array([0.75768169])})\n",
      "({'features': array([0.24473858, 0.08346467, 0.09006938, 0.27026552, 0.29029093]), 'inventory': array([[1.]], dtype=float32), 'prev_action': array([[-0.732]], dtype=float32), 'prev_reward': array([[0.9969876]], dtype=float32), 'prev_done': array([0.], dtype=float32)}, array([0.99698757]), array([False]), {'inv': array([3000.]), 'demand': array([0.7292502]), 'true_demand': array([0.99193853]), 'action': array([0.67]), 'reward': array([0.48859763]), 'true_reward': array([0.66459881])})\n",
      "({'features': array([0.46623356, 0.1592321 , 0.32908941, 0.39991941, 0.22667234]), 'inventory': array([[1.]], dtype=float32), 'prev_action': array([[-0.812]], dtype=float32), 'prev_reward': array([[0.32906353]], dtype=float32), 'prev_done': array([0.], dtype=float32)}, array([0.32906353]), array([False]), {'inv': array([3000.]), 'demand': array([1.92452998]), 'true_demand': array([0.89912272]), 'action': array([0.47]), 'reward': array([0.90452909]), 'true_reward': array([0.42258768])})\n",
      "({'features': array([0.46239974, 0.02088393, 0.30183596, 0.10106856, 0.11117948]), 'inventory': array([[1.]], dtype=float32), 'prev_action': array([[-0.784]], dtype=float32), 'prev_reward': array([[0.67339194]], dtype=float32), 'prev_done': array([0.], dtype=float32)}, array([0.67339191]), array([False]), {'inv': array([3000.]), 'demand': array([1.81007065]), 'true_demand': array([1.32452185]), 'action': array([0.54]), 'reward': array([0.97743815]), 'true_reward': array([0.7152418])})\n",
      "({'features': array([0.16387441, 0.40838036, 0.39028664, 0.3233104 , 0.04141926]), 'inventory': array([[1.]], dtype=float32), 'prev_action': array([[-0.784]], dtype=float32), 'prev_reward': array([[0.98438]], dtype=float32), 'prev_done': array([0.], dtype=float32)}, array([0.98438004]), array([False]), {'inv': array([3000.]), 'demand': array([0.56712438]), 'true_demand': array([0.57992983]), 'action': array([0.54]), 'reward': array([0.30624717]), 'true_reward': array([0.31316211])})\n",
      "({'features': array([0.18146961, 0.0160678 , 0.18710855, 0.40027363, 0.06044146]), 'inventory': array([[1.]], dtype=float32), 'prev_action': array([[-0.776]], dtype=float32), 'prev_reward': array([[1.1339381]], dtype=float32), 'prev_done': array([0.], dtype=float32)}, array([1.13393806]), array([False]), {'inv': array([3000.]), 'demand': array([0.84329987]), 'true_demand': array([1.43011978]), 'action': array([0.56]), 'reward': array([0.47224793]), 'true_reward': array([0.80086708])})\n",
      "({'features': array([0.09616747, 0.16137231, 0.13404336, 0.21948948, 0.16202461]), 'inventory': array([[1.]], dtype=float32), 'prev_action': array([[-0.76]], dtype=float32), 'prev_reward': array([[2.0791492]], dtype=float32), 'prev_done': array([0.], dtype=float32)}, array([2.07914928]), array([False]), {'inv': array([3000.]), 'demand': array([0.31003838]), 'true_demand': array([0.70025218]), 'action': array([0.6]), 'reward': array([0.18602303]), 'true_reward': array([0.42015131])})\n",
      "({'features': array([0.42980357, 0.1784131 , 0.17384865, 0.01319885, 0.44959849]), 'inventory': array([[1.]], dtype=float32), 'prev_action': array([[-0.752]], dtype=float32), 'prev_reward': array([[0.]], dtype=float32), 'prev_done': array([0.], dtype=float32)}, array([0.]), array([False]), {'inv': array([3000.]), 'demand': array([0.]), 'true_demand': array([0.78748925]), 'action': array([0.62]), 'reward': array([0.]), 'true_reward': array([0.48824334])})\n",
      "({'features': array([0.27391607, 0.1120695 , 0.38976836, 0.40151496, 0.43938092]), 'inventory': array([[1.]], dtype=float32), 'prev_action': array([[-0.716]], dtype=float32), 'prev_reward': array([[0.7148632]], dtype=float32), 'prev_done': array([0.], dtype=float32)}, array([0.71486316]), array([False]), {'inv': array([3000.]), 'demand': array([2.40989011]), 'true_demand': array([0.89256987]), 'action': array([0.71]), 'reward': array([1.71102198]), 'true_reward': array([0.63372461])})\n",
      "({'features': array([0.05881958, 0.31254456, 0.2574003 , 0.28752745, 0.35428978]), 'inventory': array([[1.]], dtype=float32), 'prev_action': array([[-0.708]], dtype=float32), 'prev_reward': array([[0.67546386]], dtype=float32), 'prev_done': array([0.], dtype=float32)}, array([0.67546384]), array([False]), {'inv': array([3000.]), 'demand': array([2.82276274]), 'true_demand': array([1.19206689]), 'action': array([0.73]), 'reward': array([2.0606168]), 'true_reward': array([0.87020883])})\n",
      "({'features': array([0.49305713, 0.20345268, 0.42998353, 0.04995524, 0.35158707]), 'inventory': array([[1.]], dtype=float32), 'prev_action': array([[-0.704]], dtype=float32), 'prev_reward': array([[0.]], dtype=float32), 'prev_done': array([0.], dtype=float32)}, array([0.]), array([False]), {'inv': array([3000.]), 'demand': array([0.]), 'true_demand': array([1.28473093]), 'action': array([0.74]), 'reward': array([0.]), 'true_reward': array([0.95070089])})\n",
      "({'features': array([0.29412071, 0.33487646, 0.36180586, 0.0986745 , 0.20885424]), 'inventory': array([[1.]], dtype=float32), 'prev_action': array([[-0.692]], dtype=float32), 'prev_reward': array([[1.0033821]], dtype=float32), 'prev_done': array([0.], dtype=float32)}, array([1.00338213]), array([False]), {'inv': array([3000.]), 'demand': array([0.79509979]), 'true_demand': array([0.88730304]), 'action': array([0.77]), 'reward': array([0.61222684]), 'true_reward': array([0.68322334])})\n",
      "({'features': array([0.41409938, 0.01444856, 0.02197104, 0.31163392, 0.17942544]), 'inventory': array([[1.]], dtype=float32), 'prev_action': array([[-0.692]], dtype=float32), 'prev_reward': array([[0.901587]], dtype=float32), 'prev_done': array([0.], dtype=float32)}, array([0.90158699]), array([False]), {'inv': array([3000.]), 'demand': array([1.2491711]), 'true_demand': array([1.02443424]), 'action': array([0.77]), 'reward': array([0.96186175]), 'true_reward': array([0.78881436])})\n",
      "({'features': array([0.34137327, 0.04591585, 0.12060595, 0.06397304, 0.22924024]), 'inventory': array([[1.]], dtype=float32), 'prev_action': array([[-0.668]], dtype=float32), 'prev_reward': array([[1.3552991]], dtype=float32), 'prev_done': array([0.], dtype=float32)}, array([1.35529916]), array([False]), {'inv': array([3000.]), 'demand': array([0.33912145]), 'true_demand': array([0.66622109]), 'action': array([0.83]), 'reward': array([0.2814708]), 'true_reward': array([0.5529635])})\n",
      "({'features': array([0.21576014, 0.00576096, 0.17066913, 0.40990849, 0.49793761]), 'inventory': array([[1.]], dtype=float32), 'prev_action': array([[-0.672]], dtype=float32), 'prev_reward': array([[0.9614425]], dtype=float32), 'prev_done': array([0.], dtype=float32)}, array([0.96144248]), array([False]), {'inv': array([3000.]), 'demand': array([0.68415358]), 'true_demand': array([0.43512975]), 'action': array([0.82]), 'reward': array([0.56100594]), 'true_reward': array([0.3568064])})\n",
      "({'features': array([0.32085185, 0.43544194, 0.17158614, 0.374385  , 0.25525665]), 'inventory': array([[1.]], dtype=float32), 'prev_action': array([[-0.656]], dtype=float32), 'prev_reward': array([[0.5250239]], dtype=float32), 'prev_done': array([0.], dtype=float32)}, array([0.5250239]), array([False]), {'inv': array([3000.]), 'demand': array([1.67441533]), 'true_demand': array([0.97692494]), 'action': array([0.86]), 'reward': array([1.43999719]), 'true_reward': array([0.84015545])})\n",
      "({'features': array([0.31850654, 0.4311436 , 0.12679644, 0.30858425, 0.43375254]), 'inventory': array([[1.]], dtype=float32), 'prev_action': array([[-0.644]], dtype=float32), 'prev_reward': array([[0.7718908]], dtype=float32), 'prev_done': array([0.], dtype=float32)}, array([0.7718908]), array([False]), {'inv': array([3000.]), 'demand': array([1.4448865]), 'true_demand': array([1.54148751]), 'action': array([0.89]), 'reward': array([1.28594898]), 'true_reward': array([1.37192388])})\n",
      "({'features': array([0.46367237, 0.49440208, 0.37318216, 0.15868518, 0.38655878]), 'inventory': array([[1.]], dtype=float32), 'prev_action': array([[-0.64]], dtype=float32), 'prev_reward': array([[0.67240846]], dtype=float32), 'prev_done': array([0.], dtype=float32)}, array([0.67240848]), array([False]), {'inv': array([3000.]), 'demand': array([1.58209448]), 'true_demand': array([1.60509371]), 'action': array([0.9]), 'reward': array([1.42388503]), 'true_reward': array([1.44458434])})\n",
      "({'features': array([0.45329345, 0.45625252, 0.2714313 , 0.35211957, 0.31304172]), 'inventory': array([[1.]], dtype=float32), 'prev_action': array([[-0.636]], dtype=float32), 'prev_reward': array([[0.85217613]], dtype=float32), 'prev_done': array([0.], dtype=float32)}, array([0.85217612]), array([False]), {'inv': array([3000.]), 'demand': array([2.65700293]), 'true_demand': array([1.46378919]), 'action': array([0.91]), 'reward': array([2.41787267]), 'true_reward': array([1.33204816])})\n",
      "({'features': array([0.00641141, 0.45808058, 0.02079372, 0.48285237, 0.16111136]), 'inventory': array([[1.]], dtype=float32), 'prev_action': array([[-0.628]], dtype=float32), 'prev_reward': array([[2.053418]], dtype=float32), 'prev_done': array([0.], dtype=float32)}, array([2.05341791]), array([False]), {'inv': array([3000.]), 'demand': array([0.59263221]), 'true_demand': array([1.57573524]), 'action': array([0.93]), 'reward': array([0.55114795]), 'true_reward': array([1.46543377])})\n",
      "({'features': array([0.39892378, 0.00195539, 0.48954121, 0.41765034, 0.34352882]), 'inventory': array([[1.]], dtype=float32), 'prev_action': array([[-0.656]], dtype=float32), 'prev_reward': array([[0.2038431]], dtype=float32), 'prev_done': array([0.], dtype=float32)}, array([0.2038431]), array([False]), {'inv': array([3000.]), 'demand': array([2.29068837]), 'true_demand': array([1.61338163]), 'action': array([0.86]), 'reward': array([1.969992]), 'true_reward': array([1.3875082])})\n",
      "({'features': array([0.28876537, 0.36619921, 0.41385727, 0.47037113, 0.04869713]), 'inventory': array([[1.]], dtype=float32), 'prev_action': array([[-0.628]], dtype=float32), 'prev_reward': array([[0.93686014]], dtype=float32), 'prev_done': array([0.], dtype=float32)}, array([0.93686014]), array([False]), {'inv': array([3000.]), 'demand': array([0.33424189]), 'true_demand': array([0.78149972]), 'action': array([0.93]), 'reward': array([0.31084496]), 'true_reward': array([0.72679474])})\n",
      "({'features': array([0.01337082, 0.02927496, 0.11490841, 0.13430095, 0.32055824]), 'inventory': array([[1.]], dtype=float32), 'prev_action': array([[-0.64]], dtype=float32), 'prev_reward': array([[1.6965867]], dtype=float32), 'prev_done': array([0.], dtype=float32)}, array([1.69658669]), array([False]), {'inv': array([3000.]), 'demand': array([0.4606091]), 'true_demand': array([1.30227169]), 'action': array([0.9]), 'reward': array([0.41454819]), 'true_reward': array([1.17204452])})\n",
      "({'features': array([0.2467437 , 0.23016842, 0.4146542 , 0.40103737, 0.26671569]), 'inventory': array([[1.]], dtype=float32), 'prev_action': array([[-0.652]], dtype=float32), 'prev_reward': array([[0.]], dtype=float32), 'prev_done': array([0.], dtype=float32)}, array([0.]), array([False]), {'inv': array([3000.]), 'demand': array([0.]), 'true_demand': array([0.48629307]), 'action': array([0.87]), 'reward': array([0.]), 'true_reward': array([0.42307497])})\n",
      "({'features': array([0.17115232, 0.48467979, 0.43703058, 0.05656432, 0.25949497]), 'inventory': array([[1.]], dtype=float32), 'prev_action': array([[-0.616]], dtype=float32), 'prev_reward': array([[1.3280863]], dtype=float32), 'prev_done': array([0.], dtype=float32)}, array([1.32808628]), array([False]), {'inv': array([3000.]), 'demand': array([0.45430064]), 'true_demand': array([1.09317944]), 'action': array([0.96]), 'reward': array([0.43612862]), 'true_reward': array([1.04945226])})\n",
      "({'features': array([0.22152202, 0.24574487, 0.39561128, 0.25422322, 0.25201148]), 'inventory': array([[1.]], dtype=float32), 'prev_action': array([[-0.64]], dtype=float32), 'prev_reward': array([[0.87456834]], dtype=float32), 'prev_done': array([0.], dtype=float32)}, array([0.87456834]), array([False]), {'inv': array([3000.]), 'demand': array([2.02595171]), 'true_demand': array([1.15730432]), 'action': array([0.9]), 'reward': array([1.82335654]), 'true_reward': array([1.04157389])})\n",
      "({'features': array([0.40918836, 0.23787309, 0.10529107, 0.00120593, 0.32607584]), 'inventory': array([[1.]], dtype=float32), 'prev_action': array([[-0.636]], dtype=float32), 'prev_reward': array([[1.0474885]], dtype=float32), 'prev_done': array([0.], dtype=float32)}, array([1.04748842]), array([False]), {'inv': array([3000.]), 'demand': array([0.67448876]), 'true_demand': array([0.96106814]), 'action': array([0.91]), 'reward': array([0.61378477]), 'true_reward': array([0.87457201])})\n",
      "({'features': array([0.10161986, 0.38629243, 0.44210684, 0.31307058, 0.40580419]), 'inventory': array([[1.]], dtype=float32), 'prev_action': array([[-0.628]], dtype=float32), 'prev_reward': array([[0.8297404]], dtype=float32), 'prev_done': array([0.], dtype=float32)}, array([0.82974041]), array([False]), {'inv': array([3000.]), 'demand': array([2.55381747]), 'true_demand': array([0.76168842]), 'action': array([0.93]), 'reward': array([2.37505024]), 'true_reward': array([0.70837023])})\n",
      "({'features': array([0.09371728, 0.06262004, 0.27907345, 0.45752429, 0.3988565 ]), 'inventory': array([[1.]], dtype=float32), 'prev_action': array([[-0.624]], dtype=float32), 'prev_reward': array([[0.]], dtype=float32), 'prev_done': array([0.], dtype=float32)}, array([0.]), array([False]), {'inv': array([3000.]), 'demand': array([0.]), 'true_demand': array([1.38405474]), 'action': array([0.94]), 'reward': array([0.]), 'true_reward': array([1.30101145])})\n",
      "({'features': array([0.35491665, 0.13382041, 0.32287821, 0.08559982, 0.3206766 ]), 'inventory': array([[1.]], dtype=float32), 'prev_action': array([[-0.584]], dtype=float32), 'prev_reward': array([[0.75448304]], dtype=float32), 'prev_done': array([0.], dtype=float32)}, array([0.75448306]), array([False]), {'inv': array([3000.]), 'demand': array([1.13209077]), 'true_demand': array([0.95822014]), 'action': array([1.04]), 'reward': array([1.1773744]), 'true_reward': array([0.99654895])})\n",
      "({'features': array([0.01045586, 0.39377257, 0.29689673, 0.31473098, 0.12720095]), 'inventory': array([[1.]], dtype=float32), 'prev_action': array([[-0.588]], dtype=float32), 'prev_reward': array([[0.41966656]], dtype=float32), 'prev_done': array([0.], dtype=float32)}, array([0.41966657]), array([False]), {'inv': array([3000.]), 'demand': array([0.06064269]), 'true_demand': array([0.54201426]), 'action': array([1.03]), 'reward': array([0.06246197]), 'true_reward': array([0.55827469])})\n",
      "({'features': array([0.2795764 , 0.15232897, 0.33517959, 0.01070364, 0.08636851]), 'inventory': array([[1.]], dtype=float32), 'prev_action': array([[-0.596]], dtype=float32), 'prev_reward': array([[5.628954]], dtype=float32), 'prev_done': array([0.], dtype=float32)}, array([5.62895413]), array([False]), {'inv': array([3000.]), 'demand': array([0.37635618]), 'true_demand': array([1.14728647]), 'action': array([1.01]), 'reward': array([0.38011974]), 'true_reward': array([1.15875934])})\n",
      "({'features': array([0.06175673, 0.41340817, 0.01166372, 0.35123988, 0.37666312]), 'inventory': array([[1.]], dtype=float32), 'prev_action': array([[-0.644]], dtype=float32), 'prev_reward': array([[1.175329]], dtype=float32), 'prev_done': array([0.], dtype=float32)}, array([1.175329]), array([False]), {'inv': array([3000.]), 'demand': array([1.58931835]), 'true_demand': array([0.36870202]), 'action': array([0.89]), 'reward': array([1.41449333]), 'true_reward': array([0.3281448])})\n",
      "({'features': array([0.36364101, 0.00845438, 0.12476873, 0.32360762, 0.07882196]), 'inventory': array([[1.]], dtype=float32), 'prev_action': array([[-0.68]], dtype=float32), 'prev_reward': array([[0.20005241]], dtype=float32), 'prev_done': array([0.], dtype=float32)}, array([0.20005241]), array([False]), {'inv': array([3000.]), 'demand': array([1.74598081]), 'true_demand': array([1.56320875]), 'action': array([0.8]), 'reward': array([1.39678465]), 'true_reward': array([1.250567])})\n",
      "({'features': array([0.27634579, 0.47769273, 0.08008792, 0.24476209, 0.22948479]), 'inventory': array([[1.]], dtype=float32), 'prev_action': array([[-0.636]], dtype=float32), 'prev_reward': array([[0.917191]], dtype=float32), 'prev_done': array([0.], dtype=float32)}, array([0.91719104]), array([False]), {'inv': array([3000.]), 'demand': array([1.73968003]), 'true_demand': array([0.52781108]), 'action': array([0.91]), 'reward': array([1.58310883]), 'true_reward': array([0.48030808])})\n",
      "({'features': array([0.48306629, 0.0917715 , 0.2320546 , 0.22286055, 0.38780808]), 'inventory': array([[1.]], dtype=float32), 'prev_action': array([[-0.636]], dtype=float32), 'prev_reward': array([[0.7605892]], dtype=float32), 'prev_done': array([0.], dtype=float32)}, array([0.76058915]), array([False]), {'inv': array([3000.]), 'demand': array([1.20543814]), 'true_demand': array([1.43273432]), 'action': array([0.91]), 'reward': array([1.09694871]), 'true_reward': array([1.30378823])})\n",
      "({'features': array([0.42345618, 0.35835307, 0.10390249, 0.13352651, 0.31796665]), 'inventory': array([[1.]], dtype=float32), 'prev_action': array([[-0.612]], dtype=float32), 'prev_reward': array([[0.]], dtype=float32), 'prev_done': array([0.], dtype=float32)}, array([0.]), array([False]), {'inv': array([3000.]), 'demand': array([0.]), 'true_demand': array([0.77901127]), 'action': array([0.97]), 'reward': array([0.]), 'true_reward': array([0.75564094])})\n",
      "({'features': array([0.39930967, 0.32390664, 0.33481306, 0.05036166, 0.09000189]), 'inventory': array([[1.]], dtype=float32), 'prev_action': array([[-0.576]], dtype=float32), 'prev_reward': array([[0.8792776]], dtype=float32), 'prev_done': array([0.], dtype=float32)}, array([0.87927756]), array([False]), {'inv': array([3000.]), 'demand': array([1.27821043]), 'true_demand': array([1.07719231]), 'action': array([1.06]), 'reward': array([1.35490306]), 'true_reward': array([1.14182384])})\n",
      "({'features': array([0.07089389, 0.47456451, 0.02231301, 0.0872494 , 0.48394277]), 'inventory': array([[1.]], dtype=float32), 'prev_action': array([[-0.596]], dtype=float32), 'prev_reward': array([[1.0674676]], dtype=float32), 'prev_done': array([0.], dtype=float32)}, array([1.06746753]), array([False]), {'inv': array([3000.]), 'demand': array([1.45008156]), 'true_demand': array([0.65806907]), 'action': array([1.01]), 'reward': array([1.46458237]), 'true_reward': array([0.66464976])})\n",
      "({'features': array([0.17241498, 0.16404022, 0.37098139, 0.04117911, 0.15649425]), 'inventory': array([[1.]], dtype=float32), 'prev_action': array([[-0.604]], dtype=float32), 'prev_reward': array([[0.26429826]], dtype=float32), 'prev_done': array([0.], dtype=float32)}, array([0.26429826]), array([False]), {'inv': array([3000.]), 'demand': array([2.06014816]), 'true_demand': array([1.41482747]), 'action': array([0.99]), 'reward': array([2.03954667]), 'true_reward': array([1.4006792])})\n",
      "({'features': array([0.22288802, 0.18821868, 0.37211607, 0.44608345, 0.03630378]), 'inventory': array([[1.]], dtype=float32), 'prev_action': array([[-0.592]], dtype=float32), 'prev_reward': array([[1.1304196]], dtype=float32), 'prev_done': array([0.], dtype=float32)}, array([1.13041957]), array([False]), {'inv': array([3000.]), 'demand': array([1.08938455]), 'true_demand': array([0.37746244]), 'action': array([1.02]), 'reward': array([1.11117224]), 'true_reward': array([0.38501169])})\n",
      "({'features': array([0.19535926, 0.02730727, 0.25582373, 0.22371453, 0.19518756]), 'inventory': array([[1.]], dtype=float32), 'prev_action': array([[-0.604]], dtype=float32), 'prev_reward': array([[0.93954533]], dtype=float32), 'prev_done': array([0.], dtype=float32)}, array([0.9395453]), array([False]), {'inv': array([3000.]), 'demand': array([1.97000241]), 'true_demand': array([0.85853075]), 'action': array([0.99]), 'reward': array([1.95030238]), 'true_reward': array([0.84994544])})\n",
      "({'features': array([0.12076788, 0.17089468, 0.37169455, 0.30683122, 0.04028405]), 'inventory': array([[1.]], dtype=float32), 'prev_action': array([[-0.608]], dtype=float32), 'prev_reward': array([[0.]], dtype=float32), 'prev_done': array([0.], dtype=float32)}, array([0.]), array([False]), {'inv': array([3000.]), 'demand': array([0.]), 'true_demand': array([0.4525181]), 'action': array([0.98]), 'reward': array([0.]), 'true_reward': array([0.44346774])})\n",
      "({'features': array([0.22466438, 0.0005734 , 0.22773648, 0.40912577, 0.16890655]), 'inventory': array([[1.]], dtype=float32), 'prev_action': array([[-0.584]], dtype=float32), 'prev_reward': array([[1.0140983]], dtype=float32), 'prev_done': array([0.], dtype=float32)}, array([1.01409833]), array([False]), {'inv': array([3000.]), 'demand': array([1.18898889]), 'true_demand': array([0.61253237]), 'action': array([1.04]), 'reward': array([1.23654844]), 'true_reward': array([0.63703366])})\n",
      "({'features': array([0.29596235, 0.0289373 , 0.12863539, 0.42068039, 0.20178614]), 'inventory': array([[1.]], dtype=float32), 'prev_action': array([[-0.588]], dtype=float32), 'prev_reward': array([[0.9107578]], dtype=float32), 'prev_done': array([0.], dtype=float32)}, array([0.91075777]), array([False]), {'inv': array([3000.]), 'demand': array([1.35079817]), 'true_demand': array([0.6051847]), 'action': array([1.03]), 'reward': array([1.39132212]), 'true_reward': array([0.62334024])})\n",
      "({'features': array([0.07844447, 0.44944651, 0.47540518, 0.22225511, 0.44960908]), 'inventory': array([[1.]], dtype=float32), 'prev_action': array([[-0.584]], dtype=float32), 'prev_reward': array([[0.]], dtype=float32), 'prev_done': array([0.], dtype=float32)}, array([0.]), array([False]), {'inv': array([3000.]), 'demand': array([0.]), 'true_demand': array([0.73530394]), 'action': array([1.04]), 'reward': array([0.]), 'true_reward': array([0.7647161])})\n",
      "({'features': array([0.0954786 , 0.14915355, 0.15569718, 0.29946873, 0.27918568]), 'inventory': array([[1.]], dtype=float32), 'prev_action': array([[-0.568]], dtype=float32), 'prev_reward': array([[0.8987606]], dtype=float32), 'prev_done': array([0.], dtype=float32)}, array([0.8987606]), array([False]), {'inv': array([3000.]), 'demand': array([1.60381249]), 'true_demand': array([1.31103593]), 'action': array([1.08]), 'reward': array([1.73211749]), 'true_reward': array([1.4159188])})\n",
      "({'features': array([0.18682295, 0.33748214, 0.43029783, 0.36849093, 0.44640767]), 'inventory': array([[1.]], dtype=float32), 'prev_action': array([[-0.572]], dtype=float32), 'prev_reward': array([[0.5683069]], dtype=float32), 'prev_done': array([0.], dtype=float32)}, array([0.56830694]), array([False]), {'inv': array([3000.]), 'demand': array([2.10850963]), 'true_demand': array([0.845336]), 'action': array([1.07]), 'reward': array([2.25610531]), 'true_reward': array([0.90450952])})\n",
      "({'features': array([0.00135587, 0.38708656, 0.28415608, 0.37295403, 0.04586386]), 'inventory': array([[1.]], dtype=float32), 'prev_action': array([[-0.572]], dtype=float32), 'prev_reward': array([[0.85843694]], dtype=float32), 'prev_done': array([0.], dtype=float32)}, array([0.85843692]), array([False]), {'inv': array([3000.]), 'demand': array([2.00616142]), 'true_demand': array([1.31755653]), 'action': array([1.07]), 'reward': array([2.14659272]), 'true_reward': array([1.40978549])})\n",
      "({'features': array([0.27720665, 0.00357868, 0.45414204, 0.37196373, 0.18243275]), 'inventory': array([[1.]], dtype=float32), 'prev_action': array([[-0.592]], dtype=float32), 'prev_reward': array([[0.74661]], dtype=float32), 'prev_done': array([0.], dtype=float32)}, array([0.74661001]), array([False]), {'inv': array([3000.]), 'demand': array([1.48041128]), 'true_demand': array([1.13684457]), 'action': array([1.02]), 'reward': array([1.5100195]), 'true_reward': array([1.15958146])})\n",
      "({'features': array([0.37144783, 0.09262278, 0.23289548, 0.25597071, 0.33454721]), 'inventory': array([[1.]], dtype=float32), 'prev_action': array([[-0.592]], dtype=float32), 'prev_reward': array([[1.1312839]], dtype=float32), 'prev_done': array([0.], dtype=float32)}, array([1.13128389]), array([False]), {'inv': array([3000.]), 'demand': array([1.69356856]), 'true_demand': array([0.50587496]), 'action': array([1.02]), 'reward': array([1.72743994]), 'true_reward': array([0.51599246])})\n",
      "({'features': array([0.18922987, 0.14319629, 0.02268904, 0.20237679, 0.16395657]), 'inventory': array([[1.]], dtype=float32), 'prev_action': array([[-0.6]], dtype=float32), 'prev_reward': array([[0.9113778]], dtype=float32), 'prev_done': array([0.], dtype=float32)}, array([0.91137777]), array([False]), {'inv': array([3000.]), 'demand': array([3.04305087]), 'true_demand': array([0.74719995]), 'action': array([1.]), 'reward': array([3.04305087]), 'true_reward': array([0.74719995])})\n",
      "({'features': array([0.47528811, 0.07602256, 0.01269668, 0.42997952, 0.37157131]), 'inventory': array([[1.]], dtype=float32), 'prev_action': array([[-0.6]], dtype=float32), 'prev_reward': array([[0.6083827]], dtype=float32), 'prev_done': array([0.], dtype=float32)}, array([0.60838271]), array([False]), {'inv': array([3000.]), 'demand': array([0.9294709]), 'true_demand': array([0.67444969]), 'action': array([1.]), 'reward': array([0.9294709]), 'true_reward': array([0.67444969])})\n",
      "({'features': array([0.11187457, 0.36711315, 0.24773651, 0.3986145 , 0.05435431]), 'inventory': array([[1.]], dtype=float32), 'prev_action': array([[-0.568]], dtype=float32), 'prev_reward': array([[0.6435383]], dtype=float32), 'prev_done': array([0.], dtype=float32)}, array([0.64353827]), array([False]), {'inv': array([3000.]), 'demand': array([2.4560199]), 'true_demand': array([1.01784082]), 'action': array([1.08]), 'reward': array([2.65250149]), 'true_reward': array([1.09926808])})\n",
      "({'features': array([0.32982179, 0.33101053, 0.48546749, 0.22071312, 0.38630195]), 'inventory': array([[1.]], dtype=float32), 'prev_action': array([[-0.572]], dtype=float32), 'prev_reward': array([[1.3837074]], dtype=float32), 'prev_done': array([0.], dtype=float32)}, array([1.3837074]), array([False]), {'inv': array([3000.]), 'demand': array([0.55936914]), 'true_demand': array([1.13357701]), 'action': array([1.07]), 'reward': array([0.59852498]), 'true_reward': array([1.2129274])})\n",
      "({'features': array([0.08452896, 0.37594144, 0.22163313, 0.12606171, 0.49028291]), 'inventory': array([[1.]], dtype=float32), 'prev_action': array([[-0.592]], dtype=float32), 'prev_reward': array([[1.0139195]], dtype=float32), 'prev_done': array([0.], dtype=float32)}, array([1.01391943]), array([False]), {'inv': array([3000.]), 'demand': array([0.82637315]), 'true_demand': array([1.08817909]), 'action': array([1.02]), 'reward': array([0.84290062]), 'true_reward': array([1.10994267])})\n",
      "({'features': array([0.13971504, 0.13881069, 0.41487678, 0.42801798, 0.24328986]), 'inventory': array([[1.]], dtype=float32), 'prev_action': array([[-0.6]], dtype=float32), 'prev_reward': array([[21563.023]], dtype=float32), 'prev_done': array([0.], dtype=float32)}, array([21563.02306735]), array([False]), {'inv': array([3000.]), 'demand': array([0.02156302]), 'true_demand': array([1.22551037]), 'action': array([1.]), 'reward': array([0.02156302]), 'true_reward': array([1.22551037])})\n",
      "({'features': array([0.49521225, 0.05773888, 0.17548244, 0.4889063 , 0.00777439]), 'inventory': array([[1.]], dtype=float32), 'prev_action': array([[-0.636]], dtype=float32), 'prev_reward': array([[0.]], dtype=float32), 'prev_done': array([0.], dtype=float32)}, array([0.]), array([False]), {'inv': array([3000.]), 'demand': array([0.]), 'true_demand': array([0.95754513]), 'action': array([0.91]), 'reward': array([0.]), 'true_reward': array([0.87136606])})\n",
      "({'features': array([0.03075891, 0.0758267 , 0.35460298, 0.28606912, 0.17704379]), 'inventory': array([[1.]], dtype=float32), 'prev_action': array([[-0.72]], dtype=float32), 'prev_reward': array([[0.]], dtype=float32), 'prev_done': array([0.], dtype=float32)}, array([0.]), array([False]), {'inv': array([3000.]), 'demand': array([0.]), 'true_demand': array([0.92033363]), 'action': array([0.7]), 'reward': array([0.]), 'true_reward': array([0.64423354])})\n",
      "({'features': array([0.48858258, 0.10238702, 0.39848153, 0.45480221, 0.35738611]), 'inventory': array([[1.]], dtype=float32), 'prev_action': array([[-0.712]], dtype=float32), 'prev_reward': array([[0.82102495]], dtype=float32), 'prev_done': array([0.], dtype=float32)}, array([0.82102493]), array([False]), {'inv': array([3000.]), 'demand': array([0.87642806]), 'true_demand': array([0.68484103]), 'action': array([0.72]), 'reward': array([0.63102821]), 'true_reward': array([0.49308554])})\n",
      "({'features': array([0.08104839, 0.29212776, 0.30160644, 0.30766138, 0.03134546]), 'inventory': array([[1.]], dtype=float32), 'prev_action': array([[-0.684]], dtype=float32), 'prev_reward': array([[0.]], dtype=float32), 'prev_done': array([0.], dtype=float32)}, array([0.]), array([False]), {'inv': array([3000.]), 'demand': array([0.]), 'true_demand': array([1.18782414]), 'action': array([0.79]), 'reward': array([0.]), 'true_reward': array([0.93838107])})\n",
      "({'features': array([0.2576263 , 0.07621451, 0.21183864, 0.48710029, 0.03262248]), 'inventory': array([[1.]], dtype=float32), 'prev_action': array([[-0.636]], dtype=float32), 'prev_reward': array([[0.85171115]], dtype=float32), 'prev_done': array([0.], dtype=float32)}, array([0.85171114]), array([False]), {'inv': array([3000.]), 'demand': array([1.13989063]), 'true_demand': array([0.92179554]), 'action': array([0.91]), 'reward': array([1.03730047]), 'true_reward': array([0.83883394])})\n",
      "({'features': array([0.33034813, 0.44133334, 0.37869315, 0.2286666 , 0.02390395]), 'inventory': array([[1.]], dtype=float32), 'prev_action': array([[-0.62]], dtype=float32), 'prev_reward': array([[1.0327312]], dtype=float32), 'prev_done': array([0.], dtype=float32)}, array([1.03273119]), array([False]), {'inv': array([3000.]), 'demand': array([0.56422804]), 'true_demand': array([0.77030778]), 'action': array([0.95]), 'reward': array([0.53601664]), 'true_reward': array([0.73179239])})\n",
      "({'features': array([0.47934285, 0.46230662, 0.08823077, 0.12759688, 0.28703116]), 'inventory': array([[1.]], dtype=float32), 'prev_action': array([[-0.628]], dtype=float32), 'prev_reward': array([[1.0361762]], dtype=float32), 'prev_done': array([0.], dtype=float32)}, array([1.03617625]), array([False]), {'inv': array([3000.]), 'demand': array([0.78540136]), 'true_demand': array([1.10047205]), 'action': array([0.93]), 'reward': array([0.73042326]), 'true_reward': array([1.02343901])})\n",
      "({'features': array([0.1062884 , 0.31727954, 0.20180725, 0.43454454, 0.21566307]), 'inventory': array([[1.]], dtype=float32), 'prev_action': array([[-0.616]], dtype=float32), 'prev_reward': array([[0.7467515]], dtype=float32), 'prev_done': array([0.], dtype=float32)}, array([0.74675146]), array([False]), {'inv': array([3000.]), 'demand': array([2.35376447]), 'true_demand': array([1.302725]), 'action': array([0.96]), 'reward': array([2.25961389]), 'true_reward': array([1.250616])})\n",
      "({'features': array([0.1614534 , 0.00528125, 0.41556725, 0.3090317 , 0.19594272]), 'inventory': array([[1.]], dtype=float32), 'prev_action': array([[-0.6]], dtype=float32), 'prev_reward': array([[0.7004093]], dtype=float32), 'prev_done': array([0.], dtype=float32)}, array([0.70040931]), array([False]), {'inv': array([3000.]), 'demand': array([1.2915482]), 'true_demand': array([1.2778476]), 'action': array([1.]), 'reward': array([1.2915482]), 'true_reward': array([1.2778476])})\n",
      "({'features': array([0.33487126, 0.28348729, 0.27063443, 0.13014452, 0.06338631]), 'inventory': array([[1.]], dtype=float32), 'prev_action': array([[-0.588]], dtype=float32), 'prev_reward': array([[0.81034446]], dtype=float32), 'prev_done': array([0.], dtype=float32)}, array([0.81034447]), array([False]), {'inv': array([3000.]), 'demand': array([0.23057098]), 'true_demand': array([0.44090971]), 'action': array([1.03]), 'reward': array([0.23748811]), 'true_reward': array([0.454137])})\n",
      "({'features': array([0.30528939, 0.07512315, 0.27006906, 0.1253428 , 0.34962165]), 'inventory': array([[1.]], dtype=float32), 'prev_action': array([[-0.592]], dtype=float32), 'prev_reward': array([[1.0168552]], dtype=float32), 'prev_done': array([0.], dtype=float32)}, array([1.01685524]), array([False]), {'inv': array([3000.]), 'demand': array([1.03465736]), 'true_demand': array([0.67162763]), 'action': array([1.02]), 'reward': array([1.05535051]), 'true_reward': array([0.68506019])})\n",
      "({'features': array([0.39488492, 0.06085015, 0.21702036, 0.30103306, 0.42336495]), 'inventory': array([[1.]], dtype=float32), 'prev_action': array([[-0.584]], dtype=float32), 'prev_reward': array([[1.0512838]], dtype=float32), 'prev_done': array([0.], dtype=float32)}, array([1.05128385]), array([False]), {'inv': array([3000.]), 'demand': array([1.58482948]), 'true_demand': array([0.52109683]), 'action': array([1.04]), 'reward': array([1.64822266]), 'true_reward': array([0.54194071])})\n",
      "({'features': array([0.37641149, 0.16948994, 0.05099909, 0.31145222, 0.21211836]), 'inventory': array([[1.]], dtype=float32), 'prev_action': array([[-0.572]], dtype=float32), 'prev_reward': array([[0.96884924]], dtype=float32), 'prev_done': array([0.], dtype=float32)}, array([0.96884923]), array([False]), {'inv': array([3000.]), 'demand': array([0.88649407]), 'true_demand': array([0.79112912]), 'action': array([1.07]), 'reward': array([0.94854865]), 'true_reward': array([0.84650816])})\n",
      "({'features': array([0.31591116, 0.42039038, 0.20144229, 0.17853938, 0.08020348]), 'inventory': array([[1.]], dtype=float32), 'prev_action': array([[-0.568]], dtype=float32), 'prev_reward': array([[11.302112]], dtype=float32), 'prev_done': array([0.], dtype=float32)}, array([11.30211194]), array([False]), {'inv': array([3000.]), 'demand': array([0.2375448]), 'true_demand': array([0.87755778]), 'action': array([1.08]), 'reward': array([0.25654838]), 'true_reward': array([0.94776241])})\n",
      "({'features': array([0.25076019, 0.2432116 , 0.4404243 , 0.46435674, 0.39721381]), 'inventory': array([[1.]], dtype=float32), 'prev_action': array([[-0.612]], dtype=float32), 'prev_reward': array([[0.87532985]], dtype=float32), 'prev_done': array([0.], dtype=float32)}, array([0.87532985]), array([False]), {'inv': array([3000.]), 'demand': array([1.49387094]), 'true_demand': array([1.05620601]), 'action': array([0.97]), 'reward': array([1.44905481]), 'true_reward': array([1.02451982])})\n",
      "({'features': array([0.1397405 , 0.07199883, 0.39635497, 0.40484851, 0.08964127]), 'inventory': array([[1.]], dtype=float32), 'prev_action': array([[-0.656]], dtype=float32), 'prev_reward': array([[0.91978043]], dtype=float32), 'prev_done': array([0.], dtype=float32)}, array([0.91978044]), array([False]), {'inv': array([3000.]), 'demand': array([1.22326348]), 'true_demand': array([1.38337956]), 'action': array([0.86]), 'reward': array([1.05200659]), 'true_reward': array([1.18970642])})\n",
      "({'features': array([0.03151539, 0.43963834, 0.43893631, 0.06160539, 0.30774503]), 'inventory': array([[1.]], dtype=float32), 'prev_action': array([[-0.656]], dtype=float32), 'prev_reward': array([[0.]], dtype=float32), 'prev_done': array([0.], dtype=float32)}, array([0.]), array([False]), {'inv': array([3000.]), 'demand': array([0.]), 'true_demand': array([0.70524629]), 'action': array([0.86]), 'reward': array([0.]), 'true_reward': array([0.60651181])})\n",
      "({'features': array([0.38564079, 0.13495557, 0.16768594, 0.47092655, 0.1064901 ]), 'inventory': array([[1.]], dtype=float32), 'prev_action': array([[-0.624]], dtype=float32), 'prev_reward': array([[0.88578224]], dtype=float32), 'prev_done': array([0.], dtype=float32)}, array([0.88578227]), array([False]), {'inv': array([3000.]), 'demand': array([1.39197358]), 'true_demand': array([1.07005571]), 'action': array([0.94]), 'reward': array([1.30845516]), 'true_reward': array([1.00585237])})\n",
      "({'features': array([0.29497793, 0.20546806, 0.12851982, 0.4279067 , 0.18746436]), 'inventory': array([[1.]], dtype=float32), 'prev_action': array([[-0.6]], dtype=float32), 'prev_reward': array([[0.8218118]], dtype=float32), 'prev_done': array([0.], dtype=float32)}, array([0.82181177]), array([False]), {'inv': array([3000.]), 'demand': array([2.25192769]), 'true_demand': array([0.92117729]), 'action': array([1.]), 'reward': array([2.25192769]), 'true_reward': array([0.92117729])})\n",
      "({'features': array([0.03480682, 0.33041585, 0.20350086, 0.0907512 , 0.22689523]), 'inventory': array([[1.]], dtype=float32), 'prev_action': array([[-0.584]], dtype=float32), 'prev_reward': array([[0.9195882]], dtype=float32), 'prev_done': array([0.], dtype=float32)}, array([0.91958823]), array([False]), {'inv': array([3000.]), 'demand': array([0.86262604]), 'true_demand': array([1.0564091]), 'action': array([1.04]), 'reward': array([0.89713108]), 'true_reward': array([1.09866547])})\n",
      "({'features': array([0.24886251, 0.31737765, 0.49586701, 0.21765143, 0.46040742]), 'inventory': array([[1.]], dtype=float32), 'prev_action': array([[-0.588]], dtype=float32), 'prev_reward': array([[0.7246968]], dtype=float32), 'prev_done': array([0.], dtype=float32)}, array([0.7246968]), array([False]), {'inv': array([3000.]), 'demand': array([1.34894544]), 'true_demand': array([0.85598554]), 'action': array([1.03]), 'reward': array([1.3894138]), 'true_reward': array([0.88166511])})\n",
      "({'features': array([0.15242398, 0.18690765, 0.35414265, 0.35517787, 0.40067085]), 'inventory': array([[1.]], dtype=float32), 'prev_action': array([[-0.576]], dtype=float32), 'prev_reward': array([[0.]], dtype=float32), 'prev_done': array([0.], dtype=float32)}, array([0.]), array([False]), {'inv': array([3000.]), 'demand': array([0.]), 'true_demand': array([1.08170996]), 'action': array([1.06]), 'reward': array([0.]), 'true_reward': array([1.14661256])})\n",
      "({'features': array([0.26626574, 0.14863602, 0.00648415, 0.27476358, 0.44001984]), 'inventory': array([[1.]], dtype=float32), 'prev_action': array([[-0.54]], dtype=float32), 'prev_reward': array([[0.86497617]], dtype=float32), 'prev_done': array([0.], dtype=float32)}, array([0.86497618]), array([False]), {'inv': array([3000.]), 'demand': array([2.1050772]), 'true_demand': array([0.96989427]), 'action': array([1.15]), 'reward': array([2.42083878]), 'true_reward': array([1.11537841])})\n",
      "({'features': array([0.15161936, 0.01275204, 0.23539702, 0.10795026, 0.23278728]), 'inventory': array([[1.]], dtype=float32), 'prev_action': array([[-0.536]], dtype=float32), 'prev_reward': array([[0.49282324]], dtype=float32), 'prev_done': array([0.], dtype=float32)}, array([0.49282323]), array([False]), {'inv': array([3000.]), 'demand': array([1.41003907]), 'true_demand': array([1.00065319]), 'action': array([1.16]), 'reward': array([1.63564532]), 'true_reward': array([1.1607577])})\n",
      "({'features': array([0.25426364, 0.13079747, 0.11864333, 0.31200928, 0.44597876]), 'inventory': array([[1.]], dtype=float32), 'prev_action': array([[-0.536]], dtype=float32), 'prev_reward': array([[1.1754586]], dtype=float32), 'prev_done': array([0.], dtype=float32)}, array([1.17545856]), array([False]), {'inv': array([3000.]), 'demand': array([0.90136383]), 'true_demand': array([0.23919609]), 'action': array([1.16]), 'reward': array([1.04558204]), 'true_reward': array([0.27746747])})\n",
      "({'features': array([0.18562198, 0.25617688, 0.12179179, 0.07531982, 0.00530169]), 'inventory': array([[1.]], dtype=float32), 'prev_action': array([[-0.548]], dtype=float32), 'prev_reward': array([[0.6459984]], dtype=float32), 'prev_done': array([0.], dtype=float32)}, array([0.64599843]), array([False]), {'inv': array([3000.]), 'demand': array([1.83396828]), 'true_demand': array([0.97365511]), 'action': array([1.13]), 'reward': array([2.07238416]), 'true_reward': array([1.10023027])})\n",
      "({'features': array([0.48466518, 0.47341036, 0.03954034, 0.07383801, 0.36084399]), 'inventory': array([[1.]], dtype=float32), 'prev_action': array([[-0.556]], dtype=float32), 'prev_reward': array([[0.9759449]], dtype=float32), 'prev_done': array([0.], dtype=float32)}, array([0.97594485]), array([False]), {'inv': array([3000.]), 'demand': array([0.78389528]), 'true_demand': array([0.50573388]), 'action': array([1.11]), 'reward': array([0.87012376]), 'true_reward': array([0.56136461])})\n",
      "({'features': array([0.29569498, 0.47986827, 0.14437   , 0.11272772, 0.14383636]), 'inventory': array([[1.]], dtype=float32), 'prev_action': array([[-0.56]], dtype=float32), 'prev_reward': array([[0.9998593]], dtype=float32), 'prev_done': array([0.], dtype=float32)}, array([0.99985928]), array([False]), {'inv': array([3000.]), 'demand': array([0.93837712]), 'true_demand': array([1.25286347]), 'action': array([1.1]), 'reward': array([1.03221483]), 'true_reward': array([1.37814982])})\n",
      "({'features': array([0.22924721, 0.22185385, 0.12218211, 0.08696821, 0.29778009]), 'inventory': array([[1.]], dtype=float32), 'prev_action': array([[-0.568]], dtype=float32), 'prev_reward': array([[1.1736054]], dtype=float32), 'prev_done': array([0.], dtype=float32)}, array([1.17360543]), array([False]), {'inv': array([3000.]), 'demand': array([0.61476757]), 'true_demand': array([1.08880977]), 'action': array([1.08]), 'reward': array([0.66394898]), 'true_reward': array([1.17591455])})\n",
      "({'features': array([0.31303582, 0.07112991, 0.38284567, 0.19046555, 0.01543559]), 'inventory': array([[1.]], dtype=float32), 'prev_action': array([[-0.576]], dtype=float32), 'prev_reward': array([[0.7649674]], dtype=float32), 'prev_done': array([0.], dtype=float32)}, array([0.76496738]), array([False]), {'inv': array([3000.]), 'demand': array([2.03866768]), 'true_demand': array([0.73937489]), 'action': array([1.06]), 'reward': array([2.16098774]), 'true_reward': array([0.78373738])})\n",
      "({'features': array([0.33201497, 0.39473376, 0.2101112 , 0.09949076, 0.23037336]), 'inventory': array([[1.]], dtype=float32), 'prev_action': array([[-0.576]], dtype=float32), 'prev_reward': array([[1.1115205]], dtype=float32), 'prev_done': array([0.], dtype=float32)}, array([1.11152054]), array([False]), {'inv': array([3000.]), 'demand': array([0.76536114]), 'true_demand': array([0.24362455]), 'action': array([1.06]), 'reward': array([0.81128281]), 'true_reward': array([0.25824203])})\n",
      "({'features': array([0.19951683, 0.31271863, 0.45451882, 0.08657327, 0.07842485]), 'inventory': array([[1.]], dtype=float32), 'prev_action': array([[-0.584]], dtype=float32), 'prev_reward': array([[0.87988144]], dtype=float32), 'prev_done': array([0.], dtype=float32)}, array([0.87988146]), array([False]), {'inv': array([3000.]), 'demand': array([2.06781196]), 'true_demand': array([0.99227302]), 'action': array([1.04]), 'reward': array([2.15052444]), 'true_reward': array([1.03196394])})\n",
      "({'features': array([0.4188286 , 0.24297352, 0.20518646, 0.12268149, 0.27970767]), 'inventory': array([[1.]], dtype=float32), 'prev_action': array([[-0.588]], dtype=float32), 'prev_reward': array([[1.0727282]], dtype=float32), 'prev_done': array([0.], dtype=float32)}, array([1.07272812]), array([False]), {'inv': array([3000.]), 'demand': array([1.29330844]), 'true_demand': array([0.60539769]), 'action': array([1.03]), 'reward': array([1.3321077]), 'true_reward': array([0.62355962])})\n",
      "({'features': array([0.11048708, 0.02153369, 0.47280632, 0.0672154 , 0.23294917]), 'inventory': array([[1.]], dtype=float32), 'prev_action': array([[-0.584]], dtype=float32), 'prev_reward': array([[1.0227695]], dtype=float32), 'prev_done': array([0.], dtype=float32)}, array([1.02276942]), array([False]), {'inv': array([3000.]), 'demand': array([0.55637334]), 'true_demand': array([0.79146813]), 'action': array([1.04]), 'reward': array([0.57862828]), 'true_reward': array([0.82312686])})\n",
      "({'features': array([0.11393855, 0.07461266, 0.21155474, 0.44992165, 0.43505998]), 'inventory': array([[1.]], dtype=float32), 'prev_action': array([[-0.588]], dtype=float32), 'prev_reward': array([[1.2930557]], dtype=float32), 'prev_done': array([0.], dtype=float32)}, array([1.2930556]), array([False]), {'inv': array([3000.]), 'demand': array([1.09713327]), 'true_demand': array([0.17118006]), 'action': array([1.03]), 'reward': array([1.13004727]), 'true_reward': array([0.17631546])})\n",
      "({'features': array([0.19225361, 0.44128298, 0.41584693, 0.27167549, 0.2035894 ]), 'inventory': array([[1.]], dtype=float32), 'prev_action': array([[-0.592]], dtype=float32), 'prev_reward': array([[0.7811874]], dtype=float32), 'prev_done': array([0.], dtype=float32)}, array([0.7811874]), array([False]), {'inv': array([3000.]), 'demand': array([0.84321912]), 'true_demand': array([1.03353295]), 'action': array([1.02]), 'reward': array([0.8600835]), 'true_reward': array([1.05420361])})\n",
      "({'features': array([0.45293975, 0.45808374, 0.17511091, 0.16552282, 0.22757234]), 'inventory': array([[1.]], dtype=float32), 'prev_action': array([[-0.588]], dtype=float32), 'prev_reward': array([[0.]], dtype=float32), 'prev_done': array([0.], dtype=float32)}, array([0.]), array([False]), {'inv': array([3000.]), 'demand': array([0.]), 'true_demand': array([1.20375607]), 'action': array([1.03]), 'reward': array([0.]), 'true_reward': array([1.23986875])})\n",
      "({'features': array([0.34466639, 0.28654792, 0.01143517, 0.08776804, 0.0516319 ]), 'inventory': array([[1.]], dtype=float32), 'prev_action': array([[-0.56]], dtype=float32), 'prev_reward': array([[0.9930978]], dtype=float32), 'prev_done': array([0.], dtype=float32)}, array([0.99309778]), array([False]), {'inv': array([3000.]), 'demand': array([1.01684893]), 'true_demand': array([1.16371512]), 'action': array([1.1]), 'reward': array([1.11853382]), 'true_reward': array([1.28008663])})\n",
      "({'features': array([0.48076298, 0.49848374, 0.11308588, 0.44152819, 0.18683225]), 'inventory': array([[1.]], dtype=float32), 'prev_action': array([[-0.568]], dtype=float32), 'prev_reward': array([[0.98051214]], dtype=float32), 'prev_done': array([0.], dtype=float32)}, array([0.98051213]), array([False]), {'inv': array([3000.]), 'demand': array([0.59908376]), 'true_demand': array([0.67620099]), 'action': array([1.08]), 'reward': array([0.64701046]), 'true_reward': array([0.73029707])})\n",
      "({'features': array([0.18781738, 0.3395701 , 0.24254961, 0.13681723, 0.41030987]), 'inventory': array([[1.]], dtype=float32), 'prev_action': array([[-0.568]], dtype=float32), 'prev_reward': array([[0.82810247]], dtype=float32), 'prev_done': array([0.], dtype=float32)}, array([0.82810245]), array([False]), {'inv': array([3000.]), 'demand': array([1.76071574]), 'true_demand': array([1.59695024]), 'action': array([1.08]), 'reward': array([1.901573]), 'true_reward': array([1.72470626])})\n",
      "({'features': array([0.13191234, 0.13226899, 0.01924987, 0.32601013, 0.12775993]), 'inventory': array([[1.]], dtype=float32), 'prev_action': array([[-0.568]], dtype=float32), 'prev_reward': array([[0.92610633]], dtype=float32), 'prev_done': array([0.], dtype=float32)}, array([0.92610636]), array([False]), {'inv': array([3000.]), 'demand': array([0.96899658]), 'true_demand': array([1.06182251]), 'action': array([1.08]), 'reward': array([1.0465163]), 'true_reward': array([1.14676831])})\n",
      "({'features': array([0.36963117, 0.19660218, 0.49827214, 0.03742692, 0.30142165]), 'inventory': array([[1.]], dtype=float32), 'prev_action': array([[-0.568]], dtype=float32), 'prev_reward': array([[0.]], dtype=float32), 'prev_done': array([0.], dtype=float32)}, array([0.]), array([False]), {'inv': array([3000.]), 'demand': array([0.]), 'true_demand': array([0.76727055]), 'action': array([1.08]), 'reward': array([0.]), 'true_reward': array([0.82865219])})\n",
      "({'features': array([0.46427921, 0.18907662, 0.34653254, 0.29691729, 0.17972165]), 'inventory': array([[1.]], dtype=float32), 'prev_action': array([[-0.548]], dtype=float32), 'prev_reward': array([[0.]], dtype=float32), 'prev_done': array([0.], dtype=float32)}, array([0.]), array([False]), {'inv': array([3000.]), 'demand': array([0.]), 'true_demand': array([0.41657729]), 'action': array([1.13]), 'reward': array([0.]), 'true_reward': array([0.47073234])})\n",
      "({'features': array([0.08620103, 0.12860712, 0.06701505, 0.2444219 , 0.11375531]), 'inventory': array([[1.]], dtype=float32), 'prev_action': array([[-0.536]], dtype=float32), 'prev_reward': array([[0.]], dtype=float32), 'prev_done': array([0.], dtype=float32)}, array([0.]), array([False]), {'inv': array([3000.]), 'demand': array([0.]), 'true_demand': array([0.67012538]), 'action': array([1.16]), 'reward': array([0.]), 'true_reward': array([0.77734545])})\n",
      "({'features': array([0.46682259, 0.02085157, 0.36298532, 0.28101615, 0.16553459]), 'inventory': array([[1.]], dtype=float32), 'prev_action': array([[-0.52]], dtype=float32), 'prev_reward': array([[0.]], dtype=float32), 'prev_done': array([0.], dtype=float32)}, array([0.]), array([False]), {'inv': array([3000.]), 'demand': array([0.]), 'true_demand': array([0.60382686]), 'action': array([1.2]), 'reward': array([0.]), 'true_reward': array([0.72459224])})\n",
      "({'features': array([0.43869956, 0.00141013, 0.22141203, 0.48256908, 0.37367385]), 'inventory': array([[1.]], dtype=float32), 'prev_action': array([[-0.508]], dtype=float32), 'prev_reward': array([[1.0654509]], dtype=float32), 'prev_done': array([0.], dtype=float32)}, array([1.06545092]), array([False]), {'inv': array([3000.]), 'demand': array([0.79887077]), 'true_demand': array([0.26315182]), 'action': array([1.23]), 'reward': array([0.98261105]), 'true_reward': array([0.32367674])})\n",
      "({'features': array([0.05842285, 0.44248519, 0.23635996, 0.06421906, 0.04057627]), 'inventory': array([[1.]], dtype=float32), 'prev_action': array([[-0.52]], dtype=float32), 'prev_reward': array([[0.]], dtype=float32), 'prev_done': array([0.], dtype=float32)}, array([0.]), array([False]), {'inv': array([3000.]), 'demand': array([0.]), 'true_demand': array([0.79346118]), 'action': array([1.2]), 'reward': array([0.]), 'true_reward': array([0.95215342])})\n",
      "({'features': array([0.0702327 , 0.13137816, 0.17860149, 0.35539358, 0.30638848]), 'inventory': array([[1.]], dtype=float32), 'prev_action': array([[-0.532]], dtype=float32), 'prev_reward': array([[0.]], dtype=float32), 'prev_done': array([0.], dtype=float32)}, array([0.]), array([False]), {'inv': array([3000.]), 'demand': array([0.]), 'true_demand': array([0.78439935]), 'action': array([1.17]), 'reward': array([0.]), 'true_reward': array([0.91774724])})\n",
      "({'features': array([0.25370781, 0.39656248, 0.43527171, 0.30178729, 0.1108726 ]), 'inventory': array([[1.]], dtype=float32), 'prev_action': array([[-0.516]], dtype=float32), 'prev_reward': array([[1.7935908]], dtype=float32), 'prev_done': array([0.], dtype=float32)}, array([1.79359076]), array([False]), {'inv': array([3000.]), 'demand': array([0.39609193]), 'true_demand': array([0.86495825]), 'action': array([1.21]), 'reward': array([0.47927123]), 'true_reward': array([1.04659948])})\n",
      "({'features': array([0.46548605, 0.09740451, 0.05684145, 0.26283038, 0.23835311]), 'inventory': array([[1.]], dtype=float32), 'prev_action': array([[-0.56]], dtype=float32), 'prev_reward': array([[1.0793906]], dtype=float32), 'prev_done': array([0.], dtype=float32)}, array([1.07939067]), array([False]), {'inv': array([3000.]), 'demand': array([0.18933975]), 'true_demand': array([1.01144632]), 'action': array([1.1]), 'reward': array([0.20827372]), 'true_reward': array([1.11259096])})\n",
      "({'features': array([0.39690418, 0.17638792, 0.03669134, 0.40982255, 0.13986183]), 'inventory': array([[1.]], dtype=float32), 'prev_action': array([[-0.576]], dtype=float32), 'prev_reward': array([[0.933188]], dtype=float32), 'prev_done': array([0.], dtype=float32)}, array([0.93318802]), array([False]), {'inv': array([3000.]), 'demand': array([0.90088378]), 'true_demand': array([0.71321996]), 'action': array([1.06]), 'reward': array([0.95493681]), 'true_reward': array([0.75601315])})\n",
      "({'features': array([0.31915983, 0.23342321, 0.1524287 , 0.3998871 , 0.17345095]), 'inventory': array([[1.]], dtype=float32), 'prev_action': array([[-0.58]], dtype=float32), 'prev_reward': array([[71929.625]], dtype=float32), 'prev_done': array([0.], dtype=float32)}, array([71929.62876406]), array([False]), {'inv': array([3000.]), 'demand': array([0.06850441]), 'true_demand': array([0.97013684]), 'action': array([1.05]), 'reward': array([0.07192963]), 'true_reward': array([1.01864368])})\n",
      "({'features': array([0.37087299, 0.43022747, 0.11679661, 0.38909679, 0.0741681 ]), 'inventory': array([[1.]], dtype=float32), 'prev_action': array([[-0.616]], dtype=float32), 'prev_reward': array([[54949.668]], dtype=float32), 'prev_done': array([0.], dtype=float32)}, array([54949.66756978]), array([False]), {'inv': array([3000.]), 'demand': array([0.05723924]), 'true_demand': array([1.09136568]), 'action': array([0.96]), 'reward': array([0.05494967]), 'true_reward': array([1.04771106])})\n",
      "({'features': array([0.39585671, 0.29873781, 0.23265313, 0.45986465, 0.11371499]), 'inventory': array([[1.]], dtype=float32), 'prev_action': array([[-0.684]], dtype=float32), 'prev_reward': array([[0.59655946]], dtype=float32), 'prev_done': array([0.], dtype=float32)}, array([0.59655947]), array([False]), {'inv': array([3000.]), 'demand': array([2.45874236]), 'true_demand': array([1.47022374]), 'action': array([0.79]), 'reward': array([1.94240647]), 'true_reward': array([1.16147675])})\n",
      "({'features': array([0.46465518, 0.03417897, 0.19992863, 0.05476226, 0.29347602]), 'inventory': array([[1.]], dtype=float32), 'prev_action': array([[-0.756]], dtype=float32), 'prev_reward': array([[13.312556]], dtype=float32), 'prev_done': array([0.], dtype=float32)}, array([13.312556]), array([False]), {'inv': array([3000.]), 'demand': array([0.53932925]), 'true_demand': array([1.47154408]), 'action': array([0.61]), 'reward': array([0.32899084]), 'true_reward': array([0.89764189])})\n",
      "({'features': array([0.30907269, 0.1594069 , 0.05577828, 0.26446912, 0.30152238]), 'inventory': array([[1.]], dtype=float32), 'prev_action': array([[-0.756]], dtype=float32), 'prev_reward': array([[0.84863865]], dtype=float32), 'prev_done': array([0.], dtype=float32)}, array([0.84863864]), array([False]), {'inv': array([3000.]), 'demand': array([1.44695339]), 'true_demand': array([0.61657747]), 'action': array([0.61]), 'reward': array([0.88264157]), 'true_reward': array([0.37611226])})\n",
      "({'features': array([0.09184212, 0.34156731, 0.12410452, 0.05102299, 0.03414189]), 'inventory': array([[1.]], dtype=float32), 'prev_action': array([[-0.748]], dtype=float32), 'prev_reward': array([[0.38875768]], dtype=float32), 'prev_done': array([0.], dtype=float32)}, array([0.38875767]), array([False]), {'inv': array([3000.]), 'demand': array([2.88823058]), 'true_demand': array([1.02346983]), 'action': array([0.63]), 'reward': array([1.81958527]), 'true_reward': array([0.64478599])})\n",
      "({'features': array([0.26298716, 0.38962089, 0.44666464, 0.09136227, 0.39530517]), 'inventory': array([[1.]], dtype=float32), 'prev_action': array([[-0.696]], dtype=float32), 'prev_reward': array([[0.]], dtype=float32), 'prev_done': array([0.], dtype=float32)}, array([0.]), array([False]), {'inv': array([3000.]), 'demand': array([0.]), 'true_demand': array([0.77704954]), 'action': array([0.76]), 'reward': array([0.]), 'true_reward': array([0.59055765])})\n",
      "({'features': array([0.43032469, 0.31035285, 0.47711899, 0.23559746, 0.04279427]), 'inventory': array([[1.]], dtype=float32), 'prev_action': array([[-0.636]], dtype=float32), 'prev_reward': array([[0.8826176]], dtype=float32), 'prev_done': array([0.], dtype=float32)}, array([0.88261762]), array([False]), {'inv': array([3000.]), 'demand': array([2.47833824]), 'true_demand': array([1.14430378]), 'action': array([0.91]), 'reward': array([2.2552878]), 'true_reward': array([1.04131644])})\n",
      "({'features': array([0.47695003, 0.18210782, 0.33784931, 0.31306923, 0.12063693]), 'inventory': array([[1.]], dtype=float32), 'prev_action': array([[-0.628]], dtype=float32), 'prev_reward': array([[0.92267865]], dtype=float32), 'prev_done': array([0.], dtype=float32)}, array([0.92267864]), array([False]), {'inv': array([3000.]), 'demand': array([0.45168235]), 'true_demand': array([0.87304729]), 'action': array([0.93]), 'reward': array([0.42006459]), 'true_reward': array([0.81193398])})\n",
      "({'features': array([0.34507327, 0.06677077, 0.43528844, 0.30283229, 0.18407031]), 'inventory': array([[1.]], dtype=float32), 'prev_action': array([[-0.608]], dtype=float32), 'prev_reward': array([[0.9823757]], dtype=float32), 'prev_done': array([0.], dtype=float32)}, array([0.98237566]), array([False]), {'inv': array([3000.]), 'demand': array([0.62477812]), 'true_demand': array([0.79047792]), 'action': array([0.98]), 'reward': array([0.61228256]), 'true_reward': array([0.77466836])})\n",
      "({'features': array([0.08944274, 0.40966787, 0.39504971, 0.03538132, 0.27734412]), 'inventory': array([[1.]], dtype=float32), 'prev_action': array([[-0.596]], dtype=float32), 'prev_reward': array([[1.0735681]], dtype=float32), 'prev_done': array([0.], dtype=float32)}, array([1.07356816]), array([False]), {'inv': array([3000.]), 'demand': array([1.14091974]), 'true_demand': array([0.5537061]), 'action': array([1.01]), 'reward': array([1.15232894]), 'true_reward': array([0.55924316])})\n",
      "({'features': array([0.49255863, 0.20897145, 0.13994362, 0.42074812, 0.48291722]), 'inventory': array([[1.]], dtype=float32), 'prev_action': array([[-0.604]], dtype=float32), 'prev_reward': array([[0.883034]], dtype=float32), 'prev_done': array([0.], dtype=float32)}, array([0.88303398]), array([False]), {'inv': array([3000.]), 'demand': array([2.39482402]), 'true_demand': array([0.93780396]), 'action': array([0.99]), 'reward': array([2.37087578]), 'true_reward': array([0.92842592])})\n",
      "({'features': array([0.09820534, 0.43571785, 0.40446518, 0.24793279, 0.23018501]), 'inventory': array([[1.]], dtype=float32), 'prev_action': array([[-0.572]], dtype=float32), 'prev_reward': array([[0.78511214]], dtype=float32), 'prev_done': array([0.], dtype=float32)}, array([0.78511216]), array([False]), {'inv': array([3000.]), 'demand': array([1.87485958]), 'true_demand': array([1.30104743]), 'action': array([1.07]), 'reward': array([2.00609975]), 'true_reward': array([1.39212075])})\n",
      "({'features': array([0.1386455 , 0.02437876, 0.36500057, 0.14133151, 0.2098911 ]), 'inventory': array([[1.]], dtype=float32), 'prev_action': array([[-0.572]], dtype=float32), 'prev_reward': array([[0.876026]], dtype=float32), 'prev_done': array([0.], dtype=float32)}, array([0.87602597]), array([False]), {'inv': array([3000.]), 'demand': array([1.91886415]), 'true_demand': array([1.15891415]), 'action': array([1.07]), 'reward': array([2.05318464]), 'true_reward': array([1.24003814])})\n",
      "({'features': array([0.39886651, 0.34118416, 0.38245611, 0.34018106, 0.37186766]), 'inventory': array([[1.]], dtype=float32), 'prev_action': array([[-0.568]], dtype=float32), 'prev_reward': array([[0.9973266]], dtype=float32), 'prev_done': array([0.], dtype=float32)}, array([0.9973266]), array([False]), {'inv': array([3000.]), 'demand': array([0.43660682]), 'true_demand': array([0.26134134]), 'action': array([1.08]), 'reward': array([0.47153537]), 'true_reward': array([0.28224865])})\n",
      "({'features': array([0.17665758, 0.40307514, 0.05608855, 0.03497435, 0.12667437]), 'inventory': array([[1.]], dtype=float32), 'prev_action': array([[-0.568]], dtype=float32), 'prev_reward': array([[0.9691352]], dtype=float32), 'prev_done': array([0.], dtype=float32)}, array([0.96913522]), array([False]), {'inv': array([3000.]), 'demand': array([1.39418828]), 'true_demand': array([1.2326811]), 'action': array([1.08]), 'reward': array([1.50572335]), 'true_reward': array([1.33129558])})\n",
      "({'features': array([0.21394364, 0.11940448, 0.44786194, 0.11616622, 0.37648763]), 'inventory': array([[1.]], dtype=float32), 'prev_action': array([[-0.572]], dtype=float32), 'prev_reward': array([[0.7599815]], dtype=float32), 'prev_done': array([0.], dtype=float32)}, array([0.7599815]), array([False]), {'inv': array([3000.]), 'demand': array([1.0722575]), 'true_demand': array([0.87381959]), 'action': array([1.07]), 'reward': array([1.14731553]), 'true_reward': array([0.93498696])})\n",
      "({'features': array([0.41197169, 0.06732998, 0.21657837, 0.3017967 , 0.44539599]), 'inventory': array([[1.]], dtype=float32), 'prev_action': array([[-0.56]], dtype=float32), 'prev_reward': array([[0.694192]], dtype=float32), 'prev_done': array([0.], dtype=float32)}, array([0.69419197]), array([False]), {'inv': array([3000.]), 'demand': array([0.20580109]), 'true_demand': array([0.50169563]), 'action': array([1.1]), 'reward': array([0.2263812]), 'true_reward': array([0.5518652])})\n",
      "({'features': array([0.18839069, 0.41999335, 0.21301579, 0.16365034, 0.43431899]), 'inventory': array([[1.]], dtype=float32), 'prev_action': array([[-0.544]], dtype=float32), 'prev_reward': array([[1.0510997]], dtype=float32), 'prev_done': array([0.], dtype=float32)}, array([1.0510997]), array([False]), {'inv': array([3000.]), 'demand': array([0.47330319]), 'true_demand': array([0.78332129]), 'action': array([1.14]), 'reward': array([0.53956564]), 'true_reward': array([0.89298627])})\n",
      "({'features': array([0.00901866, 0.47410439, 0.02187946, 0.38245518, 0.32476266]), 'inventory': array([[1.]], dtype=float32), 'prev_action': array([[-0.556]], dtype=float32), 'prev_reward': array([[0.967958]], dtype=float32), 'prev_done': array([0.], dtype=float32)}, array([0.967958]), array([False]), {'inv': array([3000.]), 'demand': array([0.94576252]), 'true_demand': array([1.26265824]), 'action': array([1.11]), 'reward': array([1.0497964]), 'true_reward': array([1.40155065])})\n",
      "({'features': array([0.30009637, 0.15348754, 0.00131108, 0.44126004, 0.2755016 ]), 'inventory': array([[1.]], dtype=float32), 'prev_action': array([[-0.552]], dtype=float32), 'prev_reward': array([[0.2504865]], dtype=float32), 'prev_done': array([0.], dtype=float32)}, array([0.25048648]), array([False]), {'inv': array([3000.]), 'demand': array([2.65321196]), 'true_demand': array([1.63759871]), 'action': array([1.12]), 'reward': array([2.9715974]), 'true_reward': array([1.83411056])})\n",
      "({'features': array([0.47808091, 0.1682284 , 0.20623233, 0.20281853, 0.29267814]), 'inventory': array([[1.]], dtype=float32), 'prev_action': array([[-0.524]], dtype=float32), 'prev_reward': array([[0.53030175]], dtype=float32), 'prev_done': array([0.], dtype=float32)}, array([0.53030173]), array([False]), {'inv': array([3000.]), 'demand': array([1.7067051]), 'true_demand': array([1.06826886]), 'action': array([1.19]), 'reward': array([2.03097907]), 'true_reward': array([1.27123994])})\n",
      "({'features': array([0.45915931, 0.12646339, 0.19375523, 0.32726352, 0.08990035]), 'inventory': array([[1.]], dtype=float32), 'prev_action': array([[-0.528]], dtype=float32), 'prev_reward': array([[0.]], dtype=float32), 'prev_done': array([0.], dtype=float32)}, array([0.]), array([False]), {'inv': array([3000.]), 'demand': array([0.]), 'true_demand': array([0.67232054]), 'action': array([1.18]), 'reward': array([0.]), 'true_reward': array([0.79333824])})\n",
      "({'features': array([0.34206188, 0.22017976, 0.35483587, 0.22740846, 0.36418111]), 'inventory': array([[1.]], dtype=float32), 'prev_action': array([[-0.508]], dtype=float32), 'prev_reward': array([[0.63334805]], dtype=float32), 'prev_done': array([0.], dtype=float32)}, array([0.63334807]), array([False]), {'inv': array([3000.]), 'demand': array([0.15847853]), 'true_demand': array([0.54784005]), 'action': array([1.23]), 'reward': array([0.1949286]), 'true_reward': array([0.67384326])})\n",
      "({'features': array([0.41410544, 0.41458638, 0.17930234, 0.2217507 , 0.14845402]), 'inventory': array([[1.]], dtype=float32), 'prev_action': array([[-0.516]], dtype=float32), 'prev_reward': array([[0.]], dtype=float32), 'prev_done': array([0.], dtype=float32)}, array([0.]), array([False]), {'inv': array([3000.]), 'demand': array([0.]), 'true_demand': array([0.77138323]), 'action': array([1.21]), 'reward': array([0.]), 'true_reward': array([0.9333737])})\n",
      "({'features': array([0.07491722, 0.31509073, 0.18868365, 0.09463046, 0.49173559]), 'inventory': array([[1.]], dtype=float32), 'prev_action': array([[-0.508]], dtype=float32), 'prev_reward': array([[0.99132246]], dtype=float32), 'prev_done': array([0.], dtype=float32)}, array([0.99132245]), array([False]), {'inv': array([3000.]), 'demand': array([1.04539366]), 'true_demand': array([0.99394216]), 'action': array([1.23]), 'reward': array([1.2858342]), 'true_reward': array([1.22254886])})\n",
      "({'features': array([0.00978978, 0.47287444, 0.42228089, 0.28353757, 0.10892319]), 'inventory': array([[1.]], dtype=float32), 'prev_action': array([[-0.524]], dtype=float32), 'prev_reward': array([[0.5890838]], dtype=float32), 'prev_done': array([0.], dtype=float32)}, array([0.58908379]), array([False]), {'inv': array([3000.]), 'demand': array([3.15678347]), 'true_demand': array([1.02486929]), 'action': array([1.19]), 'reward': array([3.75657233]), 'true_reward': array([1.21959445])})\n",
      "({'features': array([0.48796143, 0.28547967, 0.19621503, 0.43513847, 0.07408314]), 'inventory': array([[1.]], dtype=float32), 'prev_action': array([[-0.54]], dtype=float32), 'prev_reward': array([[1.120286]], dtype=float32), 'prev_done': array([0.], dtype=float32)}, array([1.120286]), array([False]), {'inv': array([3000.]), 'demand': array([0.62826953]), 'true_demand': array([1.1034349]), 'action': array([1.15]), 'reward': array([0.72250996]), 'true_reward': array([1.26895014])})\n",
      "({'features': array([0.07389968, 0.02836513, 0.04292529, 0.24400021, 0.43208102]), 'inventory': array([[1.]], dtype=float32), 'prev_action': array([[-0.552]], dtype=float32), 'prev_reward': array([[0.9455814]], dtype=float32), 'prev_done': array([0.], dtype=float32)}, array([0.94558136]), array([False]), {'inv': array([3000.]), 'demand': array([1.84145638]), 'true_demand': array([1.03387451]), 'action': array([1.12]), 'reward': array([2.06243114]), 'true_reward': array([1.15793945])})\n",
      "({'features': array([0.20256162, 0.43632833, 0.38363077, 0.15240054, 0.32529551]), 'inventory': array([[1.]], dtype=float32), 'prev_action': array([[-0.556]], dtype=float32), 'prev_reward': array([[0.23803145]], dtype=float32), 'prev_done': array([0.], dtype=float32)}, array([0.23803144]), array([False]), {'inv': array([3000.]), 'demand': array([1.43380822]), 'true_demand': array([0.73416251]), 'action': array([1.11]), 'reward': array([1.59152713]), 'true_reward': array([0.81492039])})\n",
      "({'features': array([0.02423248, 0.20320012, 0.21712629, 0.16772869, 0.14386505]), 'inventory': array([[1.]], dtype=float32), 'prev_action': array([[-0.548]], dtype=float32), 'prev_reward': array([[0.95424205]], dtype=float32), 'prev_done': array([0.], dtype=float32)}, array([0.95424202]), array([False]), {'inv': array([3000.]), 'demand': array([1.49297398]), 'true_demand': array([1.08570302]), 'action': array([1.13]), 'reward': array([1.6870606]), 'true_reward': array([1.22684441])})\n",
      "({'features': array([0.17515978, 0.38846796, 0.31149217, 0.21820217, 0.29859093]), 'inventory': array([[1.]], dtype=float32), 'prev_action': array([[-0.556]], dtype=float32), 'prev_reward': array([[0.85458356]], dtype=float32), 'prev_done': array([0.], dtype=float32)}, array([0.85458356]), array([False]), {'inv': array([3000.]), 'demand': array([0.97657024]), 'true_demand': array([0.61538037]), 'action': array([1.11]), 'reward': array([1.08399296]), 'true_reward': array([0.68307221])})\n",
      "({'features': array([0.27104216, 0.13726943, 0.00123485, 0.19229661, 0.15865918]), 'inventory': array([[1.]], dtype=float32), 'prev_action': array([[-0.56]], dtype=float32), 'prev_reward': array([[0.8185224]], dtype=float32), 'prev_done': array([0.], dtype=float32)}, array([0.81852239]), array([False]), {'inv': array([3000.]), 'demand': array([2.87348755]), 'true_demand': array([1.11479494]), 'action': array([1.1]), 'reward': array([3.16083631]), 'true_reward': array([1.22627443])})\n",
      "({'features': array([0.23504308, 0.35684109, 0.30508058, 0.01501734, 0.48748032]), 'inventory': array([[1.]], dtype=float32), 'prev_action': array([[-0.56]], dtype=float32), 'prev_reward': array([[0.8313119]], dtype=float32), 'prev_done': array([0.], dtype=float32)}, array([0.83131186]), array([False]), {'inv': array([3000.]), 'demand': array([0.64623197]), 'true_demand': array([0.633769]), 'action': array([1.1]), 'reward': array([0.71085517]), 'true_reward': array([0.6971459])})\n",
      "({'features': array([0.07813908, 0.0384773 , 0.00811796, 0.19630668, 0.3423488 ]), 'inventory': array([[1.]], dtype=float32), 'prev_action': array([[-0.56]], dtype=float32), 'prev_reward': array([[1.1582736]], dtype=float32), 'prev_done': array([0.], dtype=float32)}, array([1.15827354]), array([False]), {'inv': array([3000.]), 'demand': array([0.48429281]), 'true_demand': array([0.96651038]), 'action': array([1.1]), 'reward': array([0.53272209]), 'true_reward': array([1.06316142])})\n",
      "({'features': array([0.37823893, 0.16638335, 0.02464053, 0.02216011, 0.09540565]), 'inventory': array([[1.]], dtype=float32), 'prev_action': array([[-0.564]], dtype=float32), 'prev_reward': array([[0.22957337]], dtype=float32), 'prev_done': array([0.], dtype=float32)}, array([0.22957337]), array([False]), {'inv': array([3000.]), 'demand': array([0.57921239]), 'true_demand': array([0.62600356]), 'action': array([1.09]), 'reward': array([0.6313415]), 'true_reward': array([0.68234388])})\n",
      "({'features': array([0.09202849, 0.29507596, 0.0540785 , 0.07766726, 0.35061794]), 'inventory': array([[1.]], dtype=float32), 'prev_action': array([[-0.548]], dtype=float32), 'prev_reward': array([[0.]], dtype=float32), 'prev_done': array([0.], dtype=float32)}, array([0.]), array([False]), {'inv': array([3000.]), 'demand': array([0.]), 'true_demand': array([0.38492003]), 'action': array([1.13]), 'reward': array([0.]), 'true_reward': array([0.43495963])})\n",
      "({'features': array([0.45843176, 0.24759073, 0.04947164, 0.2671272 , 0.27959384]), 'inventory': array([[1.]], dtype=float32), 'prev_action': array([[-0.528]], dtype=float32), 'prev_reward': array([[0.48020068]], dtype=float32), 'prev_done': array([0.], dtype=float32)}, array([0.48020069]), array([False]), {'inv': array([3000.]), 'demand': array([1.37606354]), 'true_demand': array([0.91343107]), 'action': array([1.18]), 'reward': array([1.62375498]), 'true_reward': array([1.07784866])})\n",
      "({'features': array([0.31536846, 0.3171158 , 0.14917375, 0.42247591, 0.29082646]), 'inventory': array([[1.]], dtype=float32), 'prev_action': array([[-0.52]], dtype=float32), 'prev_reward': array([[0.8457114]], dtype=float32), 'prev_done': array([0.], dtype=float32)}, array([0.84571138]), array([False]), {'inv': array([3000.]), 'demand': array([1.75832452]), 'true_demand': array([0.96538577]), 'action': array([1.2]), 'reward': array([2.10998942]), 'true_reward': array([1.15846293])})\n",
      "({'features': array([0.31310699, 0.15225193, 0.00274366, 0.11564652, 0.07238216]), 'inventory': array([[1.]], dtype=float32), 'prev_action': array([[-0.528]], dtype=float32), 'prev_reward': array([[1.041503]], dtype=float32), 'prev_done': array([0.], dtype=float32)}, array([1.0415029]), array([False]), {'inv': array([3000.]), 'demand': array([0.86677435]), 'true_demand': array([1.27110392]), 'action': array([1.18]), 'reward': array([1.02279374]), 'true_reward': array([1.49990262])})\n",
      "({'features': array([0.27278234, 0.21428616, 0.22869858, 0.03371881, 0.04929003]), 'inventory': array([[1.]], dtype=float32), 'prev_action': array([[-0.544]], dtype=float32), 'prev_reward': array([[0.9154267]], dtype=float32), 'prev_done': array([0.], dtype=float32)}, array([0.91542668]), array([False]), {'inv': array([3000.]), 'demand': array([1.05529307]), 'true_demand': array([0.47019777]), 'action': array([1.14]), 'reward': array([1.2030341]), 'true_reward': array([0.53602546])})\n",
      "({'features': array([0.1907312 , 0.45241089, 0.06755585, 0.03241868, 0.35832268]), 'inventory': array([[1.]], dtype=float32), 'prev_action': array([[-0.56]], dtype=float32), 'prev_reward': array([[0.]], dtype=float32), 'prev_done': array([0.], dtype=float32)}, array([0.]), array([False]), {'inv': array([3000.]), 'demand': array([0.]), 'true_demand': array([0.36975575]), 'action': array([1.1]), 'reward': array([0.]), 'true_reward': array([0.40673132])})\n",
      "({'features': array([0.41151267, 0.13750752, 0.04060732, 0.44891161, 0.15089009]), 'inventory': array([[1.]], dtype=float32), 'prev_action': array([[-0.536]], dtype=float32), 'prev_reward': array([[0.]], dtype=float32), 'prev_done': array([0.], dtype=float32)}, array([0.]), array([False]), {'inv': array([3000.]), 'demand': array([0.]), 'true_demand': array([1.13390402]), 'action': array([1.16]), 'reward': array([0.]), 'true_reward': array([1.31532866])})\n",
      "({'features': array([0.46038984, 0.22091924, 0.45205447, 0.45770838, 0.41752964]), 'inventory': array([[1.]], dtype=float32), 'prev_action': array([[-0.512]], dtype=float32), 'prev_reward': array([[1.0675468]], dtype=float32), 'prev_done': array([0.], dtype=float32)}, array([1.0675469]), array([False]), {'inv': array([3000.]), 'demand': array([0.59685142]), 'true_demand': array([0.88857771]), 'action': array([1.22]), 'reward': array([0.72815873]), 'true_reward': array([1.08406481])})\n",
      "({'features': array([0.41895365, 0.45503339, 0.39046466, 0.49336282, 0.47624503]), 'inventory': array([[1.]], dtype=float32), 'prev_action': array([[-0.528]], dtype=float32), 'prev_reward': array([[0.]], dtype=float32), 'prev_done': array([0.], dtype=float32)}, array([0.]), array([False]), {'inv': array([3000.]), 'demand': array([0.]), 'true_demand': array([1.07807445]), 'action': array([1.18]), 'reward': array([0.]), 'true_reward': array([1.27212786])})\n",
      "({'features': array([0.02910831, 0.4052727 , 0.25664207, 0.25241572, 0.36264445]), 'inventory': array([[1.]], dtype=float32), 'prev_action': array([[-0.516]], dtype=float32), 'prev_reward': array([[0.86961544]], dtype=float32), 'prev_done': array([0.], dtype=float32)}, array([0.86961543]), array([False]), {'inv': array([3000.]), 'demand': array([3.8166395]), 'true_demand': array([1.60994772]), 'action': array([1.21]), 'reward': array([4.6181338]), 'true_reward': array([1.94803674])})\n",
      "({'features': array([0.22253904, 0.37552078, 0.38390287, 0.15514744, 0.13124048]), 'inventory': array([[1.]], dtype=float32), 'prev_action': array([[-0.532]], dtype=float32), 'prev_reward': array([[28.369896]], dtype=float32), 'prev_done': array([0.], dtype=float32)}, array([28.36989538]), array([False]), {'inv': array([3000.]), 'demand': array([0.40114662]), 'true_demand': array([1.24754245]), 'action': array([1.17]), 'reward': array([0.46934154]), 'true_reward': array([1.45962467])})\n",
      "({'features': array([0.32313583, 0.0701008 , 0.29958708, 0.11815805, 0.4666    ]), 'inventory': array([[1.]], dtype=float32), 'prev_action': array([[-0.568]], dtype=float32), 'prev_reward': array([[0.]], dtype=float32), 'prev_done': array([0.], dtype=float32)}, array([0.]), array([False]), {'inv': array([3000.]), 'demand': array([0.]), 'true_demand': array([0.84179412]), 'action': array([1.08]), 'reward': array([0.]), 'true_reward': array([0.90913765])})\n",
      "({'features': array([0.07562569, 0.46824357, 0.03134667, 0.28212912, 0.04143912]), 'inventory': array([[1.]], dtype=float32), 'prev_action': array([[-0.644]], dtype=float32), 'prev_reward': array([[0.]], dtype=float32), 'prev_done': array([0.], dtype=float32)}, array([0.]), array([False]), {'inv': array([3000.]), 'demand': array([0.]), 'true_demand': array([0.6898565]), 'action': array([0.89]), 'reward': array([0.]), 'true_reward': array([0.61397229])})\n",
      "({'features': array([0.37184775, 0.09489781, 0.02339834, 0.42987969, 0.18271772]), 'inventory': array([[1.]], dtype=float32), 'prev_action': array([[-0.644]], dtype=float32), 'prev_reward': array([[311286.22]], dtype=float32), 'prev_done': array([0.], dtype=float32)}, array([311286.20609232]), array([False]), {'inv': array([3000.]), 'demand': array([0.34975978]), 'true_demand': array([1.2828152]), 'action': array([0.89]), 'reward': array([0.31128621]), 'true_reward': array([1.14170553])})\n",
      "({'features': array([0.13348195, 0.48901048, 0.4800911 , 0.338146  , 0.17863421]), 'inventory': array([[1.]], dtype=float32), 'prev_action': array([[-0.636]], dtype=float32), 'prev_reward': array([[2.016173]], dtype=float32), 'prev_done': array([0.], dtype=float32)}, array([2.01617289]), array([False]), {'inv': array([3000.]), 'demand': array([0.41845523]), 'true_demand': array([0.93499461]), 'action': array([0.91]), 'reward': array([0.38079426]), 'true_reward': array([0.85084509])})\n",
      "({'features': array([0.01317351, 0.30628713, 0.38128173, 0.12446978, 0.01183238]), 'inventory': array([[1.]], dtype=float32), 'prev_action': array([[-0.736]], dtype=float32), 'prev_reward': array([[0.89285487]], dtype=float32), 'prev_done': array([0.], dtype=float32)}, array([0.89285489]), array([False]), {'inv': array([3000.]), 'demand': array([1.25566884]), 'true_demand': array([1.64280485]), 'action': array([0.66]), 'reward': array([0.82874143]), 'true_reward': array([1.0842512])})\n",
      "({'features': array([0.14023954, 0.19337069, 0.4579809 , 0.41231989, 0.48184882]), 'inventory': array([[1.]], dtype=float32), 'prev_action': array([[-0.74]], dtype=float32), 'prev_reward': array([[0.7803334]], dtype=float32), 'prev_done': array([0.], dtype=float32)}, array([0.78033339]), array([False]), {'inv': array([3000.]), 'demand': array([1.22359535]), 'true_demand': array([0.82948295]), 'action': array([0.65]), 'reward': array([0.79533698]), 'true_reward': array([0.53916392])})\n",
      "({'features': array([0.26320793, 0.15258452, 0.49604968, 0.06396971, 0.25849625]), 'inventory': array([[1.]], dtype=float32), 'prev_action': array([[-0.676]], dtype=float32), 'prev_reward': array([[0.7380831]], dtype=float32), 'prev_done': array([0.], dtype=float32)}, array([0.73808312]), array([False]), {'inv': array([3000.]), 'demand': array([1.86017628]), 'true_demand': array([1.30440416]), 'action': array([0.81]), 'reward': array([1.50674278]), 'true_reward': array([1.05656737])})\n",
      "({'features': array([0.07631334, 0.46098055, 0.23017637, 0.29342457, 0.2851503 ]), 'inventory': array([[1.]], dtype=float32), 'prev_action': array([[-0.64]], dtype=float32), 'prev_reward': array([[0.9006361]], dtype=float32), 'prev_done': array([0.], dtype=float32)}, array([0.90063607]), array([False]), {'inv': array([3000.]), 'demand': array([0.4061794]), 'true_demand': array([0.54661201]), 'action': array([0.9]), 'reward': array([0.36556146]), 'true_reward': array([0.49195081])})\n",
      "({'features': array([0.06607523, 0.11676042, 0.24312393, 0.0439108 , 0.10638258]), 'inventory': array([[1.]], dtype=float32), 'prev_action': array([[-0.612]], dtype=float32), 'prev_reward': array([[0.56922626]], dtype=float32), 'prev_done': array([0.], dtype=float32)}, array([0.56922626]), array([False]), {'inv': array([3000.]), 'demand': array([2.45848585]), 'true_demand': array([1.42621052]), 'action': array([0.97]), 'reward': array([2.38473127]), 'true_reward': array([1.38342421])})\n",
      "({'features': array([0.15732868, 0.00970051, 0.41776611, 0.1581964 , 0.37113438]), 'inventory': array([[1.]], dtype=float32), 'prev_action': array([[-0.584]], dtype=float32), 'prev_reward': array([[1.0760808]], dtype=float32), 'prev_done': array([0.], dtype=float32)}, array([1.07608074]), array([False]), {'inv': array([3000.]), 'demand': array([0.61177055]), 'true_demand': array([0.27914528]), 'action': array([1.04]), 'reward': array([0.63624137]), 'true_reward': array([0.29031109])})\n",
      "({'features': array([0.29187142, 0.00330218, 0.18776294, 0.01290183, 0.00864212]), 'inventory': array([[1.]], dtype=float32), 'prev_action': array([[-0.576]], dtype=float32), 'prev_reward': array([[0.9633095]], dtype=float32), 'prev_done': array([0.], dtype=float32)}, array([0.96330952]), array([False]), {'inv': array([3000.]), 'demand': array([0.44398018]), 'true_demand': array([0.39106271]), 'action': array([1.06]), 'reward': array([0.47061899]), 'true_reward': array([0.41452647])})\n",
      "({'features': array([0.29151464, 0.00985242, 0.13067969, 0.40268448, 0.22108521]), 'inventory': array([[1.]], dtype=float32), 'prev_action': array([[-0.576]], dtype=float32), 'prev_reward': array([[1.8634186]], dtype=float32), 'prev_done': array([0.], dtype=float32)}, array([1.86341859]), array([False]), {'inv': array([3000.]), 'demand': array([1.93314405]), 'true_demand': array([0.]), 'action': array([1.06]), 'reward': array([2.04913269]), 'true_reward': array([0.])})\n",
      "({'features': array([0.13665344, 0.1847437 , 0.3116962 , 0.3277045 , 0.33157202]), 'inventory': array([[1.]], dtype=float32), 'prev_action': array([[-0.584]], dtype=float32), 'prev_reward': array([[0.]], dtype=float32), 'prev_done': array([0.], dtype=float32)}, array([0.]), array([False]), {'inv': array([3000.]), 'demand': array([0.]), 'true_demand': array([0.6933609]), 'action': array([1.04]), 'reward': array([0.]), 'true_reward': array([0.72109534])})\n",
      "({'features': array([0.19881233, 0.38789046, 0.05630235, 0.40492288, 0.31197647]), 'inventory': array([[1.]], dtype=float32), 'prev_action': array([[-0.536]], dtype=float32), 'prev_reward': array([[0.8469237]], dtype=float32), 'prev_done': array([0.], dtype=float32)}, array([0.84692373]), array([False]), {'inv': array([3000.]), 'demand': array([2.4633239]), 'true_demand': array([0.88536331]), 'action': array([1.16]), 'reward': array([2.85745572]), 'true_reward': array([1.02702144])})\n",
      "({'features': array([0.42525166, 0.45974825, 0.20079328, 0.37803136, 0.34887517]), 'inventory': array([[1.]], dtype=float32), 'prev_action': array([[-0.544]], dtype=float32), 'prev_reward': array([[0.48752567]], dtype=float32), 'prev_done': array([0.], dtype=float32)}, array([0.48752568]), array([False]), {'inv': array([3000.]), 'demand': array([2.04019089]), 'true_demand': array([1.46875213]), 'action': array([1.14]), 'reward': array([2.32581762]), 'true_reward': array([1.67437742])})\n",
      "({'features': array([0.27150762, 0.17809511, 0.06133506, 0.10951346, 0.32151279]), 'inventory': array([[1.]], dtype=float32), 'prev_action': array([[-0.532]], dtype=float32), 'prev_reward': array([[0.81441873]], dtype=float32), 'prev_done': array([0.], dtype=float32)}, array([0.81441872]), array([False]), {'inv': array([3000.]), 'demand': array([2.56045022]), 'true_demand': array([1.49053167]), 'action': array([1.17]), 'reward': array([2.99572676]), 'true_reward': array([1.74392206])})\n",
      "({'features': array([0.383527  , 0.141334  , 0.09713344, 0.10531928, 0.06362103]), 'inventory': array([[1.]], dtype=float32), 'prev_action': array([[-0.532]], dtype=float32), 'prev_reward': array([[0.7962894]], dtype=float32), 'prev_done': array([0.], dtype=float32)}, array([0.79628941]), array([False]), {'inv': array([3000.]), 'demand': array([1.23545567]), 'true_demand': array([0.69912586]), 'action': array([1.17]), 'reward': array([1.44548313]), 'true_reward': array([0.81797726])})\n",
      "({'features': array([0.13118634, 0.18042238, 0.34605452, 0.08864068, 0.30823874]), 'inventory': array([[1.]], dtype=float32), 'prev_action': array([[-0.536]], dtype=float32), 'prev_reward': array([[1.1111165]], dtype=float32), 'prev_done': array([0.], dtype=float32)}, array([1.11111647]), array([False]), {'inv': array([3000.]), 'demand': array([1.01752276]), 'true_demand': array([0.36749841]), 'action': array([1.16]), 'reward': array([1.1803264]), 'true_reward': array([0.42629816])})\n",
      "({'features': array([0.4307641 , 0.41369966, 0.39088625, 0.17354573, 0.25245053]), 'inventory': array([[1.]], dtype=float32), 'prev_action': array([[-0.552]], dtype=float32), 'prev_reward': array([[0.]], dtype=float32), 'prev_done': array([0.], dtype=float32)}, array([0.]), array([False]), {'inv': array([3000.]), 'demand': array([0.]), 'true_demand': array([0.55172177]), 'action': array([1.12]), 'reward': array([0.]), 'true_reward': array([0.61792838])})\n",
      "({'features': array([0.15393052, 0.28689229, 0.23874727, 0.26742332, 0.38594435]), 'inventory': array([[1.]], dtype=float32), 'prev_action': array([[-0.532]], dtype=float32), 'prev_reward': array([[0.]], dtype=float32), 'prev_done': array([0.], dtype=float32)}, array([0.]), array([False]), {'inv': array([3000.]), 'demand': array([0.]), 'true_demand': array([0.95121182]), 'action': array([1.17]), 'reward': array([0.]), 'true_reward': array([1.11291783])})\n",
      "({'features': array([0.27309404, 0.16520452, 0.48410812, 0.18278227, 0.36548639]), 'inventory': array([[1.]], dtype=float32), 'prev_action': array([[-0.512]], dtype=float32), 'prev_reward': array([[0.8096239]], dtype=float32), 'prev_done': array([0.], dtype=float32)}, array([0.80962388]), array([False]), {'inv': array([3000.]), 'demand': array([1.61249731]), 'true_demand': array([1.05126748]), 'action': array([1.22]), 'reward': array([1.96724672]), 'true_reward': array([1.28254632])})\n",
      "({'features': array([0.27462316, 0.29591529, 0.11020543, 0.48420116, 0.12379813]), 'inventory': array([[1.]], dtype=float32), 'prev_action': array([[-0.524]], dtype=float32), 'prev_reward': array([[0.]], dtype=float32), 'prev_done': array([0.], dtype=float32)}, array([0.]), array([False]), {'inv': array([3000.]), 'demand': array([0.]), 'true_demand': array([0.56557101]), 'action': array([1.19]), 'reward': array([0.]), 'true_reward': array([0.67302951])})\n",
      "({'features': array([0.07775269, 0.05048774, 0.33432983, 0.3724121 , 0.22488249]), 'inventory': array([[1.]], dtype=float32), 'prev_action': array([[-0.508]], dtype=float32), 'prev_reward': array([[0.72785044]], dtype=float32), 'prev_done': array([0.], dtype=float32)}, array([0.72785046]), array([False]), {'inv': array([3000.]), 'demand': array([2.07471639]), 'true_demand': array([1.16472455]), 'action': array([1.23]), 'reward': array([2.55190116]), 'true_reward': array([1.43261119])})\n",
      "({'features': array([0.40811675, 0.07811087, 0.21325009, 0.06993429, 0.07311369]), 'inventory': array([[1.]], dtype=float32), 'prev_action': array([[-0.524]], dtype=float32), 'prev_reward': array([[0.98316544]], dtype=float32), 'prev_done': array([0.], dtype=float32)}, array([0.98316543]), array([False]), {'inv': array([3000.]), 'demand': array([1.06977197]), 'true_demand': array([0.58298409]), 'action': array([1.19]), 'reward': array([1.27302864]), 'true_reward': array([0.69375107])})\n",
      "({'features': array([0.36174993, 0.32851633, 0.33298344, 0.10113638, 0.49071636]), 'inventory': array([[1.]], dtype=float32), 'prev_action': array([[-0.54]], dtype=float32), 'prev_reward': array([[1.3857056]], dtype=float32), 'prev_done': array([0.], dtype=float32)}, array([1.38570565]), array([False]), {'inv': array([3000.]), 'demand': array([1.56513542]), 'true_demand': array([0.15993869]), 'action': array([1.15]), 'reward': array([1.79990573]), 'true_reward': array([0.1839295])})\n",
      "({'features': array([0.02742075, 0.44804722, 0.30669979, 0.04571672, 0.35666217]), 'inventory': array([[1.]], dtype=float32), 'prev_action': array([[-0.556]], dtype=float32), 'prev_reward': array([[0.99350226]], dtype=float32), 'prev_done': array([0.], dtype=float32)}, array([0.99350226]), array([False]), {'inv': array([3000.]), 'demand': array([1.01336281]), 'true_demand': array([1.00571341]), 'action': array([1.11]), 'reward': array([1.12483271]), 'true_reward': array([1.11634189])})\n",
      "({'features': array([0.02915519, 0.3138242 , 0.10803221, 0.29618643, 0.10765179]), 'inventory': array([[1.]], dtype=float32), 'prev_action': array([[-0.564]], dtype=float32), 'prev_reward': array([[1.803814]], dtype=float32), 'prev_done': array([0.], dtype=float32)}, array([1.80381407]), array([False]), {'inv': array([3000.]), 'demand': array([0.41866508]), 'true_demand': array([1.06366351]), 'action': array([1.09]), 'reward': array([0.45634494]), 'true_reward': array([1.15939322])})\n",
      "({'features': array([0.11091139, 0.13565381, 0.4360872 , 0.43411724, 0.18141639]), 'inventory': array([[1.]], dtype=float32), 'prev_action': array([[-0.584]], dtype=float32), 'prev_reward': array([[0.44415426]], dtype=float32), 'prev_done': array([0.], dtype=float32)}, array([0.44415426]), array([False]), {'inv': array([3000.]), 'demand': array([2.05808568]), 'true_demand': array([1.01445348]), 'action': array([1.04]), 'reward': array([2.1404091]), 'true_reward': array([1.05503161])})\n",
      "({'features': array([0.38920117, 0.24237197, 0.25138875, 0.47350454, 0.31310502]), 'inventory': array([[1.]], dtype=float32), 'prev_action': array([[-0.568]], dtype=float32), 'prev_reward': array([[1.081758]], dtype=float32), 'prev_done': array([0.], dtype=float32)}, array([1.08175808]), array([False]), {'inv': array([3000.]), 'demand': array([0.32391421]), 'true_demand': array([0.78664328]), 'action': array([1.08]), 'reward': array([0.34982735]), 'true_reward': array([0.84957475])})\n",
      "({'features': array([0.39449399, 0.49918508, 0.29203367, 0.04125928, 0.49968391]), 'inventory': array([[1.]], dtype=float32), 'prev_action': array([[-0.576]], dtype=float32), 'prev_reward': array([[0.8507708]], dtype=float32), 'prev_done': array([0.], dtype=float32)}, array([0.85077076]), array([False]), {'inv': array([3000.]), 'demand': array([1.81264783]), 'true_demand': array([1.23938753]), 'action': array([1.06]), 'reward': array([1.9214067]), 'true_reward': array([1.31375078])})\n",
      "({'features': array([0.25247812, 0.32612628, 0.413026  , 0.37991436, 0.11608243]), 'inventory': array([[1.]], dtype=float32), 'prev_action': array([[-0.572]], dtype=float32), 'prev_reward': array([[1.107287]], dtype=float32), 'prev_done': array([0.], dtype=float32)}, array([1.10728705]), array([False]), {'inv': array([3000.]), 'demand': array([0.77966089]), 'true_demand': array([1.29670631]), 'action': array([1.07]), 'reward': array([0.83423715]), 'true_reward': array([1.38747576])})\n",
      "({'features': array([0.1636879 , 0.33710259, 0.21214845, 0.45047695, 0.13077454]), 'inventory': array([[1.]], dtype=float32), 'prev_action': array([[-0.572]], dtype=float32), 'prev_reward': array([[0.]], dtype=float32), 'prev_done': array([0.], dtype=float32)}, array([0.]), array([False]), {'inv': array([3000.]), 'demand': array([0.]), 'true_demand': array([1.02343212]), 'action': array([1.07]), 'reward': array([0.]), 'true_reward': array([1.09507237])})\n",
      "({'features': array([0.30987328, 0.24658421, 0.00359351, 0.06452383, 0.42779258]), 'inventory': array([[1.]], dtype=float32), 'prev_action': array([[-0.548]], dtype=float32), 'prev_reward': array([[0.70674056]], dtype=float32), 'prev_done': array([0.], dtype=float32)}, array([0.70674054]), array([False]), {'inv': array([3000.]), 'demand': array([2.47298456]), 'true_demand': array([1.20033687]), 'action': array([1.13]), 'reward': array([2.79447256]), 'true_reward': array([1.35638067])})\n",
      "({'features': array([0.37239473, 0.13983646, 0.14962276, 0.25839063, 0.16572363]), 'inventory': array([[1.]], dtype=float32), 'prev_action': array([[-0.548]], dtype=float32), 'prev_reward': array([[0.58588696]], dtype=float32), 'prev_done': array([0.], dtype=float32)}, array([0.58588697]), array([False]), {'inv': array([3000.]), 'demand': array([2.40503106]), 'true_demand': array([0.89997392]), 'action': array([1.13]), 'reward': array([2.7176851]), 'true_reward': array([1.01697053])})\n",
      "({'features': array([0.37066221, 0.34559877, 0.44530776, 0.14308969, 0.27774668]), 'inventory': array([[1.]], dtype=float32), 'prev_action': array([[-0.54]], dtype=float32), 'prev_reward': array([[0.9898508]], dtype=float32), 'prev_done': array([0.], dtype=float32)}, array([0.98985081]), array([False]), {'inv': array([3000.]), 'demand': array([1.52909026]), 'true_demand': array([0.63491724]), 'action': array([1.15]), 'reward': array([1.7584538]), 'true_reward': array([0.73015483])})\n",
      "({'features': array([0.1573337 , 0.0713332 , 0.27110099, 0.49353619, 0.22196404]), 'inventory': array([[1.]], dtype=float32), 'prev_action': array([[-0.552]], dtype=float32), 'prev_reward': array([[0.88117385]], dtype=float32), 'prev_done': array([0.], dtype=float32)}, array([0.88117384]), array([False]), {'inv': array([3000.]), 'demand': array([0.4526627]), 'true_demand': array([0.83723617]), 'action': array([1.12]), 'reward': array([0.50698223]), 'true_reward': array([0.93770451])})\n",
      "({'features': array([0.38611113, 0.18417423, 0.0511476 , 0.45363215, 0.0327864 ]), 'inventory': array([[1.]], dtype=float32), 'prev_action': array([[-0.552]], dtype=float32), 'prev_reward': array([[0.83889395]], dtype=float32), 'prev_done': array([0.], dtype=float32)}, array([0.83889398]), array([False]), {'inv': array([3000.]), 'demand': array([1.5035331]), 'true_demand': array([0.83309472]), 'action': array([1.12]), 'reward': array([1.68395707]), 'true_reward': array([0.93306609])})\n",
      "({'features': array([0.49425945, 0.44980511, 0.0239432 , 0.05540035, 0.2820882 ]), 'inventory': array([[1.]], dtype=float32), 'prev_action': array([[-0.556]], dtype=float32), 'prev_reward': array([[0.76336205]], dtype=float32), 'prev_done': array([0.], dtype=float32)}, array([0.76336202]), array([False]), {'inv': array([3000.]), 'demand': array([2.24748348]), 'true_demand': array([0.91371232]), 'action': array([1.11]), 'reward': array([2.49470666]), 'true_reward': array([1.01422067])})\n",
      "({'features': array([0.46896716, 0.4364236 , 0.25847358, 0.39172629, 0.21387467]), 'inventory': array([[1.]], dtype=float32), 'prev_action': array([[-0.556]], dtype=float32), 'prev_reward': array([[0.9311138]], dtype=float32), 'prev_done': array([0.], dtype=float32)}, array([0.9311138]), array([False]), {'inv': array([3000.]), 'demand': array([1.07651557]), 'true_demand': array([1.11626986]), 'action': array([1.11]), 'reward': array([1.19493228]), 'true_reward': array([1.23905955])})\n",
      "({'features': array([0.34272812, 0.0144911 , 0.0505864 , 0.06464275, 0.33968742]), 'inventory': array([[1.]], dtype=float32), 'prev_action': array([[-0.556]], dtype=float32), 'prev_reward': array([[0.9290153]], dtype=float32), 'prev_done': array([0.], dtype=float32)}, array([0.92901527]), array([False]), {'inv': array([3000.]), 'demand': array([1.69898497]), 'true_demand': array([1.35792169]), 'action': array([1.11]), 'reward': array([1.88587332]), 'true_reward': array([1.50729308])})\n",
      "({'features': array([0.39252476, 0.48905517, 0.07360826, 0.43130995, 0.43846776]), 'inventory': array([[1.]], dtype=float32), 'prev_action': array([[-0.556]], dtype=float32), 'prev_reward': array([[0.]], dtype=float32), 'prev_done': array([0.], dtype=float32)}, array([0.]), array([False]), {'inv': array([3000.]), 'demand': array([0.]), 'true_demand': array([0.38155714]), 'action': array([1.11]), 'reward': array([0.]), 'true_reward': array([0.42352842])})\n",
      "({'features': array([0.36321045, 0.04471579, 0.28691866, 0.30714566, 0.30680204]), 'inventory': array([[1.]], dtype=float32), 'prev_action': array([[-0.524]], dtype=float32), 'prev_reward': array([[0.6804328]], dtype=float32), 'prev_done': array([0.], dtype=float32)}, array([0.68043281]), array([False]), {'inv': array([3000.]), 'demand': array([2.12223251]), 'true_demand': array([1.75626289]), 'action': array([1.19]), 'reward': array([2.52545669]), 'true_reward': array([2.08995284])})\n",
      "({'features': array([0.27779777, 0.10256015, 0.4139978 , 0.21846007, 0.40842418]), 'inventory': array([[1.]], dtype=float32), 'prev_action': array([[-0.528]], dtype=float32), 'prev_reward': array([[1.0674977]], dtype=float32), 'prev_done': array([0.], dtype=float32)}, array([1.0674977]), array([False]), {'inv': array([3000.]), 'demand': array([1.28533919]), 'true_demand': array([0.56539929]), 'action': array([1.18]), 'reward': array([1.51670024]), 'true_reward': array([0.66717116])})\n",
      "({'features': array([0.41223916, 0.04022348, 0.24493698, 0.2038209 , 0.25058135]), 'inventory': array([[1.]], dtype=float32), 'prev_action': array([[-0.54]], dtype=float32), 'prev_reward': array([[0.]], dtype=float32), 'prev_done': array([0.], dtype=float32)}, array([0.]), array([False]), {'inv': array([3000.]), 'demand': array([0.]), 'true_demand': array([0.60794918]), 'action': array([1.15]), 'reward': array([0.]), 'true_reward': array([0.69914156])})\n",
      "({'features': array([0.24469889, 0.41564251, 0.47266875, 0.40825917, 0.19714818]), 'inventory': array([[1.]], dtype=float32), 'prev_action': array([[-0.52]], dtype=float32), 'prev_reward': array([[0.]], dtype=float32), 'prev_done': array([0.], dtype=float32)}, array([0.]), array([False]), {'inv': array([3000.]), 'demand': array([0.]), 'true_demand': array([0.37687481]), 'action': array([1.2]), 'reward': array([0.]), 'true_reward': array([0.45224978])})\n",
      "({'features': array([0.25218038, 0.03108624, 0.35318457, 0.14964334, 0.45553522]), 'inventory': array([[1.]], dtype=float32), 'prev_action': array([[-0.524]], dtype=float32), 'prev_reward': array([[0.981567]], dtype=float32), 'prev_done': array([0.], dtype=float32)}, array([0.98156704]), array([False]), {'inv': array([3000.]), 'demand': array([2.22203846]), 'true_demand': array([1.1630063]), 'action': array([1.19]), 'reward': array([2.64422576]), 'true_reward': array([1.38397749])})\n",
      "({'features': array([0.35944249, 0.40700194, 0.3768036 , 0.03417798, 0.08159413]), 'inventory': array([[1.]], dtype=float32), 'prev_action': array([[-0.532]], dtype=float32), 'prev_reward': array([[1.1289735]], dtype=float32), 'prev_done': array([0.], dtype=float32)}, array([1.12897351]), array([False]), {'inv': array([3000.]), 'demand': array([1.52299953]), 'true_demand': array([0.45323471]), 'action': array([1.17]), 'reward': array([1.78190945]), 'true_reward': array([0.53028462])})\n",
      "({'features': array([0.12577915, 0.36787173, 0.11642078, 0.03112486, 0.04013347]), 'inventory': array([[1.]], dtype=float32), 'prev_action': array([[-0.552]], dtype=float32), 'prev_reward': array([[0.812851]], dtype=float32), 'prev_done': array([0.], dtype=float32)}, array([0.81285101]), array([False]), {'inv': array([3000.]), 'demand': array([0.38527755]), 'true_demand': array([0.66347353]), 'action': array([1.12]), 'reward': array([0.43151086]), 'true_reward': array([0.74309036])})\n",
      "({'features': array([0.03730595, 0.20629152, 0.19865613, 0.25297293, 0.17602334]), 'inventory': array([[1.]], dtype=float32), 'prev_action': array([[-0.564]], dtype=float32), 'prev_reward': array([[0.8107442]], dtype=float32), 'prev_done': array([0.], dtype=float32)}, array([0.8107442]), array([False]), {'inv': array([3000.]), 'demand': array([1.56746412]), 'true_demand': array([0.69504911]), 'action': array([1.09]), 'reward': array([1.7085359]), 'true_reward': array([0.75760353])})\n",
      "({'features': array([0.14062103, 0.16588237, 0.28373912, 0.32884   , 0.48086584]), 'inventory': array([[1.]], dtype=float32), 'prev_action': array([[-0.56]], dtype=float32), 'prev_reward': array([[0.7666168]], dtype=float32), 'prev_done': array([0.], dtype=float32)}, array([0.76661681]), array([False]), {'inv': array([3000.]), 'demand': array([1.02668859]), 'true_demand': array([0.77111563]), 'action': array([1.1]), 'reward': array([1.12935745]), 'true_reward': array([0.84822719])})\n",
      "({'features': array([0.28409604, 0.20010128, 0.24708781, 0.48914126, 0.40624889]), 'inventory': array([[1.]], dtype=float32), 'prev_action': array([[-0.556]], dtype=float32), 'prev_reward': array([[0.7859674]], dtype=float32), 'prev_done': array([0.], dtype=float32)}, array([0.7859674]), array([False]), {'inv': array([3000.]), 'demand': array([1.45892657]), 'true_demand': array([1.02507304]), 'action': array([1.11]), 'reward': array([1.61940849]), 'true_reward': array([1.13783107])})\n",
      "({'features': array([0.14246046, 0.34584631, 0.254615  , 0.41728218, 0.36860863]), 'inventory': array([[1.]], dtype=float32), 'prev_action': array([[-0.552]], dtype=float32), 'prev_reward': array([[0.]], dtype=float32), 'prev_done': array([0.], dtype=float32)}, array([0.]), array([False]), {'inv': array([3000.]), 'demand': array([0.]), 'true_demand': array([1.23365858]), 'action': array([1.12]), 'reward': array([0.]), 'true_reward': array([1.38169761])})\n",
      "({'features': array([0.00680716, 0.1217803 , 0.38914512, 0.37655423, 0.1362897 ]), 'inventory': array([[1.]], dtype=float32), 'prev_action': array([[-0.532]], dtype=float32), 'prev_reward': array([[1.8476152]], dtype=float32), 'prev_done': array([0.], dtype=float32)}, array([1.8476152]), array([False]), {'inv': array([3000.]), 'demand': array([0.58635181]), 'true_demand': array([1.35073098]), 'action': array([1.17]), 'reward': array([0.68603162]), 'true_reward': array([1.58035524])})\n",
      "({'features': array([0.40089681, 0.2106022 , 0.41211916, 0.00048459, 0.09910346]), 'inventory': array([[1.]], dtype=float32), 'prev_action': array([[-0.56]], dtype=float32), 'prev_reward': array([[0.9405657]], dtype=float32), 'prev_done': array([0.], dtype=float32)}, array([0.94056572]), array([False]), {'inv': array([3000.]), 'demand': array([1.82176292]), 'true_demand': array([0.65684466]), 'action': array([1.1]), 'reward': array([2.00393921]), 'true_reward': array([0.72252913])})\n",
      "({'features': array([0.13938958, 0.48752133, 0.39299166, 0.40724122, 0.10194935]), 'inventory': array([[1.]], dtype=float32), 'prev_action': array([[-0.58]], dtype=float32), 'prev_reward': array([[1.2892946]], dtype=float32), 'prev_done': array([0.], dtype=float32)}, array([1.28929456]), array([False]), {'inv': array([3000.]), 'demand': array([1.9972692]), 'true_demand': array([0.32903075]), 'action': array([1.05]), 'reward': array([2.09713266]), 'true_reward': array([0.34548229])})\n",
      "({'features': array([0.33662122, 0.1175553 , 0.46545228, 0.40698602, 0.33772724]), 'inventory': array([[1.]], dtype=float32), 'prev_action': array([[-0.592]], dtype=float32), 'prev_reward': array([[0.825417]], dtype=float32), 'prev_done': array([0.], dtype=float32)}, array([0.82541696]), array([False]), {'inv': array([3000.]), 'demand': array([2.1802297]), 'true_demand': array([1.38599187]), 'action': array([1.02]), 'reward': array([2.22383429]), 'true_reward': array([1.41371171])})\n",
      "({'features': array([0.10734261, 0.40138051, 0.11252653, 0.19455745, 0.29980458]), 'inventory': array([[1.]], dtype=float32), 'prev_action': array([[-0.584]], dtype=float32), 'prev_reward': array([[0.9975095]], dtype=float32), 'prev_done': array([0.], dtype=float32)}, array([0.99750945]), array([False]), {'inv': array([3000.]), 'demand': array([0.757867]), 'true_demand': array([0.88006741]), 'action': array([1.04]), 'reward': array([0.78818168]), 'true_reward': array([0.91527011])})\n",
      "({'features': array([0.38071898, 0.46190248, 0.11976983, 0.36895442, 0.13220327]), 'inventory': array([[1.]], dtype=float32), 'prev_action': array([[-0.584]], dtype=float32), 'prev_reward': array([[391346.22]], dtype=float32), 'prev_done': array([0.], dtype=float32)}, array([391346.21190458]), array([False]), {'inv': array([3000.]), 'demand': array([0.37629443]), 'true_demand': array([1.2164544]), 'action': array([1.04]), 'reward': array([0.39134621]), 'true_reward': array([1.26511258])})\n",
      "({'features': array([0.23355428, 0.01628046, 0.1263861 , 0.46444888, 0.43885707]), 'inventory': array([[1.]], dtype=float32), 'prev_action': array([[-0.6]], dtype=float32), 'prev_reward': array([[0.9599726]], dtype=float32), 'prev_done': array([0.], dtype=float32)}, array([0.95997263]), array([False]), {'inv': array([3000.]), 'demand': array([1.07416271]), 'true_demand': array([1.43264181]), 'action': array([1.]), 'reward': array([1.07416271]), 'true_reward': array([1.43264181])})\n",
      "({'features': array([0.36112786, 0.21707927, 0.08923576, 0.47594413, 0.37508454]), 'inventory': array([[1.]], dtype=float32), 'prev_action': array([[-0.692]], dtype=float32), 'prev_reward': array([[0.4299807]], dtype=float32), 'prev_done': array([0.], dtype=float32)}, array([0.42998068]), array([False]), {'inv': array([3000.]), 'demand': array([1.67889614]), 'true_demand': array([1.04793022]), 'action': array([0.77]), 'reward': array([1.29275003]), 'true_reward': array([0.80690627])})\n",
      "({'features': array([0.18563133, 0.2130214 , 0.29346526, 0.23769782, 0.07977608]), 'inventory': array([[1.]], dtype=float32), 'prev_action': array([[-0.676]], dtype=float32), 'prev_reward': array([[0.8849206]], dtype=float32), 'prev_done': array([0.], dtype=float32)}, array([0.88492058]), array([False]), {'inv': array([3000.]), 'demand': array([0.94225616]), 'true_demand': array([1.41454672]), 'action': array([0.81]), 'reward': array([0.76322749]), 'true_reward': array([1.14578284])})\n",
      "({'features': array([0.17198953, 0.44074085, 0.08036682, 0.44236052, 0.24258837]), 'inventory': array([[1.]], dtype=float32), 'prev_action': array([[-0.66]], dtype=float32), 'prev_reward': array([[1.1514767]], dtype=float32), 'prev_done': array([0.], dtype=float32)}, array([1.15147671]), array([False]), {'inv': array([3000.]), 'demand': array([0.43328899]), 'true_demand': array([0.77947413]), 'action': array([0.85]), 'reward': array([0.36829565]), 'true_reward': array([0.66255301])})\n",
      "({'features': array([0.40036307, 0.43371266, 0.00746449, 0.29059989, 0.3110711 ]), 'inventory': array([[1.]], dtype=float32), 'prev_action': array([[-0.632]], dtype=float32), 'prev_reward': array([[0.5020939]], dtype=float32), 'prev_done': array([0.], dtype=float32)}, array([0.5020939]), array([False]), {'inv': array([3000.]), 'demand': array([1.6272866]), 'true_demand': array([1.60661347]), 'action': array([0.92]), 'reward': array([1.49710367]), 'true_reward': array([1.4780844])})\n",
      "({'features': array([0.07263627, 0.27803197, 0.30461361, 0.30555123, 0.13394625]), 'inventory': array([[1.]], dtype=float32), 'prev_action': array([[-0.588]], dtype=float32), 'prev_reward': array([[1.0914624]], dtype=float32), 'prev_done': array([1.], dtype=float32)}, array([1.0914624]), array([False]), {'inv': array([3000.]), 'demand': array([0.88479242]), 'true_demand': array([1.46116265]), 'action': array([1.03]), 'reward': array([0.91133619]), 'true_reward': array([1.50499753])})\n"
     ]
    }
   ],
   "source": [
    "agent.eval()\n",
    "agent.reset_hidden()\n",
    "env = environments[0]\n",
    "env.reset()\n",
    "for i in range(300):\n",
    "    obs = conv(env.get_observation()[0])  # Preprocess the observation\n",
    "    action = agent.predict(obs)\n",
    "    print(env.step(action[0]))\n",
    "  "
   ]
  },
  {
   "cell_type": "code",
   "execution_count": 22,
   "metadata": {},
   "outputs": [
    {
     "name": "stdout",
     "output_type": "stream",
     "text": [
      "(array([[0.29700312]], dtype=float32), None, None)\n"
     ]
    }
   ],
   "source": [
    "agent.eval()\n",
    "env = environments[0]\n",
    "env.reset() \n",
    "agent.reset_hidden()\n",
    "processed_obs = conv(env.get_observation()[0])  # Preprocess the observation\n",
    "print(agent.predict(processed_obs))\n"
   ]
  }
 ],
 "metadata": {
  "kernelspec": {
   "display_name": "ddop",
   "language": "python",
   "name": "python3"
  },
  "language_info": {
   "codemirror_mode": {
    "name": "ipython",
    "version": 3
   },
   "file_extension": ".py",
   "mimetype": "text/x-python",
   "name": "python",
   "nbconvert_exporter": "python",
   "pygments_lexer": "ipython3",
   "version": "3.10.15"
  }
 },
 "nbformat": 4,
 "nbformat_minor": 2
}
