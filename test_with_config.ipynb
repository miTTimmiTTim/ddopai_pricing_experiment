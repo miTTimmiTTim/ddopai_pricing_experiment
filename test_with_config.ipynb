{
 "cells": [
  {
   "cell_type": "code",
   "execution_count": 1,
   "metadata": {},
   "outputs": [],
   "source": [
    "import os\n",
    "os.environ['NUMEXPR_MAX_THREADS'] = '1'\n",
    "\n",
    "import logging\n",
    "import numexpr as ne\n",
    "import numpy as np\n",
    "import torch\n",
    "import datetime\n",
    "from ddopai.envs.pricing.dynamic import DynamicPricingEnv\n",
    "from ddopai.envs.pricing.dynamic_RL2 import RL2DynamicPricingEnv\n",
    "from ddopai.envs.actionprocessors import ClipAction, RoundAction\n",
    "from ddopai.agents.obsprocessors import ConvertDictSpace\n",
    "\n",
    "#from ddopai.experiments.experiment_functions_online import run_experiment, run_hp_experiment, evaluate_val\n",
    "from ddopai.experiments.experiment_functions_meta import run_experiment, test_agent, run_test_episode\n",
    "from ddopai.experiments.meta_experiment_functions import *\n",
    "import requests\n",
    "import yaml\n",
    "import re\n",
    "import pandas as pd\n",
    "import wandb\n",
    "from copy import deepcopy\n",
    "import warnings\n",
    "import gc\n",
    "from mushroom_rl import core \n",
    "#from ddopai.experiments.meta_core import Core\n",
    "import pickle"
   ]
  },
  {
   "cell_type": "code",
   "execution_count": 2,
   "metadata": {},
   "outputs": [],
   "source": [
    "logging_level = logging.INFO\n",
    "logging.basicConfig(level=logging_level)\n",
    "\n",
    "ne.set_num_threads(1)\n",
    "torch.backends.cudnn.enabled = False\n",
    "torch.set_num_threads(1)\n",
    "\n",
    "set_warnings(logging.INFO) # turn off warnings for any level higher or equal to the input level\n",
    "LIBRARIES_TO_TRACK = [\"ddopai\", \"mushroom_rl\"]\n",
    "PROJECT_NAME = \"pricing_cMDP_test\"\n",
    "\n",
    "ENVCLASS = DynamicPricingEnv\n",
    "RESULTS_DIR = \"results\"\n",
    "def get_ENVCLASS(class_name):\n",
    "    if class_name == \"DynamicPricingEnv\":\n",
    "        return DynamicPricingEnv\n",
    "    elif class_name == \"DynamicPricingInvEnv\":\n",
    "        return DynamicPricingInvEnv\n",
    "    elif class_name == \"LagDynamicPricingEnv\":\n",
    "        return LagDynamicPricingEnv\n",
    "    elif class_name == \"RL2DynamicPricingEnv\":\n",
    "        return RL2DynamicPricingEnv\n",
    "    else:\n",
    "        raise ValueError(f\"Unknown class name {class_name}\")"
   ]
  },
  {
   "cell_type": "markdown",
   "metadata": {},
   "source": [
    "# Experiment preparations\n",
    "## Set-up WandB\n",
    "### Init WandB"
   ]
  },
  {
   "cell_type": "code",
   "execution_count": 3,
   "metadata": {},
   "outputs": [],
   "source": [
    "project_name = \"pricing_cMDP\"\n"
   ]
  },
  {
   "cell_type": "markdown",
   "metadata": {},
   "source": [
    "### Track library versions and git hash of experiment"
   ]
  },
  {
   "cell_type": "markdown",
   "metadata": {},
   "source": [
    "# Experiment parameters"
   ]
  },
  {
   "cell_type": "code",
   "execution_count": 4,
   "metadata": {},
   "outputs": [
    {
     "name": "stderr",
     "output_type": "stream",
     "text": [
      "\u001b[34m\u001b[1mwandb\u001b[0m: Using wandb-core as the SDK backend.  Please refer to https://wandb.me/wandb-core for more information.\n",
      "\u001b[34m\u001b[1mwandb\u001b[0m: Currently logged in as: \u001b[33mtimlachner\u001b[0m. Use \u001b[1m`wandb login --relogin`\u001b[0m to force relogin\n"
     ]
    },
    {
     "data": {
      "text/html": [
       "Tracking run with wandb version 0.18.6"
      ],
      "text/plain": [
       "<IPython.core.display.HTML object>"
      ]
     },
     "metadata": {},
     "output_type": "display_data"
    },
    {
     "data": {
      "text/html": [
       "Run data is saved locally in <code>/Users/timlachner/Library/CloudStorage/OneDrive-Personal/Work/DDOP/ddopai_pricing_experiments/wandb/run-20250519_133027-9ff5tcvl</code>"
      ],
      "text/plain": [
       "<IPython.core.display.HTML object>"
      ]
     },
     "metadata": {},
     "output_type": "display_data"
    },
    {
     "data": {
      "text/html": [
       "Syncing run <strong><a href='https://wandb.ai/timlachner/pricing_cMDP_test/runs/9ff5tcvl' target=\"_blank\">pricing_cMDP_test_2025-05-19_13-30-27</a></strong> to <a href='https://wandb.ai/timlachner/pricing_cMDP_test' target=\"_blank\">Weights & Biases</a> (<a href='https://wandb.me/developer-guide' target=\"_blank\">docs</a>)<br/>"
      ],
      "text/plain": [
       "<IPython.core.display.HTML object>"
      ]
     },
     "metadata": {},
     "output_type": "display_data"
    },
    {
     "data": {
      "text/html": [
       " View project at <a href='https://wandb.ai/timlachner/pricing_cMDP_test' target=\"_blank\">https://wandb.ai/timlachner/pricing_cMDP_test</a>"
      ],
      "text/plain": [
       "<IPython.core.display.HTML object>"
      ]
     },
     "metadata": {},
     "output_type": "display_data"
    },
    {
     "data": {
      "text/html": [
       " View run at <a href='https://wandb.ai/timlachner/pricing_cMDP_test/runs/9ff5tcvl' target=\"_blank\">https://wandb.ai/timlachner/pricing_cMDP_test/runs/9ff5tcvl</a>"
      ],
      "text/plain": [
       "<IPython.core.display.HTML object>"
      ]
     },
     "metadata": {},
     "output_type": "display_data"
    },
    {
     "name": "stderr",
     "output_type": "stream",
     "text": [
      "INFO:root:ddopai: 0.0.7\n",
      "INFO:root:mushroom_rl: 1.10.1\n",
      "INFO:root:Git hash: 855d846a6d43bb012b88168fd8200f7f5ae3b8bd\n",
      "INFO:root:Configuration file 'config_train.yaml' successfully loaded.\n",
      "INFO:root:Configuration file 'config_agent.yaml' successfully loaded.\n",
      "INFO:root:Configuration file 'config_env.yaml' successfully loaded.\n",
      "WARNING:root:No lag window specified in the agent configuration. Keeping value from env config\n"
     ]
    }
   ],
   "source": [
    "config_train, config_agent, config_env, AgentClass, agent_name = prep_experiment(\n",
    "        PROJECT_NAME,\n",
    "        LIBRARIES_TO_TRACK,\n",
    "        config_train_name=\"config_train.yaml\",\n",
    "        config_agent_name=\"config_agent.yaml\",\n",
    "        config_env_name=\"config_env.yaml\",\n",
    "    )"
   ]
  },
  {
   "cell_type": "code",
   "execution_count": 5,
   "metadata": {},
   "outputs": [],
   "source": [
    "if \"gamma\" in config_agent:\n",
    "        config_env[\"gamma\"] = config_agent[\"gamma\"]\n",
    "        del config_agent[\"gamma\"]"
   ]
  },
  {
   "cell_type": "code",
   "execution_count": 6,
   "metadata": {},
   "outputs": [],
   "source": [
    "#artifact = wandb.use_artifact('raw_data:latest')\n",
    "#path = artifact.download()\n",
    "#raw_data = pickle.load(open(os.path.join(path, 'raw_data.pkl'), 'rb'))"
   ]
  },
  {
   "cell_type": "code",
   "execution_count": 7,
   "metadata": {},
   "outputs": [],
   "source": [
    "raw_data, val_index_start, test_index_start = get_online_data(\n",
    "            config_env,\n",
    "            overwrite=False\n",
    "        )"
   ]
  },
  {
   "cell_type": "markdown",
   "metadata": {},
   "source": [
    "## Environment parameters\n",
    "\n",
    "* Get the environment parameters from the config file \n",
    "* Overwrite the ```lag_window```parameter with the parameter specified in the agent, if it is specified (since lag window is provided by the environment, but a tunable hyperparameter of the agent)"
   ]
  },
  {
   "cell_type": "code",
   "execution_count": 8,
   "metadata": {},
   "outputs": [
    {
     "data": {
      "text/plain": [
       "dict_keys(['const_params', 'env_class', 'env_kwargs', 'normalize_features', 'size_test', 'size_train', 'size_val', 'unit_size'])"
      ]
     },
     "execution_count": 8,
     "metadata": {},
     "output_type": "execute_result"
    }
   ],
   "source": [
    "config_env.keys()"
   ]
  },
  {
   "cell_type": "code",
   "execution_count": 9,
   "metadata": {},
   "outputs": [],
   "source": [
    "round_action = RoundAction(unit_size=config_env[\"unit_size\"])\n",
    "clip_action = ClipAction(lower=config_env[\"env_kwargs\"][\"p_bound_low\"], upper=config_env[\"env_kwargs\"][\"p_bound_high\"])\n",
    "postprocessors = [round_action, clip_action]\n",
    "\n",
    "#ENVCLASS = get_ENVCLASS(config_env[\"env_class\"])\n",
    "environment = set_up_env_online(ENVCLASS, raw_data, val_index_start, test_index_start, config_env, postprocessors)"
   ]
  },
  {
   "cell_type": "markdown",
   "metadata": {},
   "source": [
    "## Agent Parameter"
   ]
  },
  {
   "cell_type": "code",
   "execution_count": 10,
   "metadata": {},
   "outputs": [
    {
     "data": {
      "text/plain": [
       "{'learning_rate_actor': 0.005,\n",
       " 'learning_rate_critic': 0.005,\n",
       " 'initial_replay_size': 32,\n",
       " 'max_replay_size': 256,\n",
       " 'batch_size': 32,\n",
       " 'hidden_layers': [32, 8],\n",
       " 'activation': 'relu',\n",
       " 'lr_alpha': 0.005,\n",
       " 'log_std_min': -20,\n",
       " 'log_std_max': 2,\n",
       " 'warmup_transitions': 32,\n",
       " 'tau': 0.005,\n",
       " 'target_entropy': -1.0,\n",
       " 'optimizer': 'Adam',\n",
       " 'loss': 'MSE',\n",
       " 'device': 'cpu',\n",
       " 'use_log_alpha_loss': True,\n",
       " 'n_steps_per_fit': 1}"
      ]
     },
     "execution_count": 10,
     "metadata": {},
     "output_type": "execute_result"
    }
   ],
   "source": [
    "config_agent"
   ]
  },
  {
   "cell_type": "code",
   "execution_count": 11,
   "metadata": {},
   "outputs": [],
   "source": [
    "n_steps_per_fit = config_agent.pop(\"n_steps_per_fit\", None)\n",
    "n_episodes_per_fit = config_agent.pop(\"n_episodes_per_fit\", None)"
   ]
  },
  {
   "cell_type": "code",
   "execution_count": 12,
   "metadata": {},
   "outputs": [
    {
     "name": "stderr",
     "output_type": "stream",
     "text": [
      "INFO:root:Agent: SAC\n",
      "INFO:root:Actor network (mu network):\n"
     ]
    },
    {
     "name": "stdout",
     "output_type": "stream",
     "text": [
      "==========================================================================================\n",
      "Layer (type:depth-idx)                   Output Shape              Param #\n",
      "==========================================================================================\n",
      "MLPActor                                 [1, 1]                    --\n",
      "├─Sequential: 1-1                        [1, 1]                    --\n",
      "│    └─Linear: 2-1                       [1, 32]                   224\n",
      "│    └─ReLU: 2-2                         [1, 32]                   --\n",
      "│    └─Dropout: 2-3                      [1, 32]                   --\n",
      "│    └─Linear: 2-4                       [1, 8]                    264\n",
      "│    └─ReLU: 2-5                         [1, 8]                    --\n",
      "│    └─Dropout: 2-6                      [1, 8]                    --\n",
      "│    └─Linear: 2-7                       [1, 1]                    9\n",
      "│    └─Identity: 2-8                     [1, 1]                    --\n",
      "==========================================================================================\n",
      "Total params: 497\n",
      "Trainable params: 497\n",
      "Non-trainable params: 0\n",
      "Total mult-adds (M): 0.00\n",
      "==========================================================================================\n",
      "Input size (MB): 0.00\n",
      "Forward/backward pass size (MB): 0.00\n",
      "Params size (MB): 0.00\n",
      "Estimated Total Size (MB): 0.00\n",
      "==========================================================================================\n"
     ]
    },
    {
     "name": "stderr",
     "output_type": "stream",
     "text": [
      "INFO:root:################################################################################\n",
      "INFO:root:Critic network:\n"
     ]
    },
    {
     "name": "stdout",
     "output_type": "stream",
     "text": [
      "==========================================================================================\n",
      "Layer (type:depth-idx)                   Output Shape              Param #\n",
      "==========================================================================================\n",
      "MLPStateAction                           --                        --\n",
      "├─Sequential: 1-1                        [1, 1]                    --\n",
      "│    └─Linear: 2-1                       [1, 32]                   256\n",
      "│    └─ReLU: 2-2                         [1, 32]                   --\n",
      "│    └─Dropout: 2-3                      [1, 32]                   --\n",
      "│    └─Linear: 2-4                       [1, 8]                    264\n",
      "│    └─ReLU: 2-5                         [1, 8]                    --\n",
      "│    └─Dropout: 2-6                      [1, 8]                    --\n",
      "│    └─Linear: 2-7                       [1, 1]                    9\n",
      "│    └─Identity: 2-8                     [1, 1]                    --\n",
      "==========================================================================================\n",
      "Total params: 529\n",
      "Trainable params: 529\n",
      "Non-trainable params: 0\n",
      "Total mult-adds (M): 0.00\n",
      "==========================================================================================\n",
      "Input size (MB): 0.00\n",
      "Forward/backward pass size (MB): 0.00\n",
      "Params size (MB): 0.00\n",
      "Estimated Total Size (MB): 0.00\n",
      "==========================================================================================\n"
     ]
    }
   ],
   "source": [
    "logging.info(f\"Agent: {agent_name}\")\n",
    "if agent_name in [\"SAC\", \"PPORNN\", \"RL2PPO\"]:\n",
    "    obsprocessors = [ConvertDictSpace(keep_time_dim=False, )]\n",
    "else:\n",
    "    obsprocessors = []\n",
    "if \"link\" in config_agent:\n",
    "    glm_link, price_function = set_up_agent(AgentClass, environment, config_agent)\n",
    "    config_agent[\"g\"] = glm_link\n",
    "    config_agent[\"price_function\"] = price_function\n",
    "    \n",
    "    del config_agent[\"link\"]\n",
    "if agent_name == \"Clairvoyant\":\n",
    "    agent = AgentClass(\n",
    "    task = environment.get_task(),\n",
    "    environment_info=environment.mdp_info,\n",
    "    **config_agent\n",
    "    )\n",
    "else:\n",
    "    agent = AgentClass(\n",
    "    environment_info=environment.mdp_info,\n",
    "    obsprocessors=obsprocessors,\n",
    "    **config_agent\n",
    "    )\n"
   ]
  },
  {
   "cell_type": "code",
   "execution_count": 13,
   "metadata": {},
   "outputs": [
    {
     "data": {
      "text/plain": [
       "[<ddopai.agents.obsprocessors.ConvertDictSpace at 0x1530540d0>]"
      ]
     },
     "execution_count": 13,
     "metadata": {},
     "output_type": "execute_result"
    }
   ],
   "source": [
    "obsprocessors"
   ]
  },
  {
   "cell_type": "code",
   "execution_count": 14,
   "metadata": {},
   "outputs": [
    {
     "data": {
      "text/plain": [
       "[<ddopai.agents.obsprocessors.ConvertDictSpace at 0x1530540d0>,\n",
       " <ddopai.agents.obsprocessors.FlattenTimeDimNumpy at 0x1124d2140>]"
      ]
     },
     "execution_count": 14,
     "metadata": {},
     "output_type": "execute_result"
    }
   ],
   "source": [
    "\n",
    "agent.preprocessors"
   ]
  },
  {
   "cell_type": "code",
   "execution_count": 15,
   "metadata": {},
   "outputs": [],
   "source": [
    "earlystoppinghandler = set_up_earlystoppinghandler(config_train)"
   ]
  },
  {
   "cell_type": "code",
   "execution_count": 16,
   "metadata": {},
   "outputs": [],
   "source": [
    "agent.n_steps_per_fit = n_steps_per_fit\n",
    "#agent.train_mode = \"online_eval\""
   ]
  },
  {
   "cell_type": "code",
   "execution_count": null,
   "metadata": {},
   "outputs": [
    {
     "name": "stderr",
     "output_type": "stream",
     "text": [
      "INFO:root:Starting experiment\n",
      "INFO:root:Starting training with env_interaction\n"
     ]
    },
    {
     "name": "stdout",
     "output_type": "stream",
     "text": [
      "Experiment directory: results/9ff5tcvl\n"
     ]
    },
    {
     "name": "stderr",
     "output_type": "stream",
     "text": [
      "  4%|▎         | 9/250 [00:07<03:27,  1.16it/s]INFO:root:Epoch 10: R=242.18407319700964, J=0.4774198859973497\n",
      "  4%|▍         | 10/250 [00:08<03:28,  1.15it/s]"
     ]
    },
    {
     "name": "stdout",
     "output_type": "stream",
     "text": [
      "Episode 0: R=2421.8407319700964, J=4.774198859973497\n",
      "Episode 1: R=0, J=0\n",
      "Episode 2: R=0, J=0\n",
      "Episode 3: R=0, J=0\n",
      "Episode 4: R=0, J=0\n",
      "Episode 5: R=0, J=0\n",
      "Episode 6: R=0, J=0\n",
      "Episode 7: R=0, J=0\n",
      "Episode 8: R=0, J=0\n",
      "Episode 9: R=0, J=0\n"
     ]
    },
    {
     "name": "stderr",
     "output_type": "stream",
     "text": [
      "  8%|▊         | 19/250 [00:17<03:35,  1.07it/s]\n"
     ]
    },
    {
     "ename": "KeyboardInterrupt",
     "evalue": "",
     "output_type": "error",
     "traceback": [
      "\u001b[0;31m---------------------------------------------------------------------------\u001b[0m",
      "\u001b[0;31mKeyboardInterrupt\u001b[0m                         Traceback (most recent call last)",
      "Cell \u001b[0;32mIn[17], line 1\u001b[0m\n\u001b[0;32m----> 1\u001b[0m dataset \u001b[38;5;241m=\u001b[39m \u001b[43mrun_experiment\u001b[49m\u001b[43m(\u001b[49m\n\u001b[1;32m      2\u001b[0m \u001b[43m        \u001b[49m\u001b[43magent\u001b[49m\u001b[38;5;241;43m=\u001b[39;49m\u001b[43magent\u001b[49m\u001b[43m,\u001b[49m\n\u001b[1;32m      3\u001b[0m \u001b[43m        \u001b[49m\u001b[43menv\u001b[49m\u001b[38;5;241;43m=\u001b[39;49m\u001b[43menvironment\u001b[49m\u001b[43m,\u001b[49m\n\u001b[1;32m      4\u001b[0m \u001b[43m        \u001b[49m\u001b[43meval_freq\u001b[49m\u001b[38;5;241;43m=\u001b[39;49m\u001b[43m \u001b[49m\u001b[38;5;241;43m10\u001b[39;49m\u001b[43m,\u001b[49m\u001b[43m    \u001b[49m\n\u001b[1;32m      5\u001b[0m \u001b[43m        \u001b[49m\u001b[43mn_epochs\u001b[49m\u001b[38;5;241;43m=\u001b[39;49m\u001b[43mconfig_train\u001b[49m\u001b[43m[\u001b[49m\u001b[38;5;124;43m\"\u001b[39;49m\u001b[38;5;124;43mn_epochs\u001b[39;49m\u001b[38;5;124;43m\"\u001b[39;49m\u001b[43m]\u001b[49m\u001b[43m,\u001b[49m\n\u001b[1;32m      6\u001b[0m \u001b[43m        \u001b[49m\u001b[43mn_steps\u001b[49m\u001b[38;5;241;43m=\u001b[39;49m\u001b[43mconfig_train\u001b[49m\u001b[43m[\u001b[49m\u001b[38;5;124;43m\"\u001b[39;49m\u001b[38;5;124;43mn_steps\u001b[39;49m\u001b[38;5;124;43m\"\u001b[39;49m\u001b[43m]\u001b[49m\u001b[43m,\u001b[49m\n\u001b[1;32m      7\u001b[0m \u001b[43m        \u001b[49m\u001b[43mearly_stopping_handler\u001b[49m\u001b[38;5;241;43m=\u001b[39;49m\u001b[43mearlystoppinghandler\u001b[49m\u001b[43m,\u001b[49m\n\u001b[1;32m      8\u001b[0m \u001b[43m        \u001b[49m\u001b[43msave_best\u001b[49m\u001b[38;5;241;43m=\u001b[39;49m\u001b[43mconfig_train\u001b[49m\u001b[43m[\u001b[49m\u001b[38;5;124;43m\"\u001b[39;49m\u001b[38;5;124;43msave_best\u001b[39;49m\u001b[38;5;124;43m\"\u001b[39;49m\u001b[43m]\u001b[49m\u001b[43m,\u001b[49m\n\u001b[1;32m      9\u001b[0m \u001b[43m        \u001b[49m\u001b[43mrun_id\u001b[49m\u001b[38;5;241;43m=\u001b[39;49m\u001b[43mwandb\u001b[49m\u001b[38;5;241;43m.\u001b[39;49m\u001b[43mrun\u001b[49m\u001b[38;5;241;43m.\u001b[39;49m\u001b[43mid\u001b[49m\u001b[43m,\u001b[49m\n\u001b[1;32m     10\u001b[0m \u001b[43m        \u001b[49m\u001b[43mtracking\u001b[49m\u001b[38;5;241;43m=\u001b[39;49m\u001b[38;5;124;43m\"\u001b[39;49m\u001b[38;5;124;43mwandb\u001b[39;49m\u001b[38;5;124;43m\"\u001b[39;49m\u001b[43m,\u001b[49m\n\u001b[1;32m     11\u001b[0m \u001b[43m        \u001b[49m\u001b[43meval_step_info\u001b[49m\u001b[38;5;241;43m=\u001b[39;49m\u001b[38;5;28;43;01mFalse\u001b[39;49;00m\u001b[43m,\u001b[49m\n\u001b[1;32m     12\u001b[0m \u001b[43m        \u001b[49m\u001b[43mprint_freq\u001b[49m\u001b[38;5;241;43m=\u001b[39;49m\u001b[38;5;241;43m1\u001b[39;49m\u001b[43m,\u001b[49m\n\u001b[1;32m     13\u001b[0m \u001b[43m        \u001b[49m\u001b[43mresults_dir\u001b[49m\u001b[43m \u001b[49m\u001b[38;5;241;43m=\u001b[39;49m\u001b[43m \u001b[49m\u001b[43mRESULTS_DIR\u001b[49m\n\u001b[1;32m     14\u001b[0m \u001b[43m    \u001b[49m\u001b[43m)\u001b[49m\n",
      "File \u001b[0;32m~/Library/CloudStorage/OneDrive-Personal/Work/DDOP/ddopai/ddopai/experiments/experiment_functions_meta.py:398\u001b[0m, in \u001b[0;36mrun_experiment\u001b[0;34m(agent, env, n_epochs, n_steps, early_stopping_handler, save_best, performance_criterion, tracking, results_dir, run_id, eval_freq, print_freq, eval_step_info, return_score)\u001b[0m\n\u001b[1;32m    394\u001b[0m agent\u001b[38;5;241m.\u001b[39mtrain()\n\u001b[1;32m    396\u001b[0m env\u001b[38;5;241m.\u001b[39mreset_episode(\u001b[38;5;124m\"\u001b[39m\u001b[38;5;124mrandom\u001b[39m\u001b[38;5;124m\"\u001b[39m)\n\u001b[0;32m--> 398\u001b[0m \u001b[43mcore\u001b[49m\u001b[38;5;241;43m.\u001b[39;49m\u001b[43mlearn\u001b[49m\u001b[43m(\u001b[49m\u001b[43mn_episodes\u001b[49m\u001b[38;5;241;43m=\u001b[39;49m\u001b[38;5;241;43m1\u001b[39;49m\u001b[43m,\u001b[49m\u001b[43m \u001b[49m\u001b[43mn_steps_per_fit\u001b[49m\u001b[38;5;241;43m=\u001b[39;49m\u001b[43mn_steps_per_fit\u001b[49m\u001b[43m,\u001b[49m\u001b[43m \u001b[49m\u001b[43mn_episodes_per_fit\u001b[49m\u001b[38;5;241;43m=\u001b[39;49m\u001b[43mn_episodes_per_fit\u001b[49m\u001b[43m,\u001b[49m\u001b[43m \u001b[49m\u001b[43mquiet\u001b[49m\u001b[38;5;241;43m=\u001b[39;49m\u001b[38;5;28;43;01mTrue\u001b[39;49;00m\u001b[43m)\u001b[49m\n\u001b[1;32m    399\u001b[0m env\u001b[38;5;241m.\u001b[39mset_return_truncation(\u001b[38;5;28;01mTrue\u001b[39;00m) \u001b[38;5;66;03m# Set back to standard gynmasium behavior\u001b[39;00m\n\u001b[1;32m    401\u001b[0m \u001b[38;5;28;01mif\u001b[39;00m ((epoch \u001b[38;5;241m+\u001b[39m \u001b[38;5;241m1\u001b[39m) \u001b[38;5;241m%\u001b[39m eval_freq) \u001b[38;5;241m==\u001b[39m \u001b[38;5;241m0\u001b[39m:\n",
      "File \u001b[0;32m/opt/anaconda3/envs/ddop/lib/python3.10/site-packages/mushroom_rl/core/core.py:77\u001b[0m, in \u001b[0;36mCore.learn\u001b[0;34m(self, n_steps, n_episodes, n_steps_per_fit, n_episodes_per_fit, render, quiet, record)\u001b[0m\n\u001b[1;32m     74\u001b[0m \u001b[38;5;28;01melse\u001b[39;00m:\n\u001b[1;32m     75\u001b[0m     fit_condition \u001b[38;5;241m=\u001b[39m \u001b[38;5;28;01mlambda\u001b[39;00m: \u001b[38;5;28mself\u001b[39m\u001b[38;5;241m.\u001b[39m_current_episodes_counter  \u001b[38;5;241m>\u001b[39m\u001b[38;5;241m=\u001b[39m \u001b[38;5;28mself\u001b[39m\u001b[38;5;241m.\u001b[39m_n_episodes_per_fit\n\u001b[0;32m---> 77\u001b[0m \u001b[38;5;28;43mself\u001b[39;49m\u001b[38;5;241;43m.\u001b[39;49m\u001b[43m_run\u001b[49m\u001b[43m(\u001b[49m\u001b[43mn_steps\u001b[49m\u001b[43m,\u001b[49m\u001b[43m \u001b[49m\u001b[43mn_episodes\u001b[49m\u001b[43m,\u001b[49m\u001b[43m \u001b[49m\u001b[43mfit_condition\u001b[49m\u001b[43m,\u001b[49m\u001b[43m \u001b[49m\u001b[43mrender\u001b[49m\u001b[43m,\u001b[49m\u001b[43m \u001b[49m\u001b[43mquiet\u001b[49m\u001b[43m,\u001b[49m\u001b[43m \u001b[49m\u001b[43mrecord\u001b[49m\u001b[43m,\u001b[49m\u001b[43m \u001b[49m\u001b[43mget_env_info\u001b[49m\u001b[38;5;241;43m=\u001b[39;49m\u001b[38;5;28;43;01mFalse\u001b[39;49;00m\u001b[43m)\u001b[49m\n",
      "File \u001b[0;32m/opt/anaconda3/envs/ddop/lib/python3.10/site-packages/mushroom_rl/core/core.py:125\u001b[0m, in \u001b[0;36mCore._run\u001b[0;34m(self, n_steps, n_episodes, fit_condition, render, quiet, record, get_env_info, initial_states)\u001b[0m\n\u001b[1;32m    122\u001b[0m     steps_progress_bar \u001b[38;5;241m=\u001b[39m tqdm(disable\u001b[38;5;241m=\u001b[39m\u001b[38;5;28;01mTrue\u001b[39;00m)\n\u001b[1;32m    123\u001b[0m     episodes_progress_bar \u001b[38;5;241m=\u001b[39m tqdm(total\u001b[38;5;241m=\u001b[39m\u001b[38;5;28mself\u001b[39m\u001b[38;5;241m.\u001b[39m_n_episodes, dynamic_ncols\u001b[38;5;241m=\u001b[39m\u001b[38;5;28;01mTrue\u001b[39;00m, disable\u001b[38;5;241m=\u001b[39mquiet, leave\u001b[38;5;241m=\u001b[39m\u001b[38;5;28;01mFalse\u001b[39;00m)\n\u001b[0;32m--> 125\u001b[0m dataset, dataset_info \u001b[38;5;241m=\u001b[39m \u001b[38;5;28;43mself\u001b[39;49m\u001b[38;5;241;43m.\u001b[39;49m\u001b[43m_run_impl\u001b[49m\u001b[43m(\u001b[49m\u001b[43mmove_condition\u001b[49m\u001b[43m,\u001b[49m\u001b[43m \u001b[49m\u001b[43mfit_condition\u001b[49m\u001b[43m,\u001b[49m\u001b[43m \u001b[49m\u001b[43msteps_progress_bar\u001b[49m\u001b[43m,\u001b[49m\u001b[43m \u001b[49m\u001b[43mepisodes_progress_bar\u001b[49m\u001b[43m,\u001b[49m\n\u001b[1;32m    126\u001b[0m \u001b[43m                                       \u001b[49m\u001b[43mrender\u001b[49m\u001b[43m,\u001b[49m\u001b[43m \u001b[49m\u001b[43mrecord\u001b[49m\u001b[43m,\u001b[49m\u001b[43m \u001b[49m\u001b[43minitial_states\u001b[49m\u001b[43m)\u001b[49m\n\u001b[1;32m    128\u001b[0m \u001b[38;5;28;01mif\u001b[39;00m get_env_info:\n\u001b[1;32m    129\u001b[0m     \u001b[38;5;28;01mreturn\u001b[39;00m dataset, dataset_info\n",
      "File \u001b[0;32m/opt/anaconda3/envs/ddop/lib/python3.10/site-packages/mushroom_rl/core/core.py:167\u001b[0m, in \u001b[0;36mCore._run_impl\u001b[0;34m(self, move_condition, fit_condition, steps_progress_bar, episodes_progress_bar, render, record, initial_states)\u001b[0m\n\u001b[1;32m    164\u001b[0m     dataset_info[key]\u001b[38;5;241m.\u001b[39mappend(value)\n\u001b[1;32m    166\u001b[0m \u001b[38;5;28;01mif\u001b[39;00m fit_condition():\n\u001b[0;32m--> 167\u001b[0m     \u001b[38;5;28;43mself\u001b[39;49m\u001b[38;5;241;43m.\u001b[39;49m\u001b[43magent\u001b[49m\u001b[38;5;241;43m.\u001b[39;49m\u001b[43mfit\u001b[49m\u001b[43m(\u001b[49m\u001b[43mdataset\u001b[49m\u001b[43m,\u001b[49m\u001b[43m \u001b[49m\u001b[38;5;241;43m*\u001b[39;49m\u001b[38;5;241;43m*\u001b[39;49m\u001b[43mdataset_info\u001b[49m\u001b[43m)\u001b[49m\n\u001b[1;32m    168\u001b[0m     \u001b[38;5;28mself\u001b[39m\u001b[38;5;241m.\u001b[39m_current_episodes_counter \u001b[38;5;241m=\u001b[39m \u001b[38;5;241m0\u001b[39m\n\u001b[1;32m    169\u001b[0m     \u001b[38;5;28mself\u001b[39m\u001b[38;5;241m.\u001b[39m_current_steps_counter \u001b[38;5;241m=\u001b[39m \u001b[38;5;241m0\u001b[39m\n",
      "File \u001b[0;32m~/Library/CloudStorage/OneDrive-Personal/Work/DDOP/ddopai/ddopai/agents/rl/mushroom_rl.py:298\u001b[0m, in \u001b[0;36mMushroomBaseAgent.fit\u001b[0;34m(self, dataset, **dataset_info)\u001b[0m\n\u001b[1;32m    294\u001b[0m \u001b[38;5;28;01mdef\u001b[39;00m \u001b[38;5;21mfit\u001b[39m(\u001b[38;5;28mself\u001b[39m, dataset, \u001b[38;5;241m*\u001b[39m\u001b[38;5;241m*\u001b[39mdataset_info):\n\u001b[1;32m    296\u001b[0m \u001b[38;5;250m    \u001b[39m\u001b[38;5;124;03m\"\"\" Hand the fit mehtod to the mushroom agent \"\"\"\u001b[39;00m\n\u001b[0;32m--> 298\u001b[0m     \u001b[38;5;28;43mself\u001b[39;49m\u001b[38;5;241;43m.\u001b[39;49m\u001b[43magent\u001b[49m\u001b[38;5;241;43m.\u001b[39;49m\u001b[43mfit\u001b[49m\u001b[43m(\u001b[49m\u001b[43mdataset\u001b[49m\u001b[43m,\u001b[49m\u001b[43m \u001b[49m\u001b[38;5;241;43m*\u001b[39;49m\u001b[38;5;241;43m*\u001b[39;49m\u001b[43mdataset_info\u001b[49m\u001b[43m)\u001b[49m\n",
      "File \u001b[0;32m/opt/anaconda3/envs/ddop/lib/python3.10/site-packages/mushroom_rl/algorithms/actor_critic/deep_actor_critic/sac.py:289\u001b[0m, in \u001b[0;36mSAC.fit\u001b[0;34m(self, dataset, **info)\u001b[0m\n\u001b[1;32m    287\u001b[0m     action_new, log_prob \u001b[38;5;241m=\u001b[39m \u001b[38;5;28mself\u001b[39m\u001b[38;5;241m.\u001b[39mpolicy\u001b[38;5;241m.\u001b[39mcompute_action_and_log_prob_t(state)\n\u001b[1;32m    288\u001b[0m     loss \u001b[38;5;241m=\u001b[39m \u001b[38;5;28mself\u001b[39m\u001b[38;5;241m.\u001b[39m_loss(state, action_new, log_prob)\n\u001b[0;32m--> 289\u001b[0m     \u001b[38;5;28;43mself\u001b[39;49m\u001b[38;5;241;43m.\u001b[39;49m\u001b[43m_optimize_actor_parameters\u001b[49m\u001b[43m(\u001b[49m\u001b[43mloss\u001b[49m\u001b[43m)\u001b[49m\n\u001b[1;32m    290\u001b[0m     \u001b[38;5;28mself\u001b[39m\u001b[38;5;241m.\u001b[39m_update_alpha(log_prob\u001b[38;5;241m.\u001b[39mdetach())\n\u001b[1;32m    292\u001b[0m q_next \u001b[38;5;241m=\u001b[39m \u001b[38;5;28mself\u001b[39m\u001b[38;5;241m.\u001b[39m_next_q(next_state, absorbing)\n",
      "File \u001b[0;32m/opt/anaconda3/envs/ddop/lib/python3.10/site-packages/mushroom_rl/algorithms/actor_critic/deep_actor_critic/deep_actor_critic.py:66\u001b[0m, in \u001b[0;36mDeepAC._optimize_actor_parameters\u001b[0;34m(self, loss)\u001b[0m\n\u001b[1;32m     64\u001b[0m loss\u001b[38;5;241m.\u001b[39mbackward()\n\u001b[1;32m     65\u001b[0m \u001b[38;5;28mself\u001b[39m\u001b[38;5;241m.\u001b[39m_clip_gradient()\n\u001b[0;32m---> 66\u001b[0m \u001b[38;5;28;43mself\u001b[39;49m\u001b[38;5;241;43m.\u001b[39;49m\u001b[43m_optimizer\u001b[49m\u001b[38;5;241;43m.\u001b[39;49m\u001b[43mstep\u001b[49m\u001b[43m(\u001b[49m\u001b[43m)\u001b[49m\n",
      "File \u001b[0;32m/opt/anaconda3/envs/ddop/lib/python3.10/site-packages/torch/optim/optimizer.py:487\u001b[0m, in \u001b[0;36mOptimizer.profile_hook_step.<locals>.wrapper\u001b[0;34m(*args, **kwargs)\u001b[0m\n\u001b[1;32m    482\u001b[0m         \u001b[38;5;28;01melse\u001b[39;00m:\n\u001b[1;32m    483\u001b[0m             \u001b[38;5;28;01mraise\u001b[39;00m \u001b[38;5;167;01mRuntimeError\u001b[39;00m(\n\u001b[1;32m    484\u001b[0m                 \u001b[38;5;124mf\u001b[39m\u001b[38;5;124m\"\u001b[39m\u001b[38;5;132;01m{\u001b[39;00mfunc\u001b[38;5;132;01m}\u001b[39;00m\u001b[38;5;124m must return None or a tuple of (new_args, new_kwargs), but got \u001b[39m\u001b[38;5;132;01m{\u001b[39;00mresult\u001b[38;5;132;01m}\u001b[39;00m\u001b[38;5;124m.\u001b[39m\u001b[38;5;124m\"\u001b[39m\n\u001b[1;32m    485\u001b[0m             )\n\u001b[0;32m--> 487\u001b[0m out \u001b[38;5;241m=\u001b[39m \u001b[43mfunc\u001b[49m\u001b[43m(\u001b[49m\u001b[38;5;241;43m*\u001b[39;49m\u001b[43margs\u001b[49m\u001b[43m,\u001b[49m\u001b[43m \u001b[49m\u001b[38;5;241;43m*\u001b[39;49m\u001b[38;5;241;43m*\u001b[39;49m\u001b[43mkwargs\u001b[49m\u001b[43m)\u001b[49m\n\u001b[1;32m    488\u001b[0m \u001b[38;5;28mself\u001b[39m\u001b[38;5;241m.\u001b[39m_optimizer_step_code()\n\u001b[1;32m    490\u001b[0m \u001b[38;5;66;03m# call optimizer step post hooks\u001b[39;00m\n",
      "File \u001b[0;32m/opt/anaconda3/envs/ddop/lib/python3.10/site-packages/torch/optim/optimizer.py:91\u001b[0m, in \u001b[0;36m_use_grad_for_differentiable.<locals>._use_grad\u001b[0;34m(self, *args, **kwargs)\u001b[0m\n\u001b[1;32m     89\u001b[0m     torch\u001b[38;5;241m.\u001b[39mset_grad_enabled(\u001b[38;5;28mself\u001b[39m\u001b[38;5;241m.\u001b[39mdefaults[\u001b[38;5;124m\"\u001b[39m\u001b[38;5;124mdifferentiable\u001b[39m\u001b[38;5;124m\"\u001b[39m])\n\u001b[1;32m     90\u001b[0m     torch\u001b[38;5;241m.\u001b[39m_dynamo\u001b[38;5;241m.\u001b[39mgraph_break()\n\u001b[0;32m---> 91\u001b[0m     ret \u001b[38;5;241m=\u001b[39m \u001b[43mfunc\u001b[49m\u001b[43m(\u001b[49m\u001b[38;5;28;43mself\u001b[39;49m\u001b[43m,\u001b[49m\u001b[43m \u001b[49m\u001b[38;5;241;43m*\u001b[39;49m\u001b[43margs\u001b[49m\u001b[43m,\u001b[49m\u001b[43m \u001b[49m\u001b[38;5;241;43m*\u001b[39;49m\u001b[38;5;241;43m*\u001b[39;49m\u001b[43mkwargs\u001b[49m\u001b[43m)\u001b[49m\n\u001b[1;32m     92\u001b[0m \u001b[38;5;28;01mfinally\u001b[39;00m:\n\u001b[1;32m     93\u001b[0m     torch\u001b[38;5;241m.\u001b[39m_dynamo\u001b[38;5;241m.\u001b[39mgraph_break()\n",
      "File \u001b[0;32m/opt/anaconda3/envs/ddop/lib/python3.10/site-packages/torch/optim/adam.py:197\u001b[0m, in \u001b[0;36mAdam.step\u001b[0;34m(self, closure)\u001b[0m\n\u001b[1;32m    189\u001b[0m \u001b[38;5;129m@_use_grad_for_differentiable\u001b[39m\n\u001b[1;32m    190\u001b[0m \u001b[38;5;28;01mdef\u001b[39;00m \u001b[38;5;21mstep\u001b[39m(\u001b[38;5;28mself\u001b[39m, closure\u001b[38;5;241m=\u001b[39m\u001b[38;5;28;01mNone\u001b[39;00m):\n\u001b[1;32m    191\u001b[0m \u001b[38;5;250m    \u001b[39m\u001b[38;5;124;03m\"\"\"Perform a single optimization step.\u001b[39;00m\n\u001b[1;32m    192\u001b[0m \n\u001b[1;32m    193\u001b[0m \u001b[38;5;124;03m    Args:\u001b[39;00m\n\u001b[1;32m    194\u001b[0m \u001b[38;5;124;03m        closure (Callable, optional): A closure that reevaluates the model\u001b[39;00m\n\u001b[1;32m    195\u001b[0m \u001b[38;5;124;03m            and returns the loss.\u001b[39;00m\n\u001b[1;32m    196\u001b[0m \u001b[38;5;124;03m    \"\"\"\u001b[39;00m\n\u001b[0;32m--> 197\u001b[0m     \u001b[38;5;28;43mself\u001b[39;49m\u001b[38;5;241;43m.\u001b[39;49m\u001b[43m_cuda_graph_capture_health_check\u001b[49m\u001b[43m(\u001b[49m\u001b[43m)\u001b[49m\n\u001b[1;32m    199\u001b[0m     loss \u001b[38;5;241m=\u001b[39m \u001b[38;5;28;01mNone\u001b[39;00m\n\u001b[1;32m    200\u001b[0m     \u001b[38;5;28;01mif\u001b[39;00m closure \u001b[38;5;129;01mis\u001b[39;00m \u001b[38;5;129;01mnot\u001b[39;00m \u001b[38;5;28;01mNone\u001b[39;00m:\n",
      "File \u001b[0;32m/opt/anaconda3/envs/ddop/lib/python3.10/site-packages/torch/optim/optimizer.py:414\u001b[0m, in \u001b[0;36mOptimizer._cuda_graph_capture_health_check\u001b[0;34m(self)\u001b[0m\n\u001b[1;32m    411\u001b[0m     \u001b[38;5;28;01mreturn\u001b[39;00m format_string\n\u001b[1;32m    413\u001b[0m \u001b[38;5;66;03m# Currently needed by Adam and AdamW\u001b[39;00m\n\u001b[0;32m--> 414\u001b[0m \u001b[38;5;28;01mdef\u001b[39;00m \u001b[38;5;21m_cuda_graph_capture_health_check\u001b[39m(\u001b[38;5;28mself\u001b[39m) \u001b[38;5;241m-\u001b[39m\u001b[38;5;241m>\u001b[39m \u001b[38;5;28;01mNone\u001b[39;00m:\n\u001b[1;32m    415\u001b[0m     \u001b[38;5;66;03m# Note [torch.compile x capturable]\u001b[39;00m\n\u001b[1;32m    416\u001b[0m     \u001b[38;5;66;03m# If we are compiling, we try to take the capturable path automatically by\u001b[39;00m\n\u001b[1;32m    417\u001b[0m     \u001b[38;5;66;03m# setting the flag to True during tracing. Due to this, we skip all the checks\u001b[39;00m\n\u001b[1;32m    418\u001b[0m     \u001b[38;5;66;03m# normally required for determining whether we can use CUDA graphs and\u001b[39;00m\n\u001b[1;32m    419\u001b[0m     \u001b[38;5;66;03m# shunt the responsibility to torch.inductor. This saves time during tracing\u001b[39;00m\n\u001b[1;32m    420\u001b[0m     \u001b[38;5;66;03m# since the checks are slow without sacrificing UX since inductor will warn\u001b[39;00m\n\u001b[1;32m    421\u001b[0m     \u001b[38;5;66;03m# later if CUDA graphs cannot be enabled, e.g.,\u001b[39;00m\n\u001b[1;32m    422\u001b[0m     \u001b[38;5;66;03m# https://github.com/pytorch/pytorch/blob/d3ba8901d8640eb16f88b2bfef9df7fa383d4b47/torch/_inductor/compile_fx.py#L390.\u001b[39;00m\n\u001b[1;32m    423\u001b[0m     \u001b[38;5;66;03m# Thus, when compiling, inductor will determine if cudagraphs\u001b[39;00m\n\u001b[1;32m    424\u001b[0m     \u001b[38;5;66;03m# can be enabled based on whether there is input mutation or CPU tensors.\u001b[39;00m\n\u001b[1;32m    425\u001b[0m     \u001b[38;5;28;01mif\u001b[39;00m (\n\u001b[1;32m    426\u001b[0m         \u001b[38;5;129;01mnot\u001b[39;00m is_compiling()\n\u001b[1;32m    427\u001b[0m         \u001b[38;5;129;01mand\u001b[39;00m torch\u001b[38;5;241m.\u001b[39mbackends\u001b[38;5;241m.\u001b[39mcuda\u001b[38;5;241m.\u001b[39mis_built()\n\u001b[1;32m    428\u001b[0m         \u001b[38;5;129;01mand\u001b[39;00m torch\u001b[38;5;241m.\u001b[39mcuda\u001b[38;5;241m.\u001b[39mis_available()\n\u001b[1;32m    429\u001b[0m     ):\n\u001b[1;32m    430\u001b[0m         capturing \u001b[38;5;241m=\u001b[39m torch\u001b[38;5;241m.\u001b[39mcuda\u001b[38;5;241m.\u001b[39mis_current_stream_capturing()\n",
      "\u001b[0;31mKeyboardInterrupt\u001b[0m: "
     ]
    }
   ],
   "source": [
    "dataset = run_experiment(\n",
    "        agent=agent,\n",
    "        env=environment,\n",
    "        eval_freq= 1,    \n",
    "        n_epochs=config_train[\"n_epochs\"],\n",
    "        n_steps=config_train[\"n_steps\"],\n",
    "        early_stopping_handler=earlystoppinghandler,\n",
    "        save_best=config_train[\"save_best\"],\n",
    "        run_id=wandb.run.id,\n",
    "        tracking=\"wandb\",\n",
    "        eval_step_info=False,\n",
    "        print_freq=1,\n",
    "        results_dir = RESULTS_DIR\n",
    "    )"
   ]
  },
  {
   "cell_type": "code",
   "execution_count": null,
   "metadata": {},
   "outputs": [
    {
     "data": {
      "text/html": [
       "\n",
       "    <style>\n",
       "        .wandb-row {\n",
       "            display: flex;\n",
       "            flex-direction: row;\n",
       "            flex-wrap: wrap;\n",
       "            justify-content: flex-start;\n",
       "            width: 100%;\n",
       "        }\n",
       "        .wandb-col {\n",
       "            display: flex;\n",
       "            flex-direction: column;\n",
       "            flex-basis: 100%;\n",
       "            flex: 1;\n",
       "            padding: 10px;\n",
       "        }\n",
       "    </style>\n",
       "<div class=\"wandb-row\"><div class=\"wandb-col\"><h3>Run history:</h3><br/><table class=\"wandb\"><tr><td>val/Episode</td><td>▄▆▁▂█▁▆█▄▃▆▆▂▃▃▁▃▇▃▆█▁▆▃▄▆▇▃▆█▅▇█▃▇▁▂█▅▆</td></tr><tr><td>val/J</td><td>▁▁▁▁▁▁▁▁▁▁▁▁▁▁▁▁▁█▁▁▁▁▁▁▁▁▁▁▁▁▁▁█▁▁▁▁█▁▁</td></tr><tr><td>val/R</td><td>▁▁▁▁▁▁▁▁▁▁▁▁▁▁▁▁▁▁▁▁▁▁▁▁▁▁▁▁▁█▁▁▁▁▁▁▁▁▁▁</td></tr></table><br/></div><div class=\"wandb-col\"><h3>Run summary:</h3><br/><table class=\"wandb\"><tr><td>val/Episode</td><td>9</td></tr><tr><td>val/J</td><td>0</td></tr><tr><td>val/R</td><td>0</td></tr></table><br/></div></div>"
      ],
      "text/plain": [
       "<IPython.core.display.HTML object>"
      ]
     },
     "metadata": {},
     "output_type": "display_data"
    },
    {
     "data": {
      "text/html": [
       " View run <strong style=\"color:#cdcd00\">pricing_cMDP_test_2025-05-19_12-44-26</strong> at: <a href='https://wandb.ai/timlachner/pricing_cMDP_test/runs/6xq2yni6' target=\"_blank\">https://wandb.ai/timlachner/pricing_cMDP_test/runs/6xq2yni6</a><br/> View project at: <a href='https://wandb.ai/timlachner/pricing_cMDP_test' target=\"_blank\">https://wandb.ai/timlachner/pricing_cMDP_test</a><br/>Synced 5 W&B file(s), 0 media file(s), 2 artifact file(s) and 0 other file(s)"
      ],
      "text/plain": [
       "<IPython.core.display.HTML object>"
      ]
     },
     "metadata": {},
     "output_type": "display_data"
    },
    {
     "data": {
      "text/html": [
       "Find logs at: <code>./wandb/run-20250519_124427-6xq2yni6/logs</code>"
      ],
      "text/plain": [
       "<IPython.core.display.HTML object>"
      ]
     },
     "metadata": {},
     "output_type": "display_data"
    }
   ],
   "source": [
    "wandb.finish()"
   ]
  },
  {
   "cell_type": "code",
   "execution_count": null,
   "metadata": {},
   "outputs": [],
   "source": []
  }
 ],
 "metadata": {
  "kernelspec": {
   "display_name": "ddop",
   "language": "python",
   "name": "python3"
  },
  "language_info": {
   "codemirror_mode": {
    "name": "ipython",
    "version": 3
   },
   "file_extension": ".py",
   "mimetype": "text/x-python",
   "name": "python",
   "nbconvert_exporter": "python",
   "pygments_lexer": "ipython3",
   "version": "3.10.15"
  }
 },
 "nbformat": 4,
 "nbformat_minor": 2
}
