{
 "cells": [
  {
   "cell_type": "code",
   "execution_count": 1,
   "metadata": {},
   "outputs": [],
   "source": [
    "import os\n",
    "os.environ['NUMEXPR_MAX_THREADS'] = '1'\n",
    "\n",
    "import logging\n",
    "import numexpr as ne\n",
    "import numpy as np\n",
    "import torch\n",
    "import datetime\n",
    "from ddopai.envs.pricing.dynamic import DynamicPricingEnv\n",
    "from ddopai.envs.pricing.dynamic_inventory import DynamicPricingInvEnv\n",
    "from ddopai.envs.actionprocessors import ClipAction, RoundAction\n",
    "\n",
    "from ddopai.experiments.experiment_functions_online import run_experiment\n",
    "from ddopai.experiments.meta_experiment_functions import *\n",
    "import requests\n",
    "import yaml\n",
    "import re\n",
    "import pandas as pd\n",
    "import wandb\n",
    "from copy import deepcopy\n",
    "import warnings\n",
    "import gc\n",
    "from mushroom_rl import core "
   ]
  },
  {
   "cell_type": "code",
   "execution_count": 2,
   "metadata": {},
   "outputs": [],
   "source": [
    "logging_level = logging.INFO\n",
    "logging.basicConfig(level=logging_level)\n",
    "\n",
    "ne.set_num_threads(1)\n",
    "torch.backends.cudnn.enabled = False\n",
    "torch.set_num_threads(1)\n",
    "\n",
    "set_warnings(logging.INFO) # turn off warnings for any level higher or equal to the input level\n",
    "\n",
    "PROJECT_NAME = \"pricing_cMDP_test\"\n",
    "LIBRARIES_TO_TRACK = [\"ddopai\", \"mushroom_rl\"]\n",
    "ENVCLASS = DynamicPricingEnv\n",
    "RESULTS_DIR = \"results\"\n",
    "def get_ENVCLASS(class_name):\n",
    "    if class_name == \"DynamicPricingEnv\":\n",
    "        return DynamicPricingEnv\n",
    "    elif class_name == \"DynamicPricingInvEnv\":\n",
    "        return DynamicPricingInvEnv\n",
    "    else:\n",
    "        raise ValueError(f\"Unknown class name {class_name}\")"
   ]
  },
  {
   "cell_type": "markdown",
   "metadata": {},
   "source": [
    "# Experiment preparations\n",
    "## Set-up WandB\n",
    "### Init WandB"
   ]
  },
  {
   "cell_type": "code",
   "execution_count": 3,
   "metadata": {},
   "outputs": [
    {
     "name": "stderr",
     "output_type": "stream",
     "text": [
      "\u001b[34m\u001b[1mwandb\u001b[0m: Using wandb-core as the SDK backend.  Please refer to https://wandb.me/wandb-core for more information.\n",
      "\u001b[34m\u001b[1mwandb\u001b[0m: Currently logged in as: \u001b[33mtimlachner\u001b[0m. Use \u001b[1m`wandb login --relogin`\u001b[0m to force relogin\n"
     ]
    },
    {
     "data": {
      "text/html": [
       "Tracking run with wandb version 0.18.6"
      ],
      "text/plain": [
       "<IPython.core.display.HTML object>"
      ]
     },
     "metadata": {},
     "output_type": "display_data"
    },
    {
     "data": {
      "text/html": [
       "Run data is saved locally in <code>/Users/timlachner/Library/CloudStorage/OneDrive-Personal/Work/DDOP/ddopai_pricing_experiments/wandb/run-20250204_123850-jwqug81a</code>"
      ],
      "text/plain": [
       "<IPython.core.display.HTML object>"
      ]
     },
     "metadata": {},
     "output_type": "display_data"
    },
    {
     "data": {
      "text/html": [
       "Syncing run <strong><a href='https://wandb.ai/timlachner/pricing_cMDP_test/runs/jwqug81a' target=\"_blank\">pricing_cMDP_test_2025-02-04_12-38-49</a></strong> to <a href='https://wandb.ai/timlachner/pricing_cMDP_test' target=\"_blank\">Weights & Biases</a> (<a href='https://wandb.me/developer-guide' target=\"_blank\">docs</a>)<br/>"
      ],
      "text/plain": [
       "<IPython.core.display.HTML object>"
      ]
     },
     "metadata": {},
     "output_type": "display_data"
    },
    {
     "data": {
      "text/html": [
       " View project at <a href='https://wandb.ai/timlachner/pricing_cMDP_test' target=\"_blank\">https://wandb.ai/timlachner/pricing_cMDP_test</a>"
      ],
      "text/plain": [
       "<IPython.core.display.HTML object>"
      ]
     },
     "metadata": {},
     "output_type": "display_data"
    },
    {
     "data": {
      "text/html": [
       " View run at <a href='https://wandb.ai/timlachner/pricing_cMDP_test/runs/jwqug81a' target=\"_blank\">https://wandb.ai/timlachner/pricing_cMDP_test/runs/jwqug81a</a>"
      ],
      "text/plain": [
       "<IPython.core.display.HTML object>"
      ]
     },
     "metadata": {},
     "output_type": "display_data"
    },
    {
     "data": {
      "text/html": [
       "<button onClick=\"this.nextSibling.style.display='block';this.style.display='none';\">Display W&B run</button><iframe src='https://wandb.ai/timlachner/pricing_cMDP_test/runs/jwqug81a?jupyter=true' style='border:none;width:100%;height:420px;display:none;'></iframe>"
      ],
      "text/plain": [
       "<wandb.sdk.wandb_run.Run at 0x1329e3040>"
      ]
     },
     "execution_count": 3,
     "metadata": {},
     "output_type": "execute_result"
    }
   ],
   "source": [
    "project_name = \"pricing_cMDP_test\"\n",
    "\n",
    "wandb.init(\n",
    "    project=project_name,\n",
    "    name = f\"{project_name}_{datetime.datetime.now().strftime('%Y-%m-%d_%H-%M-%S')}\"\n",
    ")"
   ]
  },
  {
   "cell_type": "markdown",
   "metadata": {},
   "source": [
    "### Track library versions and git hash of experiment"
   ]
  },
  {
   "cell_type": "markdown",
   "metadata": {},
   "source": [
    "# Experiment parameters"
   ]
  },
  {
   "cell_type": "code",
   "execution_count": 4,
   "metadata": {},
   "outputs": [
    {
     "data": {
      "text/html": [
       "Finishing last run (ID:jwqug81a) before initializing another..."
      ],
      "text/plain": [
       "<IPython.core.display.HTML object>"
      ]
     },
     "metadata": {},
     "output_type": "display_data"
    },
    {
     "data": {
      "text/html": [
       " View run <strong style=\"color:#cdcd00\">pricing_cMDP_test_2025-02-04_12-38-49</strong> at: <a href='https://wandb.ai/timlachner/pricing_cMDP_test/runs/jwqug81a' target=\"_blank\">https://wandb.ai/timlachner/pricing_cMDP_test/runs/jwqug81a</a><br/> View project at: <a href='https://wandb.ai/timlachner/pricing_cMDP_test' target=\"_blank\">https://wandb.ai/timlachner/pricing_cMDP_test</a><br/>Synced 5 W&B file(s), 0 media file(s), 0 artifact file(s) and 0 other file(s)"
      ],
      "text/plain": [
       "<IPython.core.display.HTML object>"
      ]
     },
     "metadata": {},
     "output_type": "display_data"
    },
    {
     "data": {
      "text/html": [
       "Find logs at: <code>./wandb/run-20250204_123850-jwqug81a/logs</code>"
      ],
      "text/plain": [
       "<IPython.core.display.HTML object>"
      ]
     },
     "metadata": {},
     "output_type": "display_data"
    },
    {
     "data": {
      "text/html": [
       "Successfully finished last run (ID:jwqug81a). Initializing new run:<br/>"
      ],
      "text/plain": [
       "<IPython.core.display.HTML object>"
      ]
     },
     "metadata": {},
     "output_type": "display_data"
    },
    {
     "data": {
      "text/html": [
       "Tracking run with wandb version 0.18.6"
      ],
      "text/plain": [
       "<IPython.core.display.HTML object>"
      ]
     },
     "metadata": {},
     "output_type": "display_data"
    },
    {
     "data": {
      "text/html": [
       "Run data is saved locally in <code>/Users/timlachner/Library/CloudStorage/OneDrive-Personal/Work/DDOP/ddopai_pricing_experiments/wandb/run-20250204_123850-vc1j0dnm</code>"
      ],
      "text/plain": [
       "<IPython.core.display.HTML object>"
      ]
     },
     "metadata": {},
     "output_type": "display_data"
    },
    {
     "data": {
      "text/html": [
       "Syncing run <strong><a href='https://wandb.ai/timlachner/pricing_cMDP_test/runs/vc1j0dnm' target=\"_blank\">pricing_cMDP_test_2025-02-04_12-38-50</a></strong> to <a href='https://wandb.ai/timlachner/pricing_cMDP_test' target=\"_blank\">Weights & Biases</a> (<a href='https://wandb.me/developer-guide' target=\"_blank\">docs</a>)<br/>"
      ],
      "text/plain": [
       "<IPython.core.display.HTML object>"
      ]
     },
     "metadata": {},
     "output_type": "display_data"
    },
    {
     "data": {
      "text/html": [
       " View project at <a href='https://wandb.ai/timlachner/pricing_cMDP_test' target=\"_blank\">https://wandb.ai/timlachner/pricing_cMDP_test</a>"
      ],
      "text/plain": [
       "<IPython.core.display.HTML object>"
      ]
     },
     "metadata": {},
     "output_type": "display_data"
    },
    {
     "data": {
      "text/html": [
       " View run at <a href='https://wandb.ai/timlachner/pricing_cMDP_test/runs/vc1j0dnm' target=\"_blank\">https://wandb.ai/timlachner/pricing_cMDP_test/runs/vc1j0dnm</a>"
      ],
      "text/plain": [
       "<IPython.core.display.HTML object>"
      ]
     },
     "metadata": {},
     "output_type": "display_data"
    },
    {
     "name": "stderr",
     "output_type": "stream",
     "text": [
      "INFO:root:ddopai: 0.0.7\n",
      "INFO:root:mushroom_rl: 1.10.1\n",
      "INFO:root:Git hash: 4b09580a1615ee094fe974afd014071f36e821bb\n",
      "INFO:root:Configuration file 'config_train.yaml' successfully loaded.\n",
      "INFO:root:Configuration file 'config_agent.yaml' successfully loaded.\n",
      "INFO:root:Configuration file 'config_env.yaml' successfully loaded.\n",
      "WARNING:root:No lag window specified in the agent configuration. Keeping value from env config\n"
     ]
    }
   ],
   "source": [
    "config_train, config_agent, config_env, AgentClass, agent_name = prep_experiment(\n",
    "        PROJECT_NAME,\n",
    "        LIBRARIES_TO_TRACK,\n",
    "        config_train_name=\"config_train.yaml\",\n",
    "        config_agent_name=\"config_agent.yaml\",\n",
    "        config_env_name=\"config_env.yaml\",\n",
    "    )"
   ]
  },
  {
   "cell_type": "markdown",
   "metadata": {},
   "source": [
    "## Prepare data\n",
    "* Get the env parameters \n",
    "* Create the data and noise based on these parameters"
   ]
  },
  {
   "cell_type": "code",
   "execution_count": 5,
   "metadata": {},
   "outputs": [],
   "source": [
    "raw_data, val_index_start, test_index_start = get_online_data(\n",
    "        config_env,\n",
    "        overwrite=False\n",
    "    )"
   ]
  },
  {
   "cell_type": "code",
   "execution_count": 6,
   "metadata": {},
   "outputs": [
    {
     "data": {
      "text/plain": [
       "array([[1.        , 1.01494341, 1.50438407, 1.56887237, 1.95534569,\n",
       "        0.44374949, 0.94637045, 1.29128228, 0.09025757, 1.47603848]])"
      ]
     },
     "execution_count": 6,
     "metadata": {},
     "output_type": "execute_result"
    }
   ],
   "source": [
    "raw_data[0][0]"
   ]
  },
  {
   "cell_type": "markdown",
   "metadata": {},
   "source": [
    "## Environment parameters\n",
    "\n",
    "* Get the environment parameters from the config file \n",
    "* Overwrite the ```lag_window```parameter with the parameter specified in the agent, if it is specified (since lag window is provided by the environment, but a tunable hyperparameter of the agent)"
   ]
  },
  {
   "cell_type": "code",
   "execution_count": 7,
   "metadata": {},
   "outputs": [],
   "source": [
    "round_action = RoundAction(unit_size=config_env[\"unit_size\"])\n",
    "postprocessors = [round_action]\n",
    "ENVCLASS = get_ENVCLASS(config_env[\"env_class\"])\n",
    "environment = set_up_env_online(ENVCLASS, raw_data, val_index_start, test_index_start, config_env, postprocessors)"
   ]
  },
  {
   "cell_type": "markdown",
   "metadata": {},
   "source": [
    "## Agent Parameter"
   ]
  },
  {
   "cell_type": "code",
   "execution_count": 8,
   "metadata": {},
   "outputs": [
    {
     "name": "stderr",
     "output_type": "stream",
     "text": [
      "INFO:root:Agent: SAC\n",
      "INFO:root:Actor network (mu network):\n"
     ]
    },
    {
     "name": "stdout",
     "output_type": "stream",
     "text": [
      "==========================================================================================\n",
      "Layer (type:depth-idx)                   Output Shape              Param #\n",
      "==========================================================================================\n",
      "MLPActor                                 [1, 1]                    --\n",
      "├─Sequential: 1-1                        [1, 1]                    --\n",
      "│    └─Linear: 2-1                       [1, 64]                   768\n",
      "│    └─ReLU: 2-2                         [1, 64]                   --\n",
      "│    └─Dropout: 2-3                      [1, 64]                   --\n",
      "│    └─Linear: 2-4                       [1, 32]                   2,080\n",
      "│    └─ReLU: 2-5                         [1, 32]                   --\n",
      "│    └─Dropout: 2-6                      [1, 32]                   --\n",
      "│    └─Linear: 2-7                       [1, 1]                    33\n",
      "│    └─Identity: 2-8                     [1, 1]                    --\n",
      "==========================================================================================\n",
      "Total params: 2,881\n",
      "Trainable params: 2,881\n",
      "Non-trainable params: 0\n",
      "Total mult-adds (M): 0.00\n",
      "==========================================================================================\n",
      "Input size (MB): 0.00\n",
      "Forward/backward pass size (MB): 0.00\n",
      "Params size (MB): 0.01\n",
      "Estimated Total Size (MB): 0.01\n",
      "==========================================================================================\n"
     ]
    },
    {
     "name": "stderr",
     "output_type": "stream",
     "text": [
      "INFO:root:################################################################################\n",
      "INFO:root:Critic network:\n"
     ]
    },
    {
     "name": "stdout",
     "output_type": "stream",
     "text": [
      "==========================================================================================\n",
      "Layer (type:depth-idx)                   Output Shape              Param #\n",
      "==========================================================================================\n",
      "MLPStateAction                           --                        --\n",
      "├─Sequential: 1-1                        [1, 1]                    --\n",
      "│    └─Linear: 2-1                       [1, 64]                   832\n",
      "│    └─ReLU: 2-2                         [1, 64]                   --\n",
      "│    └─Dropout: 2-3                      [1, 64]                   --\n",
      "│    └─Linear: 2-4                       [1, 32]                   2,080\n",
      "│    └─ReLU: 2-5                         [1, 32]                   --\n",
      "│    └─Dropout: 2-6                      [1, 32]                   --\n",
      "│    └─Linear: 2-7                       [1, 1]                    33\n",
      "│    └─Identity: 2-8                     [1, 1]                    --\n",
      "==========================================================================================\n",
      "Total params: 2,945\n",
      "Trainable params: 2,945\n",
      "Non-trainable params: 0\n",
      "Total mult-adds (M): 0.00\n",
      "==========================================================================================\n",
      "Input size (MB): 0.00\n",
      "Forward/backward pass size (MB): 0.00\n",
      "Params size (MB): 0.01\n",
      "Estimated Total Size (MB): 0.01\n",
      "==========================================================================================\n"
     ]
    }
   ],
   "source": [
    "logging.info(f\"Agent: {agent_name}\")\n",
    "\n",
    "\n",
    "if AgentClass.train_mode == \"env_interaction\":\n",
    "    if \"link\" in config_agent:\n",
    "        glm_link, price_function = set_up_agent(AgentClass, environment, config_agent)\n",
    "        config_agent[\"g\"] = glm_link\n",
    "        config_agent[\"price_function\"] = price_function\n",
    "        del config_agent[\"link\"]\n",
    "    agent = AgentClass(\n",
    "        environment_info=environment.mdp_info,\n",
    "        **config_agent\n",
    "    )\n",
    "\n",
    "else:\n",
    "    raise ValueError(\"Invalid train_mode for online training\")"
   ]
  },
  {
   "cell_type": "code",
   "execution_count": 9,
   "metadata": {},
   "outputs": [],
   "source": [
    "earlystoppinghandler = set_up_earlystoppinghandler(config_train)"
   ]
  },
  {
   "cell_type": "code",
   "execution_count": 10,
   "metadata": {},
   "outputs": [
    {
     "name": "stderr",
     "output_type": "stream",
     "text": [
      "INFO:root:Starting experiment\n"
     ]
    },
    {
     "name": "stdout",
     "output_type": "stream",
     "text": [
      "Experiment directory: results/vc1j0dnm\n"
     ]
    },
    {
     "name": "stderr",
     "output_type": "stream",
     "text": [
      "  0%|          | 0/10 [00:00<?, ?it/s]INFO:root:Epoch 1: R=112039.85879082026, J=0.0\n",
      " 10%|█         | 1/10 [00:18<02:44, 18.28s/it]INFO:root:Epoch 2: R=110018.47960741427, J=14.713048138015067\n",
      " 20%|██        | 2/10 [00:35<02:22, 17.79s/it]INFO:root:Epoch 3: R=110379.04887421588, J=14.454903980042761\n",
      " 30%|███       | 3/10 [00:52<02:02, 17.51s/it]INFO:root:Epoch 4: R=108710.89633117587, J=10.915007102758727\n",
      " 40%|████      | 4/10 [01:10<01:44, 17.40s/it]INFO:root:Epoch 5: R=112882.14108779938, J=16.925065217491216\n",
      " 50%|█████     | 5/10 [01:27<01:27, 17.48s/it]INFO:root:Epoch 6: R=115148.67517540854, J=13.445947940833475\n",
      " 60%|██████    | 6/10 [01:46<01:11, 17.87s/it]INFO:root:Epoch 7: R=111854.66789164975, J=11.63262676080817\n",
      " 70%|███████   | 7/10 [02:05<00:54, 18.22s/it]INFO:root:Epoch 8: R=109677.35784091488, J=8.326761756892571\n",
      " 80%|████████  | 8/10 [02:22<00:35, 17.89s/it]INFO:root:Epoch 9: R=112767.31882425926, J=10.998037237158425\n",
      " 90%|█████████ | 9/10 [02:40<00:17, 17.82s/it]INFO:root:Epoch 10: R=109838.3904954554, J=15.35033973556483\n",
      "100%|██████████| 10/10 [02:57<00:00, 17.74s/it]\n"
     ]
    }
   ],
   "source": [
    "dataset = run_experiment(\n",
    "        agent,\n",
    "        environment,\n",
    "        n_epochs=config_train[\"n_epochs\"],\n",
    "        n_steps=config_train[\"n_steps\"],\n",
    "        early_stopping_handler=earlystoppinghandler,\n",
    "        save_best=config_train[\"save_best\"],\n",
    "        run_id=wandb.run.id,\n",
    "        tracking=\"wandb\",\n",
    "        eval_step_info=False,\n",
    "        print_freq=1,\n",
    "        results_dir = RESULTS_DIR,\n",
    "        return_dataset=True,\n",
    "        return_score=False\n",
    "    )"
   ]
  },
  {
   "cell_type": "code",
   "execution_count": 11,
   "metadata": {},
   "outputs": [
    {
     "data": {
      "text/html": [
       "\n",
       "    <style>\n",
       "        .wandb-row {\n",
       "            display: flex;\n",
       "            flex-direction: row;\n",
       "            flex-wrap: wrap;\n",
       "            justify-content: flex-start;\n",
       "            width: 100%;\n",
       "        }\n",
       "        .wandb-col {\n",
       "            display: flex;\n",
       "            flex-direction: column;\n",
       "            flex-basis: 100%;\n",
       "            flex: 1;\n",
       "            padding: 10px;\n",
       "        }\n",
       "    </style>\n",
       "<div class=\"wandb-row\"><div class=\"wandb-col\"><h3>Run history:</h3><br/><table class=\"wandb\"><tr><td>Action</td><td>▁▅▂▆▅▅█▄▃▄▆▅▄▃▃▅▃▅▆▄▆▄▅▆▇▅▅▅▃▅▄▅▅▄▅█▅▆▇▆</td></tr><tr><td>Action_0</td><td>▁▅▇▄██▆▆▅▄▆▆▅▃▅▄▃▅▅▄▅▄▅▅▅▅▄▅▆▄▅▄▅▆▄▄▆▄█▄</td></tr><tr><td>Action_1</td><td>▇▆▃▃▁▃▆▄▄▄▅▄▇▃▅▇▆▅▃▃▅█▅▆▄▅▇▄▃▃▄▅▅▂▄▃▅▃█▃</td></tr><tr><td>Action_2</td><td>▅▃▃▅█▅▆▄▅▄▅▅▅▃▅▄▆▃▁▂▄▇▅▃▆▇▇▃▄▂▁▃▃▅▆▁▄▅▄▃</td></tr><tr><td>Action_3</td><td>▅▅▃█▇▁▇▂▅▅▃▆▅▅▄▆▄▆▄▃▃▅▄▅▂▅▂▃▄▅▅▄▄▄▄▅▅▂▅▄</td></tr><tr><td>Action_4</td><td>▆▃▃▂▂▃▂▂▃▄▂▅▄▄▃▅▃▃▁▅▂▄▄▄▅▃▃▄▃▄▆█▃▃▇▄▄▅▄▄</td></tr><tr><td>Action_5</td><td>▄▄▁▆▅▇▂▅█▄▄▃▃▄▄▇▃▄▄▄▄▄▅▄▅▆▅▄▄▅▁▄▃▆▅▅▅▅▄▄</td></tr><tr><td>Action_6</td><td>▃▄▃▇▅▆▆▅▆▆▆▅▃▃▂▅▄▁▄▃▄▅▂▂▄▄▃▂▂▃▃▃▃▂▄▆▃▅▃█</td></tr><tr><td>Action_7</td><td>▇▃▅▄▅▄▁▆▅▆▅█▅▅▄▆▄▅█▃▇▆▇▆▆▅▄▆▅▆▆▅▆▆▆▆▅▆▆▆</td></tr><tr><td>Action_8</td><td>▅▄▄▃▂▆▃▃▆▄▂▅▃▅▄▅▅▃▅▅▅▅▆▃▇▃▅▂▃▄▆▁▂▅▃▂▅▆█▃</td></tr><tr><td>Action_9</td><td>▃▅▂▅▃▄▄▁▂▄▂▃▄▄▃▃▄▃▅▄▁▄▂▂█▄▄▄▃▁▂▁▂▄▁▄▂▃▁▃</td></tr><tr><td>Cumulative_Reward</td><td>▁▂▃▄▅███▃▄█▁▁▂▁▂▄▄▆▁▄▇▁▄▃▅▅▁▆▆▇▇█▂▃▅▇▄▅▅</td></tr><tr><td>Cumulative_Reward_0</td><td>▁▁▁▁▁▂▂▂▂▂▂▂▃▃▃▃▃▃▃▄▅▅▅▅▅▆▆▆▆▆▆▇▇▇▇▇▇▇██</td></tr><tr><td>Cumulative_Reward_1</td><td>▁▁▁▂▂▂▃▃▃▃▃▄▄▄▄▅▅▅▅▅▅▅▅▆▆▆▆▆▆▆▆▇▇▇▇█████</td></tr><tr><td>Cumulative_Reward_2</td><td>▁▁▁▁▁▁▁▁▂▂▂▂▂▂▂▃▃▃▃▃▄▄▄▄▄▄▅▅▅▅▅▆▆▆▆▇▇▇▇█</td></tr><tr><td>Cumulative_Reward_3</td><td>▁▁▁▁▁▁▂▂▂▂▃▃▃▃▃▃▃▃▃▃▄▄▄▅▅▅▅▅▆▆▆▇▇▇▇▇████</td></tr><tr><td>Cumulative_Reward_4</td><td>▁▁▁▁▂▂▂▂▂▂▂▃▃▃▃▄▄▄▄▄▄▅▅▅▅▅▆▆▆▆▆▆▇▇▇▇▇███</td></tr><tr><td>Cumulative_Reward_5</td><td>▁▁▁▁▁▂▂▂▂▂▂▂▂▃▃▃▃▄▄▄▄▄▄▅▅▅▆▆▆▆▆▆▆▇▇▇████</td></tr><tr><td>Cumulative_Reward_6</td><td>▁▁▁▁▂▂▂▂▂▃▃▃▃▃▃▃▄▄▄▄▄▅▅▅▅▆▆▆▆▆▇▇▇▇▇█████</td></tr><tr><td>Cumulative_Reward_7</td><td>▁▁▁▁▂▂▃▃▃▃▃▃▃▃▄▄▄▄▄▅▅▅▅▅▆▆▆▆▆▆▇▇▇▇▇█████</td></tr><tr><td>Cumulative_Reward_8</td><td>▁▁▁▁▁▂▂▂▂▂▃▃▃▃▄▄▄▅▅▅▆▆▆▆▆▆▆▆▆▇▇▇▇▇▇▇▇███</td></tr><tr><td>Cumulative_Reward_9</td><td>▁▁▂▂▂▂▃▃▃▃▃▃▃▃▃▄▄▄▄▄▅▅▅▅▅▅▆▆▆▆▇▇▇▇▇▇▇███</td></tr><tr><td>Epoch</td><td>▁▁▁▂▂▃▃▃▃▃▃▃▃▃▄▄▅▅▅▅▅▅▆▆▆▆▆▆▆▆▇▇▇▇▇█████</td></tr><tr><td>Inventory</td><td>▇▆▇▆▆▃▃▂▂█▅▄▂▇▆▅▄▃▆▅▄▄█▁█▇▆▅▃▂█▆▁▆▆▄▄▁▂▁</td></tr><tr><td>Inventory_0</td><td>████▇▇▇▇▇▇▇▆▆▆▆▆▆▆▆▅▄▄▄▄▄▃▃▃▃▃▂▂▂▂▂▂▂▁▁▁</td></tr><tr><td>Inventory_1</td><td>██▇▇▇▇▇▇▇▆▆▆▆▅▅▅▅▅▅▅▅▅▅▄▄▄▄▄▄▂▂▂▂▂▂▁▁▁▁▁</td></tr><tr><td>Inventory_2</td><td>████▇▇▇▆▆▆▆▆▆▆▅▅▅▅▅▅▅▄▄▄▄▄▃▃▃▃▃▃▃▂▂▂▂▁▁▁</td></tr><tr><td>Inventory_3</td><td>███▇▇▇▇▇▇▆▆▆▆▆▆▅▅▅▅▅▅▄▄▄▄▃▃▃▃▃▃▃▂▂▂▂▁▁▁▁</td></tr><tr><td>Inventory_4</td><td>█████▇▇▇▇▇▆▆▆▆▆▆▅▅▅▅▄▄▄▄▄▃▃▃▃▃▂▂▂▂▂▂▁▁▁▁</td></tr><tr><td>Inventory_5</td><td>█████▇▇▇▇▆▆▆▆▅▅▅▅▅▅▅▄▄▄▄▄▄▃▃▃▃▂▂▂▂▂▁▁▁▁▁</td></tr><tr><td>Inventory_6</td><td>█████▇▇▇▇▇▆▆▆▆▆▆▅▅▅▅▅▅▅▅▅▄▄▄▄▄▃▃▃▃▂▂▂▁▁▁</td></tr><tr><td>Inventory_7</td><td>████▇▇▇▇▇▇▇▇▇▆▆▅▅▅▅▅▅▅▅▄▄▄▄▄▃▃▃▃▃▂▂▂▁▁▁▁</td></tr><tr><td>Inventory_8</td><td>███▇▇▇▇▆▆▆▆▆▆▅▅▅▄▄▄▄▄▄▄▃▃▃▃▃▃▂▂▂▂▁▁▁▁▁▁▁</td></tr><tr><td>Inventory_9</td><td>████▇▇▇▇▇▇▇▆▆▆▆▅▅▅▅▅▅▅▄▄▄▄▄▄▄▄▄▄▃▃▃▂▂▁▁▁</td></tr><tr><td>Reward</td><td>▅▂█▃▅▃▂▂▆▅▅▂▃▅▃▁▃▄▃▃▇▅▇▄▃▅▂▅▄▅▁▄▆▄▄▄▁▃▅▃</td></tr><tr><td>Reward_0</td><td>▁▅▆▆▇▅▆▆▄▆▅▅▁▆▅▅▅█▅▄▄▅▄▆▆▄▄▅▆▄▇▆▆▅▄▅▆▆▄▇</td></tr><tr><td>Reward_1</td><td>▄▆▅▂▇▂▅▄▆▅▅▄▅▇▄▆▄▆▃▄▆▃▃▅▄▄▁█▄▂▄▆▂▆▅▃▃▅▅▂</td></tr><tr><td>Reward_2</td><td>▇▇▆▃▆▆▇▇▅▅▅▅▅▄▆▄▅▄▅▆▇▇█▆█▅▇▁▅▅▇▅▃██▅▇▇▂▅</td></tr><tr><td>Reward_3</td><td>▄▆▄▂▆▇▁▆▅▆▆▆█▅▇▆▃▄▃▅▄▆▄▃▄▅▆▅▆▄▃▅█▅▅▆▅▇▄▃</td></tr><tr><td>Reward_4</td><td>▅▁▅▅▃█▄▃▅▅▄▄▃▅▅▂▃▄▃▅▃▃▃▅▅▅▄▄▄▅▄▃▅▅▂▇▆▃▄▄</td></tr><tr><td>Reward_5</td><td>▅▅▆▆▃▃▆▄▃▅▆▄▄▅▁▃▅▅▇▆▃▇▃▄▄▄▄▅▂▃▅▃█▄▃▇▇▆▆▆</td></tr><tr><td>Reward_6</td><td>▅▄▃▅▂▅▇▅▂▂▃▃▄▂▃▂▄▃▂▆▃▇▅▄▄▃▄▂▄▂▆▄▄▁▂▃▃█▆▃</td></tr><tr><td>Reward_7</td><td>▇▄▄▆▇▆▆▃▄▆▂▆▅▅▅▅▇▅▅▆▄▆▇▆▆▃▆▄▄▂▄▆▁▇█▆▆▁▆▅</td></tr><tr><td>Reward_8</td><td>▅▃▆▄▅▃▆▆▃▄▂▁▄▆▄▄▄▅▆▅▃▃█▃▃▄▂▆▃▅▆▆▅▄▁▃▄▃▆▅</td></tr><tr><td>Reward_9</td><td>▂▅▃▃▃▄▆▄▄▅▃▃▂▃▁▅▃▄▃█▃▂▅▄▅▄▆█▅▅█▇▅▅▅▆▅▄▅▆</td></tr><tr><td>True_Cumulative_Reward</td><td>▁▂▂▂▃▅▇██▁▆▃▄▆▆▁▂▅▇▇▆▇▇▂▃▅▇▂▄▆▂▃▄▄▅▇▄▅▇█</td></tr><tr><td>True_Cumulative_Reward_0</td><td>▁▁▁▁▁▂▂▂▂▂▂▂▄▄▄▄▄▄▄▄▄▅▅▅▅▅▆▆▆▆▇▇▇▇▇▇▇▇██</td></tr><tr><td>True_Cumulative_Reward_1</td><td>▁▁▁▁▂▂▂▂▂▃▃▃▃▄▄▄▅▅▅▅▅▅▅▆▆▆▆▆▇▇▇▇▇▇▇▇████</td></tr><tr><td>True_Cumulative_Reward_2</td><td>▁▁▁▁▂▂▂▂▂▂▂▃▃▃▃▄▄▄▄▄▄▄▅▅▅▆▆▆▆▆▆▆▆▇▇▇▇███</td></tr><tr><td>True_Cumulative_Reward_3</td><td>▁▁▂▂▂▂▂▂▂▂▃▄▄▄▄▄▄▄▄▄▄▄▄▄▄▄▅▅▅▅▆▆▆▆▆▇▇▇██</td></tr><tr><td>True_Cumulative_Reward_4</td><td>▁▁▁▁▁▂▂▂▂▂▃▃▃▃▄▄▄▄▄▄▄▅▅▅▅▆▆▆▆▆▆▆▆▆▇▇▇███</td></tr><tr><td>True_Cumulative_Reward_5</td><td>▁▁▁▂▂▃▃▃▃▃▄▄▄▄▄▄▄▄▄▄▅▅▅▅▅▅▅▅▆▆▇▇▇▇▇▇▇▇██</td></tr><tr><td>True_Cumulative_Reward_6</td><td>▁▁▁▂▂▂▂▂▃▃▃▃▃▄▄▄▄▄▄▄▄▅▅▆▆▆▆▆▆▆▇▇▇▇▇▇▇▇▇█</td></tr><tr><td>True_Cumulative_Reward_7</td><td>▁▂▂▂▂▂▂▃▃▃▃▄▄▄▄▄▄▄▄▄▄▅▅▅▅▅▆▆▆▆▆▇▇▇▇▇▇▇██</td></tr><tr><td>True_Cumulative_Reward_8</td><td>▁▁▁▁▁▂▃▃▃▃▃▃▃▃▄▄▄▄▅▅▅▅▅▅▆▆▆▆▆▆▆▆▇▇▇▇████</td></tr><tr><td>True_Cumulative_Reward_9</td><td>▁▁▁▁▂▂▂▂▂▃▃▃▄▄▄▅▅▅▅▅▅▅▆▆▆▆▆▆▇▇▇▇▇▇▇█████</td></tr><tr><td>True_Reward</td><td>▅▂▄▃▃▅▃▄▆▃▃▇▄▃▁▃▄▃▄▅▅▃▃▄▂▄▄▃▅▇▄▂▄▄█▅▃▄▅▃</td></tr><tr><td>True_Reward_0</td><td>▁▄▅█▄▂█▃▅▇▄▆▆▃▄▅▄▇▄▆▅▅▄▄▄▄▁▃▄▂▄▃▄▄▇▃▂▄▂▆</td></tr><tr><td>True_Reward_1</td><td>█▅▁▅▅▆▆▃▇▃▅▅██▅▅▆▇▃▆▄▆▆▃▆▅▄▆█▇▅▄▄▅▅▇▆▅▆▄</td></tr><tr><td>True_Reward_2</td><td>▂▆▃▃▅▂▅▅▃▂▁▅▃▆▆▄█▁▂▃▂▄▆▅▂▂▅▄▃▂▂▃▃▂▃▃▄▂▄▃</td></tr><tr><td>True_Reward_3</td><td>▅▂▇▁▄▄▄▄▄▂▂▇▇▆▆█▇▅▆▄▄▅▂▄▄▇▄▃▄▄▄█▆▅▅▇▄▂▄▆</td></tr><tr><td>True_Reward_4</td><td>▇▄▆█▇▅█▃▅▄▄▃▄▃▅▃▅█▄▆▄▂▁▅▄▃▅▄▆█▄▇▃▃▇▅▂▄▃▆</td></tr><tr><td>True_Reward_5</td><td>▂▃▄▅▃▃▅▃▃█▅▃▅▂▇▃▄▅▅▆▆▅▅▄▄▃▂▇▃▃▅▁▅▂▇▇▇▂▇▅</td></tr><tr><td>True_Reward_6</td><td>▁▄▅▄▂▅▃▄▄▄▅▆▂▄▆▄▅▃▂▅▅▃▅▅▄▅▄▅▄▇█▄▄▄▇▁▄▃▅▇</td></tr><tr><td>True_Reward_7</td><td>▄▃▅▂▂▄▃▃▅▄▆▅▄▅▄▄▁▄█▅▄▅▆▄▄▆▂▃▄▄▄▄▃▅▄▅▃▂▁▅</td></tr><tr><td>True_Reward_8</td><td>▃▆▃▂▄▂▇▅▄▄▇▃▃▇▄▅▁▁▄▆▇▅▄▄▇▃▅█▇▆▂▅▅▆▆▅▄▅▃▆</td></tr><tr><td>True_Reward_9</td><td>▃▆▅▃▂▄▂▅▃▃▃█▅▄▄▅▃▄▄▂▇▅▁▄▃▄▃▇▂▃▃▃▆▇▃▂▆▂▂▁</td></tr><tr><td>t</td><td>▁▁▂▅▅██▂▃▅▂▅▆▆▄▅▅▆▇█▂▄▆▂▃▆▆▃▄▅▇▂▄▅▁▂▃▅▆▇</td></tr></table><br/></div><div class=\"wandb-col\"><h3>Run summary:</h3><br/><table class=\"wandb\"><tr><td>Action</td><td>2.38</td></tr><tr><td>Action_0</td><td>2.73</td></tr><tr><td>Action_1</td><td>2.23</td></tr><tr><td>Action_2</td><td>3.84</td></tr><tr><td>Action_3</td><td>2.91</td></tr><tr><td>Action_4</td><td>3.18</td></tr><tr><td>Action_5</td><td>2.71</td></tr><tr><td>Action_6</td><td>3.53</td></tr><tr><td>Action_7</td><td>3.29</td></tr><tr><td>Action_8</td><td>2.69</td></tr><tr><td>Action_9</td><td>2.38</td></tr><tr><td>Cumulative_Reward</td><td>109838.3905</td></tr><tr><td>Cumulative_Reward_0</td><td>112039.85879</td></tr><tr><td>Cumulative_Reward_1</td><td>110018.47961</td></tr><tr><td>Cumulative_Reward_2</td><td>110379.04887</td></tr><tr><td>Cumulative_Reward_3</td><td>108710.89633</td></tr><tr><td>Cumulative_Reward_4</td><td>112882.14109</td></tr><tr><td>Cumulative_Reward_5</td><td>115148.67518</td></tr><tr><td>Cumulative_Reward_6</td><td>111854.66789</td></tr><tr><td>Cumulative_Reward_7</td><td>109677.35784</td></tr><tr><td>Cumulative_Reward_8</td><td>112767.31882</td></tr><tr><td>Cumulative_Reward_9</td><td>109838.3905</td></tr><tr><td>Epoch</td><td>9</td></tr><tr><td>Inventory</td><td>0</td></tr><tr><td>Inventory_0</td><td>0</td></tr><tr><td>Inventory_1</td><td>0</td></tr><tr><td>Inventory_2</td><td>0</td></tr><tr><td>Inventory_3</td><td>0</td></tr><tr><td>Inventory_4</td><td>0</td></tr><tr><td>Inventory_5</td><td>0</td></tr><tr><td>Inventory_6</td><td>0</td></tr><tr><td>Inventory_7</td><td>0</td></tr><tr><td>Inventory_8</td><td>0</td></tr><tr><td>Inventory_9</td><td>0</td></tr><tr><td>Reward</td><td>8.35054</td></tr><tr><td>Reward_0</td><td>2.38573</td></tr><tr><td>Reward_1</td><td>10.90103</td></tr><tr><td>Reward_2</td><td>21.98454</td></tr><tr><td>Reward_3</td><td>14.4046</td></tr><tr><td>Reward_4</td><td>0.19983</td></tr><tr><td>Reward_5</td><td>3.48395</td></tr><tr><td>Reward_6</td><td>16.06834</td></tr><tr><td>Reward_7</td><td>9.83547</td></tr><tr><td>Reward_8</td><td>5.79068</td></tr><tr><td>Reward_9</td><td>8.35054</td></tr><tr><td>True_Cumulative_Reward</td><td>109944.58193</td></tr><tr><td>True_Cumulative_Reward_0</td><td>112073.02425</td></tr><tr><td>True_Cumulative_Reward_1</td><td>110070.31013</td></tr><tr><td>True_Cumulative_Reward_2</td><td>110425.69387</td></tr><tr><td>True_Cumulative_Reward_3</td><td>108606.54906</td></tr><tr><td>True_Cumulative_Reward_4</td><td>112893.2672</td></tr><tr><td>True_Cumulative_Reward_5</td><td>114955.24374</td></tr><tr><td>True_Cumulative_Reward_6</td><td>112026.52931</td></tr><tr><td>True_Cumulative_Reward_7</td><td>109521.81103</td></tr><tr><td>True_Cumulative_Reward_8</td><td>112765.06922</td></tr><tr><td>True_Cumulative_Reward_9</td><td>109944.58193</td></tr><tr><td>True_Reward</td><td>8.35054</td></tr><tr><td>True_Reward_0</td><td>2.38573</td></tr><tr><td>True_Reward_1</td><td>10.90103</td></tr><tr><td>True_Reward_2</td><td>19.07667</td></tr><tr><td>True_Reward_3</td><td>14.4046</td></tr><tr><td>True_Reward_4</td><td>0.19983</td></tr><tr><td>True_Reward_5</td><td>3.48395</td></tr><tr><td>True_Reward_6</td><td>16.06834</td></tr><tr><td>True_Reward_7</td><td>9.83547</td></tr><tr><td>True_Reward_8</td><td>5.79068</td></tr><tr><td>True_Reward_9</td><td>8.35054</td></tr><tr><td>t</td><td>8817</td></tr></table><br/></div></div>"
      ],
      "text/plain": [
       "<IPython.core.display.HTML object>"
      ]
     },
     "metadata": {},
     "output_type": "display_data"
    },
    {
     "data": {
      "text/html": [
       " View run <strong style=\"color:#cdcd00\">pricing_cMDP_test_2025-02-04_12-38-50</strong> at: <a href='https://wandb.ai/timlachner/pricing_cMDP_test/runs/vc1j0dnm' target=\"_blank\">https://wandb.ai/timlachner/pricing_cMDP_test/runs/vc1j0dnm</a><br/> View project at: <a href='https://wandb.ai/timlachner/pricing_cMDP_test' target=\"_blank\">https://wandb.ai/timlachner/pricing_cMDP_test</a><br/>Synced 5 W&B file(s), 0 media file(s), 0 artifact file(s) and 0 other file(s)"
      ],
      "text/plain": [
       "<IPython.core.display.HTML object>"
      ]
     },
     "metadata": {},
     "output_type": "display_data"
    },
    {
     "data": {
      "text/html": [
       "Find logs at: <code>./wandb/run-20250204_123850-vc1j0dnm/logs</code>"
      ],
      "text/plain": [
       "<IPython.core.display.HTML object>"
      ]
     },
     "metadata": {},
     "output_type": "display_data"
    }
   ],
   "source": [
    "wandb.finish()"
   ]
  },
  {
   "cell_type": "code",
   "execution_count": null,
   "metadata": {},
   "outputs": [],
   "source": []
  }
 ],
 "metadata": {
  "kernelspec": {
   "display_name": "ddop",
   "language": "python",
   "name": "python3"
  },
  "language_info": {
   "codemirror_mode": {
    "name": "ipython",
    "version": 3
   },
   "file_extension": ".py",
   "mimetype": "text/x-python",
   "name": "python",
   "nbconvert_exporter": "python",
   "pygments_lexer": "ipython3",
   "version": "3.10.15"
  }
 },
 "nbformat": 4,
 "nbformat_minor": 2
}
