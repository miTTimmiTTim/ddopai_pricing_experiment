{
 "cells": [
  {
   "cell_type": "code",
   "execution_count": 2,
   "metadata": {},
   "outputs": [],
   "source": [
    "import os\n",
    "os.environ['NUMEXPR_MAX_THREADS'] = '1'\n",
    "\n",
    "import logging\n",
    "import numexpr as ne\n",
    "import numpy as np\n",
    "import torch\n",
    "import datetime\n",
    "from ddopai.envs.pricing.dynamic import DynamicPricingEnv\n",
    "from ddopai.envs.actionprocessors import ClipAction, RoundAction\n",
    "\n",
    "from ddopai.experiments.experiment_functions_online import run_experiment\n",
    "from ddopai.experiments.meta_experiment_functions import *\n",
    "import requests\n",
    "import yaml\n",
    "import re\n",
    "import pandas as pd\n",
    "import wandb\n",
    "from copy import deepcopy\n",
    "import warnings\n",
    "import gc\n"
   ]
  },
  {
   "cell_type": "code",
   "execution_count": 3,
   "metadata": {},
   "outputs": [],
   "source": [
    "logging_level = logging.INFO\n",
    "logging.basicConfig(level=logging_level)\n",
    "\n",
    "ne.set_num_threads(1)\n",
    "torch.backends.cudnn.enabled = False\n",
    "torch.set_num_threads(1)\n",
    "\n",
    "set_warnings(logging.INFO) # turn off warnings for any level higher or equal to the input level\n",
    "\n",
    "PROJECT_NAME = \"dynamic_pricing\"\n",
    "LIBRARIES_TO_TRACK = [\"ddopai\", \"mushroom_rl\"]\n",
    "ENVCLASS = DynamicPricingEnv\n",
    "RESULTS_DIR = \"results\""
   ]
  },
  {
   "cell_type": "markdown",
   "metadata": {},
   "source": [
    "# Experiment preparations\n",
    "## Set-up WandB\n",
    "### Init WandB"
   ]
  },
  {
   "cell_type": "code",
   "execution_count": 4,
   "metadata": {},
   "outputs": [
    {
     "name": "stderr",
     "output_type": "stream",
     "text": [
      "\u001b[34m\u001b[1mwandb\u001b[0m: Using wandb-core as the SDK backend.  Please refer to https://wandb.me/wandb-core for more information.\n",
      "\u001b[34m\u001b[1mwandb\u001b[0m: Logging into wandb.ai. (Learn how to deploy a W&B server locally: https://wandb.me/wandb-server)\n",
      "\u001b[34m\u001b[1mwandb\u001b[0m: You can find your API key in your browser here: https://wandb.ai/authorize\n",
      "\u001b[34m\u001b[1mwandb\u001b[0m: Paste an API key from your profile and hit enter, or press ctrl+c to quit:\u001b[34m\u001b[1mwandb\u001b[0m: Appending key for api.wandb.ai to your netrc file: /Users/timlachner/.netrc\n"
     ]
    },
    {
     "data": {
      "text/html": [
       "Tracking run with wandb version 0.18.6"
      ],
      "text/plain": [
       "<IPython.core.display.HTML object>"
      ]
     },
     "metadata": {},
     "output_type": "display_data"
    },
    {
     "data": {
      "text/html": [
       "Run data is saved locally in <code>/Users/timlachner/Library/CloudStorage/OneDrive-Personal/Work/DDOP/ddopai_pricing_experiments/wandb/run-20250114_121422-9w392ywy</code>"
      ],
      "text/plain": [
       "<IPython.core.display.HTML object>"
      ]
     },
     "metadata": {},
     "output_type": "display_data"
    },
    {
     "data": {
      "text/html": [
       "Syncing run <strong><a href='https://wandb.ai/timlachner/pricing_test/runs/9w392ywy' target=\"_blank\">pricing_test_2025-01-14_12-12-57</a></strong> to <a href='https://wandb.ai/timlachner/pricing_test' target=\"_blank\">Weights & Biases</a> (<a href='https://wandb.me/developer-guide' target=\"_blank\">docs</a>)<br/>"
      ],
      "text/plain": [
       "<IPython.core.display.HTML object>"
      ]
     },
     "metadata": {},
     "output_type": "display_data"
    },
    {
     "data": {
      "text/html": [
       " View project at <a href='https://wandb.ai/timlachner/pricing_test' target=\"_blank\">https://wandb.ai/timlachner/pricing_test</a>"
      ],
      "text/plain": [
       "<IPython.core.display.HTML object>"
      ]
     },
     "metadata": {},
     "output_type": "display_data"
    },
    {
     "data": {
      "text/html": [
       " View run at <a href='https://wandb.ai/timlachner/pricing_test/runs/9w392ywy' target=\"_blank\">https://wandb.ai/timlachner/pricing_test/runs/9w392ywy</a>"
      ],
      "text/plain": [
       "<IPython.core.display.HTML object>"
      ]
     },
     "metadata": {},
     "output_type": "display_data"
    },
    {
     "data": {
      "text/html": [
       "<button onClick=\"this.nextSibling.style.display='block';this.style.display='none';\">Display W&B run</button><iframe src='https://wandb.ai/timlachner/pricing_test/runs/9w392ywy?jupyter=true' style='border:none;width:100%;height:420px;display:none;'></iframe>"
      ],
      "text/plain": [
       "<wandb.sdk.wandb_run.Run at 0x156f305b0>"
      ]
     },
     "execution_count": 4,
     "metadata": {},
     "output_type": "execute_result"
    }
   ],
   "source": [
    "project_name = \"pricing_test\"\n",
    "\n",
    "wandb.init(\n",
    "    project=project_name,\n",
    "    name = f\"{project_name}_{datetime.datetime.now().strftime('%Y-%m-%d_%H-%M-%S')}\"\n",
    ")"
   ]
  },
  {
   "cell_type": "markdown",
   "metadata": {},
   "source": [
    "### Track library versions and git hash of experiment"
   ]
  },
  {
   "cell_type": "markdown",
   "metadata": {},
   "source": [
    "# Experiment parameters"
   ]
  },
  {
   "cell_type": "code",
   "execution_count": 6,
   "metadata": {},
   "outputs": [
    {
     "data": {
      "text/html": [
       "Finishing last run (ID:9w392ywy) before initializing another..."
      ],
      "text/plain": [
       "<IPython.core.display.HTML object>"
      ]
     },
     "metadata": {},
     "output_type": "display_data"
    },
    {
     "data": {
      "text/html": [
       " View run <strong style=\"color:#cdcd00\">pricing_test_2025-01-14_12-12-57</strong> at: <a href='https://wandb.ai/timlachner/pricing_test/runs/9w392ywy' target=\"_blank\">https://wandb.ai/timlachner/pricing_test/runs/9w392ywy</a><br/> View project at: <a href='https://wandb.ai/timlachner/pricing_test' target=\"_blank\">https://wandb.ai/timlachner/pricing_test</a><br/>Synced 5 W&B file(s), 0 media file(s), 0 artifact file(s) and 0 other file(s)"
      ],
      "text/plain": [
       "<IPython.core.display.HTML object>"
      ]
     },
     "metadata": {},
     "output_type": "display_data"
    },
    {
     "data": {
      "text/html": [
       "Find logs at: <code>./wandb/run-20250114_121422-9w392ywy/logs</code>"
      ],
      "text/plain": [
       "<IPython.core.display.HTML object>"
      ]
     },
     "metadata": {},
     "output_type": "display_data"
    },
    {
     "data": {
      "text/html": [
       "Successfully finished last run (ID:9w392ywy). Initializing new run:<br/>"
      ],
      "text/plain": [
       "<IPython.core.display.HTML object>"
      ]
     },
     "metadata": {},
     "output_type": "display_data"
    },
    {
     "data": {
      "text/html": [
       "Tracking run with wandb version 0.18.6"
      ],
      "text/plain": [
       "<IPython.core.display.HTML object>"
      ]
     },
     "metadata": {},
     "output_type": "display_data"
    },
    {
     "data": {
      "text/html": [
       "Run data is saved locally in <code>/Users/timlachner/Library/CloudStorage/OneDrive-Personal/Work/DDOP/ddopai_pricing_experiments/wandb/run-20250114_121514-25fl4d02</code>"
      ],
      "text/plain": [
       "<IPython.core.display.HTML object>"
      ]
     },
     "metadata": {},
     "output_type": "display_data"
    },
    {
     "data": {
      "text/html": [
       "Syncing run <strong><a href='https://wandb.ai/timlachner/dynamic_pricing/runs/25fl4d02' target=\"_blank\">dynamic_pricing_2025-01-14_12-15-14</a></strong> to <a href='https://wandb.ai/timlachner/dynamic_pricing' target=\"_blank\">Weights & Biases</a> (<a href='https://wandb.me/developer-guide' target=\"_blank\">docs</a>)<br/>"
      ],
      "text/plain": [
       "<IPython.core.display.HTML object>"
      ]
     },
     "metadata": {},
     "output_type": "display_data"
    },
    {
     "data": {
      "text/html": [
       " View project at <a href='https://wandb.ai/timlachner/dynamic_pricing' target=\"_blank\">https://wandb.ai/timlachner/dynamic_pricing</a>"
      ],
      "text/plain": [
       "<IPython.core.display.HTML object>"
      ]
     },
     "metadata": {},
     "output_type": "display_data"
    },
    {
     "data": {
      "text/html": [
       " View run at <a href='https://wandb.ai/timlachner/dynamic_pricing/runs/25fl4d02' target=\"_blank\">https://wandb.ai/timlachner/dynamic_pricing/runs/25fl4d02</a>"
      ],
      "text/plain": [
       "<IPython.core.display.HTML object>"
      ]
     },
     "metadata": {},
     "output_type": "display_data"
    },
    {
     "name": "stderr",
     "output_type": "stream",
     "text": [
      "INFO:root:ddopai: 0.0.7\n",
      "INFO:root:mushroom_rl: 1.10.1\n",
      "fatal: ambiguous argument 'HEAD': unknown revision or path not in the working tree.\n",
      "Use '--' to separate paths from revisions, like this:\n",
      "'git <command> [<revision>...] -- [<file>...]'\n"
     ]
    },
    {
     "ename": "CalledProcessError",
     "evalue": "Command '['git', 'rev-parse', 'HEAD']' returned non-zero exit status 128.",
     "output_type": "error",
     "traceback": [
      "\u001b[0;31m---------------------------------------------------------------------------\u001b[0m",
      "\u001b[0;31mCalledProcessError\u001b[0m                        Traceback (most recent call last)",
      "Cell \u001b[0;32mIn[6], line 1\u001b[0m\n\u001b[0;32m----> 1\u001b[0m config_train, config_agent, config_env, AgentClass, agent_name \u001b[38;5;241m=\u001b[39m \u001b[43mprep_experiment\u001b[49m\u001b[43m(\u001b[49m\n\u001b[1;32m      2\u001b[0m \u001b[43m        \u001b[49m\u001b[43mPROJECT_NAME\u001b[49m\u001b[43m,\u001b[49m\n\u001b[1;32m      3\u001b[0m \u001b[43m        \u001b[49m\u001b[43mLIBRARIES_TO_TRACK\u001b[49m\u001b[43m,\u001b[49m\n\u001b[1;32m      4\u001b[0m \u001b[43m        \u001b[49m\u001b[43mconfig_train_name\u001b[49m\u001b[38;5;241;43m=\u001b[39;49m\u001b[38;5;124;43m\"\u001b[39;49m\u001b[38;5;124;43mconfig_train.yaml\u001b[39;49m\u001b[38;5;124;43m\"\u001b[39;49m\u001b[43m,\u001b[49m\n\u001b[1;32m      5\u001b[0m \u001b[43m        \u001b[49m\u001b[43mconfig_agent_name\u001b[49m\u001b[38;5;241;43m=\u001b[39;49m\u001b[38;5;124;43m\"\u001b[39;49m\u001b[38;5;124;43mconfig_agent.yaml\u001b[39;49m\u001b[38;5;124;43m\"\u001b[39;49m\u001b[43m,\u001b[49m\n\u001b[1;32m      6\u001b[0m \u001b[43m        \u001b[49m\u001b[43mconfig_env_name\u001b[49m\u001b[38;5;241;43m=\u001b[39;49m\u001b[38;5;124;43m\"\u001b[39;49m\u001b[38;5;124;43mconfig_env.yaml\u001b[39;49m\u001b[38;5;124;43m\"\u001b[39;49m\u001b[43m,\u001b[49m\n\u001b[1;32m      7\u001b[0m \u001b[43m    \u001b[49m\u001b[43m)\u001b[49m\n",
      "File \u001b[0;32m~/Library/CloudStorage/OneDrive-Personal/Work/DDOP/ddopai/ddopai/experiments/meta_experiment_functions.py:64\u001b[0m, in \u001b[0;36mprep_experiment\u001b[0;34m(project_name, libraries_to_track, config_train_name, config_agent_name, config_env_name)\u001b[0m\n\u001b[1;32m     61\u001b[0m \u001b[38;5;250m\u001b[39m\u001b[38;5;124;03m\"\"\" First stpes to always execute when starting an experiment (using wandb for tracking)\"\"\"\u001b[39;00m\n\u001b[1;32m     63\u001b[0m init_wandb(project_name)\n\u001b[0;32m---> 64\u001b[0m \u001b[43mtrack_libraries_and_git\u001b[49m\u001b[43m(\u001b[49m\u001b[43mlibraries_to_track\u001b[49m\u001b[43m)\u001b[49m\n\u001b[1;32m     66\u001b[0m config_train \u001b[38;5;241m=\u001b[39m import_config(config_train_name)\n\u001b[1;32m     67\u001b[0m config_agent \u001b[38;5;241m=\u001b[39m import_config(config_agent_name) \u001b[38;5;66;03m# General config file containing all agent parameters\u001b[39;00m\n",
      "File \u001b[0;32m~/Library/CloudStorage/OneDrive-Personal/Work/DDOP/ddopai/ddopai/experiments/meta_experiment_functions.py:106\u001b[0m, in \u001b[0;36mtrack_libraries_and_git\u001b[0;34m(libraries_to_track, tracking, tracking_tool)\u001b[0m\n\u001b[1;32m    104\u001b[0m     version \u001b[38;5;241m=\u001b[39m get_library_version(lib, tracking\u001b[38;5;241m=\u001b[39mtracking, tracking_tool\u001b[38;5;241m=\u001b[39mtracking_tool)\n\u001b[1;32m    105\u001b[0m     logging\u001b[38;5;241m.\u001b[39minfo(\u001b[38;5;124mf\u001b[39m\u001b[38;5;124m\"\u001b[39m\u001b[38;5;132;01m{\u001b[39;00mlib\u001b[38;5;132;01m}\u001b[39;00m\u001b[38;5;124m: \u001b[39m\u001b[38;5;132;01m{\u001b[39;00mversion\u001b[38;5;132;01m}\u001b[39;00m\u001b[38;5;124m\"\u001b[39m)\n\u001b[0;32m--> 106\u001b[0m git_hash \u001b[38;5;241m=\u001b[39m \u001b[43mget_git_hash\u001b[49m\u001b[43m(\u001b[49m\u001b[38;5;124;43m\"\u001b[39;49m\u001b[38;5;124;43m.\u001b[39;49m\u001b[38;5;124;43m\"\u001b[39;49m\u001b[43m,\u001b[49m\u001b[43m \u001b[49m\u001b[43mtracking\u001b[49m\u001b[38;5;241;43m=\u001b[39;49m\u001b[43mtracking\u001b[49m\u001b[43m,\u001b[49m\u001b[43m \u001b[49m\u001b[43mtracking_tool\u001b[49m\u001b[38;5;241;43m=\u001b[39;49m\u001b[43mtracking_tool\u001b[49m\u001b[43m)\u001b[49m\n\u001b[1;32m    107\u001b[0m logging\u001b[38;5;241m.\u001b[39minfo(\u001b[38;5;124mf\u001b[39m\u001b[38;5;124m\"\u001b[39m\u001b[38;5;124mGit hash: \u001b[39m\u001b[38;5;132;01m{\u001b[39;00mgit_hash\u001b[38;5;132;01m}\u001b[39;00m\u001b[38;5;124m\"\u001b[39m)\n",
      "File \u001b[0;32m~/Library/CloudStorage/OneDrive-Personal/Work/DDOP/ddopai/ddopai/experiments/tracking.py:24\u001b[0m, in \u001b[0;36mget_git_hash\u001b[0;34m(directory, tracking, tracking_tool)\u001b[0m\n\u001b[1;32m     16\u001b[0m \u001b[38;5;28;01mdef\u001b[39;00m \u001b[38;5;21mget_git_hash\u001b[39m(\n\u001b[1;32m     17\u001b[0m     directory: \u001b[38;5;28mstr\u001b[39m, \u001b[38;5;66;03m# the directory where the git repository is located\u001b[39;00m\n\u001b[1;32m     18\u001b[0m     tracking: \u001b[38;5;28mbool\u001b[39m \u001b[38;5;241m=\u001b[39m \u001b[38;5;28;01mFalse\u001b[39;00m, \u001b[38;5;66;03m# whether to directly track the git revision hash\u001b[39;00m\n\u001b[1;32m     19\u001b[0m     tracking_tool: Literal[\u001b[38;5;124m'\u001b[39m\u001b[38;5;124mwandb\u001b[39m\u001b[38;5;124m'\u001b[39m] \u001b[38;5;241m=\u001b[39m \u001b[38;5;124m'\u001b[39m\u001b[38;5;124mwandb\u001b[39m\u001b[38;5;124m'\u001b[39m \u001b[38;5;66;03m# Currently only wandb is supported\u001b[39;00m\n\u001b[1;32m     20\u001b[0m ) \u001b[38;5;241m-\u001b[39m\u001b[38;5;241m>\u001b[39m \u001b[38;5;28mstr\u001b[39m:\n\u001b[1;32m     22\u001b[0m \u001b[38;5;250m    \u001b[39m\u001b[38;5;124;03m\"\"\" Get the git hash and optionally track \"\"\"\u001b[39;00m\n\u001b[0;32m---> 24\u001b[0m     \u001b[38;5;28mhash\u001b[39m \u001b[38;5;241m=\u001b[39m \u001b[43msubprocess\u001b[49m\u001b[38;5;241;43m.\u001b[39;49m\u001b[43mcheck_output\u001b[49m\u001b[43m(\u001b[49m\u001b[43m[\u001b[49m\u001b[38;5;124;43m'\u001b[39;49m\u001b[38;5;124;43mgit\u001b[39;49m\u001b[38;5;124;43m'\u001b[39;49m\u001b[43m,\u001b[49m\u001b[43m \u001b[49m\u001b[38;5;124;43m'\u001b[39;49m\u001b[38;5;124;43mrev-parse\u001b[39;49m\u001b[38;5;124;43m'\u001b[39;49m\u001b[43m,\u001b[49m\u001b[43m \u001b[49m\u001b[38;5;124;43m'\u001b[39;49m\u001b[38;5;124;43mHEAD\u001b[39;49m\u001b[38;5;124;43m'\u001b[39;49m\u001b[43m]\u001b[49m\u001b[43m,\u001b[49m\u001b[43m \u001b[49m\u001b[43mcwd\u001b[49m\u001b[38;5;241;43m=\u001b[39;49m\u001b[43mdirectory\u001b[49m\u001b[43m)\u001b[49m\u001b[38;5;241m.\u001b[39mdecode(\u001b[38;5;124m'\u001b[39m\u001b[38;5;124mascii\u001b[39m\u001b[38;5;124m'\u001b[39m)\u001b[38;5;241m.\u001b[39mstrip()\n\u001b[1;32m     26\u001b[0m     \u001b[38;5;28;01mif\u001b[39;00m tracking:\n\u001b[1;32m     27\u001b[0m         \u001b[38;5;28;01mif\u001b[39;00m tracking_tool \u001b[38;5;241m==\u001b[39m \u001b[38;5;124m'\u001b[39m\u001b[38;5;124mwandb\u001b[39m\u001b[38;5;124m'\u001b[39m:\n",
      "File \u001b[0;32m/opt/anaconda3/envs/ddop/lib/python3.10/subprocess.py:421\u001b[0m, in \u001b[0;36mcheck_output\u001b[0;34m(timeout, *popenargs, **kwargs)\u001b[0m\n\u001b[1;32m    418\u001b[0m         empty \u001b[38;5;241m=\u001b[39m \u001b[38;5;124mb\u001b[39m\u001b[38;5;124m'\u001b[39m\u001b[38;5;124m'\u001b[39m\n\u001b[1;32m    419\u001b[0m     kwargs[\u001b[38;5;124m'\u001b[39m\u001b[38;5;124minput\u001b[39m\u001b[38;5;124m'\u001b[39m] \u001b[38;5;241m=\u001b[39m empty\n\u001b[0;32m--> 421\u001b[0m \u001b[38;5;28;01mreturn\u001b[39;00m \u001b[43mrun\u001b[49m\u001b[43m(\u001b[49m\u001b[38;5;241;43m*\u001b[39;49m\u001b[43mpopenargs\u001b[49m\u001b[43m,\u001b[49m\u001b[43m \u001b[49m\u001b[43mstdout\u001b[49m\u001b[38;5;241;43m=\u001b[39;49m\u001b[43mPIPE\u001b[49m\u001b[43m,\u001b[49m\u001b[43m \u001b[49m\u001b[43mtimeout\u001b[49m\u001b[38;5;241;43m=\u001b[39;49m\u001b[43mtimeout\u001b[49m\u001b[43m,\u001b[49m\u001b[43m \u001b[49m\u001b[43mcheck\u001b[49m\u001b[38;5;241;43m=\u001b[39;49m\u001b[38;5;28;43;01mTrue\u001b[39;49;00m\u001b[43m,\u001b[49m\n\u001b[1;32m    422\u001b[0m \u001b[43m           \u001b[49m\u001b[38;5;241;43m*\u001b[39;49m\u001b[38;5;241;43m*\u001b[39;49m\u001b[43mkwargs\u001b[49m\u001b[43m)\u001b[49m\u001b[38;5;241m.\u001b[39mstdout\n",
      "File \u001b[0;32m/opt/anaconda3/envs/ddop/lib/python3.10/subprocess.py:526\u001b[0m, in \u001b[0;36mrun\u001b[0;34m(input, capture_output, timeout, check, *popenargs, **kwargs)\u001b[0m\n\u001b[1;32m    524\u001b[0m     retcode \u001b[38;5;241m=\u001b[39m process\u001b[38;5;241m.\u001b[39mpoll()\n\u001b[1;32m    525\u001b[0m     \u001b[38;5;28;01mif\u001b[39;00m check \u001b[38;5;129;01mand\u001b[39;00m retcode:\n\u001b[0;32m--> 526\u001b[0m         \u001b[38;5;28;01mraise\u001b[39;00m CalledProcessError(retcode, process\u001b[38;5;241m.\u001b[39margs,\n\u001b[1;32m    527\u001b[0m                                  output\u001b[38;5;241m=\u001b[39mstdout, stderr\u001b[38;5;241m=\u001b[39mstderr)\n\u001b[1;32m    528\u001b[0m \u001b[38;5;28;01mreturn\u001b[39;00m CompletedProcess(process\u001b[38;5;241m.\u001b[39margs, retcode, stdout, stderr)\n",
      "\u001b[0;31mCalledProcessError\u001b[0m: Command '['git', 'rev-parse', 'HEAD']' returned non-zero exit status 128."
     ]
    }
   ],
   "source": [
    "config_train, config_agent, config_env, AgentClass, agent_name = prep_experiment(\n",
    "        PROJECT_NAME,\n",
    "        LIBRARIES_TO_TRACK,\n",
    "        config_train_name=\"config_train.yaml\",\n",
    "        config_agent_name=\"config_agent.yaml\",\n",
    "        config_env_name=\"config_env.yaml\",\n",
    "    )"
   ]
  },
  {
   "cell_type": "markdown",
   "metadata": {},
   "source": [
    "## Agent parameters\n",
    "\n",
    "* Get the agent parameters from the config file containing the parameters for all agent classes\n",
    "* Get the agent class based on the agent name specified in the training params\n",
    "* Get the agent-specific parameters based on the agent name specified in the training params\n"
   ]
  },
  {
   "cell_type": "code",
   "execution_count": null,
   "metadata": {},
   "outputs": [],
   "source": [
    "# open params from yaml file\n",
    "\n",
    "with open(\"config_agent.yaml\", \"r\") as stream:\n",
    "    try:\n",
    "        config_agent = yaml.safe_load(stream)\n",
    "    except yaml.YAMLError as exc:\n",
    "        print(exc)\n",
    "\n",
    "AgentClass = select_agent(config_train[\"agent\"])\n",
    "config_agent = config_agent[config_train[\"agent\"]]\n",
    "\n",
    "# update wandb\n",
    "wandb.config.update(config_agent)\n",
    "\n",
    "config_agent"
   ]
  },
  {
   "cell_type": "markdown",
   "metadata": {},
   "source": [
    "## Environment parameters\n",
    "\n",
    "* Get the environment parameters from the config file \n",
    "* Overwrite the ```lag_window```parameter with the parameter specified in the agent, if it is specified (since lag window is provided by the environment, but a tunable hyperparameter of the agent)"
   ]
  },
  {
   "cell_type": "code",
   "execution_count": null,
   "metadata": {},
   "outputs": [],
   "source": [
    "# open params from yaml file\n",
    "\n",
    "with open(\"config_env.yaml\", \"r\") as stream:\n",
    "    try:\n",
    "        config_env = yaml.safe_load(stream)\n",
    "    except yaml.YAMLError as exc:\n",
    "        print(exc)\n",
    "\n",
    "# check if config_agent has a key lag_window\n",
    "if \"lag_window\" in config_agent:\n",
    "    # check if lag-window is integer\n",
    "    if isinstance(config_agent[\"lag_window\"], int):\n",
    "        # check if lag-window is positive\n",
    "        config_env[\"lag_window_params\"][\"lag_window\"] = config_agent[\"lag_window\"]\n",
    "    del config_agent[\"lag_window\"]\n",
    "\n",
    "normalize_features = config_env[\"normalize_features\"]\n",
    "\n",
    "# update wandb\n",
    "wandb.config.update(config_env)\n",
    "\n",
    "config_env"
   ]
  },
  {
   "cell_type": "markdown",
   "metadata": {},
   "source": [
    "## Prepare data"
   ]
  },
  {
   "cell_type": "code",
   "execution_count": null,
   "metadata": {},
   "outputs": [],
   "source": [
    "datasetloader = DatasetLoader()\n",
    "\n",
    "data = datasetloader.load_dataset(\n",
    "    dataset_type = config_env[\"dataset_type\"],\n",
    "    dataset_number = config_env[\"dataset_number\"],\n",
    "    overwrite=False)\n",
    "\n",
    "X = data[\"data_raw_features\"]\n",
    "X = np.round(X, 5)\n",
    "Y = data[\"data_raw_target\"]\n",
    "\n",
    "val_index_start = len(X) - config_env[\"size_val\"] - config_env[\"size_test\"]\n",
    "test_index_start = len(X) - config_env[\"size_test\"]"
   ]
  },
  {
   "cell_type": "code",
   "execution_count": null,
   "metadata": {},
   "outputs": [],
   "source": [
    "# clip_action = ClipAction(lower=0, upper=config_env[\"env_kwargs\"][\"q_bound_high\"])\n",
    "round_action = RoundAction(unit_size=config_env[\"unit_size\"])\n",
    "postprocessors = [round_action]\n",
    "\n",
    "dataloader = XYDataLoader(  X = X,\n",
    "                            Y = Y,\n",
    "                            val_index_start = val_index_start,\n",
    "                            test_index_start = test_index_start,\n",
    "                            lag_window_params = config_env[\"lag_window_params\"],\n",
    "                            normalize_features = {'normalize': normalize_features, 'ignore_one_hot': True})\n",
    "\n",
    "environment = NewsvendorEnv(\n",
    "    dataloader = dataloader,\n",
    "    postprocessors = postprocessors,\n",
    "    **config_env[\"env_kwargs\"]\n",
    ")\n",
    "\n",
    "# check if config_train has eigher early_stopping_patience or early_stopping_warmup\n",
    "if \"early_stopping_patience\" in config_train or \"early_stopping_warmup\" in config_train:\n",
    "    warmup = config_train[\"early_stopping_warmup\"] if \"early_stopping_warmup\" in config_train else 0\n",
    "    patience = config_train[\"early_stopping_patience\"] if \"early_stopping_patience\" in config_train else 0\n",
    "    earlystoppinghandler = EarlyStoppingHandler(warmup=warmup, patience=warmup)\n",
    "else:\n",
    "    earlystoppinghandler = None"
   ]
  },
  {
   "cell_type": "code",
   "execution_count": null,
   "metadata": {},
   "outputs": [],
   "source": [
    "if AgentClass.train_mode == \"direct_fit\":\n",
    "    agent = AgentClass(\n",
    "        environment_info=environment.mdp_info,\n",
    "        cu = config_env[\"env_kwargs\"][\"underage_cost\"],\n",
    "        co = config_env[\"env_kwargs\"][\"overage_cost\"],\n",
    "        **config_agent\n",
    "    )\n",
    "    \n",
    "elif AgentClass.train_mode == \"epochs_fit\":\n",
    "    agent = AgentClass(\n",
    "        environment_info=environment.mdp_info,\n",
    "        dataloader=dataloader,\n",
    "        input_shape=environment.observation_space.shape,\n",
    "        output_shape=environment.action_space.shape,\n",
    "        cu = config_env[\"env_kwargs\"][\"underage_cost\"],\n",
    "        co = config_env[\"env_kwargs\"][\"overage_cost\"],\n",
    "        **config_agent\n",
    "    )\n",
    "\n",
    "elif AgentClass.train_mode == \"env_interaction\":\n",
    "    agent = AgentClass(\n",
    "        environment_info=environment.mdp_info,\n",
    "        **config_agent\n",
    "    )\n",
    "    \n",
    "else:\n",
    "    raise ValueError(\"Invalid train_mode\")"
   ]
  },
  {
   "cell_type": "code",
   "execution_count": null,
   "metadata": {},
   "outputs": [],
   "source": [
    "run_experiment(\n",
    "                agent,\n",
    "                environment,\n",
    "                n_epochs = config_train[\"n_epochs\"],\n",
    "                n_steps = config_train[\"n_steps\"],\n",
    "                early_stopping_handler = earlystoppinghandler,\n",
    "                save_best = config_train[\"save_best\"],\n",
    "                run_id = \"test\",\n",
    "                tracking=\"wandb\",\n",
    "                eval_step_info = False,\n",
    "                print_freq = 1\n",
    "                )\n",
    "\n",
    "environment.test()\n",
    "agent.eval()\n",
    "\n",
    "R, J = test_agent(  agent,\n",
    "                    environment,\n",
    "                    return_dataset=False,\n",
    "                    tracking = \"wandb\")\n",
    "\n",
    "# print R and J rounded to 1 decimal\n",
    "print(\"final evaluation on test set: R =\", np.round(R, 10), \"J =\", np.round(J, 10))"
   ]
  },
  {
   "cell_type": "code",
   "execution_count": null,
   "metadata": {},
   "outputs": [],
   "source": []
  },
  {
   "cell_type": "code",
   "execution_count": null,
   "metadata": {},
   "outputs": [],
   "source": [
    "wandb.finish()"
   ]
  },
  {
   "cell_type": "code",
   "execution_count": null,
   "metadata": {},
   "outputs": [],
   "source": []
  },
  {
   "cell_type": "code",
   "execution_count": null,
   "metadata": {},
   "outputs": [],
   "source": []
  }
 ],
 "metadata": {
  "kernelspec": {
   "display_name": "ddop",
   "language": "python",
   "name": "python3"
  },
  "language_info": {
   "codemirror_mode": {
    "name": "ipython",
    "version": 3
   },
   "file_extension": ".py",
   "mimetype": "text/x-python",
   "name": "python",
   "nbconvert_exporter": "python",
   "pygments_lexer": "ipython3",
   "version": "3.10.15"
  }
 },
 "nbformat": 4,
 "nbformat_minor": 2
}
