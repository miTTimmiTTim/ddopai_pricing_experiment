{
 "cells": [
  {
   "cell_type": "code",
   "execution_count": 1,
   "metadata": {},
   "outputs": [],
   "source": [
    "import os\n",
    "os.environ['NUMEXPR_MAX_THREADS'] = '1'\n",
    "\n",
    "import logging\n",
    "import numexpr as ne\n",
    "import numpy as np\n",
    "import torch\n",
    "import datetime\n",
    "from ddopai.envs.pricing.dynamic import DynamicPricingEnv\n",
    "from ddopai.envs.actionprocessors import ClipAction, RoundAction\n",
    "\n",
    "from ddopai.experiments.experiment_functions_online import run_experiment\n",
    "from ddopai.experiments.meta_experiment_functions import *\n",
    "import requests\n",
    "import yaml\n",
    "import re\n",
    "import pandas as pd\n",
    "import wandb\n",
    "from copy import deepcopy\n",
    "import warnings\n",
    "import gc\n"
   ]
  },
  {
   "cell_type": "code",
   "execution_count": 2,
   "metadata": {},
   "outputs": [],
   "source": [
    "logging_level = logging.INFO\n",
    "logging.basicConfig(level=logging_level)\n",
    "\n",
    "ne.set_num_threads(1)\n",
    "torch.backends.cudnn.enabled = False\n",
    "torch.set_num_threads(1)\n",
    "\n",
    "set_warnings(logging.INFO) # turn off warnings for any level higher or equal to the input level\n",
    "\n",
    "PROJECT_NAME = \"dynamic_pricing\"\n",
    "LIBRARIES_TO_TRACK = [\"ddopai\", \"mushroom_rl\"]\n",
    "ENVCLASS = DynamicPricingEnv\n",
    "RESULTS_DIR = \"results\""
   ]
  },
  {
   "cell_type": "markdown",
   "metadata": {},
   "source": [
    "# Experiment preparations\n",
    "## Set-up WandB\n",
    "### Init WandB"
   ]
  },
  {
   "cell_type": "code",
   "execution_count": 3,
   "metadata": {},
   "outputs": [
    {
     "name": "stderr",
     "output_type": "stream",
     "text": [
      "\u001b[34m\u001b[1mwandb\u001b[0m: Using wandb-core as the SDK backend.  Please refer to https://wandb.me/wandb-core for more information.\n",
      "\u001b[34m\u001b[1mwandb\u001b[0m: Currently logged in as: \u001b[33mtimlachner\u001b[0m. Use \u001b[1m`wandb login --relogin`\u001b[0m to force relogin\n"
     ]
    },
    {
     "data": {
      "text/html": [
       "Tracking run with wandb version 0.18.6"
      ],
      "text/plain": [
       "<IPython.core.display.HTML object>"
      ]
     },
     "metadata": {},
     "output_type": "display_data"
    },
    {
     "data": {
      "text/html": [
       "Run data is saved locally in <code>/Users/timlachner/Library/CloudStorage/OneDrive-Personal/Work/DDOP/ddopai_pricing_experiments/wandb/run-20250201_114014-10h93z24</code>"
      ],
      "text/plain": [
       "<IPython.core.display.HTML object>"
      ]
     },
     "metadata": {},
     "output_type": "display_data"
    },
    {
     "data": {
      "text/html": [
       "Syncing run <strong><a href='https://wandb.ai/timlachner/pricing_test/runs/10h93z24' target=\"_blank\">pricing_test_2025-02-01_11-40-13</a></strong> to <a href='https://wandb.ai/timlachner/pricing_test' target=\"_blank\">Weights & Biases</a> (<a href='https://wandb.me/developer-guide' target=\"_blank\">docs</a>)<br/>"
      ],
      "text/plain": [
       "<IPython.core.display.HTML object>"
      ]
     },
     "metadata": {},
     "output_type": "display_data"
    },
    {
     "data": {
      "text/html": [
       " View project at <a href='https://wandb.ai/timlachner/pricing_test' target=\"_blank\">https://wandb.ai/timlachner/pricing_test</a>"
      ],
      "text/plain": [
       "<IPython.core.display.HTML object>"
      ]
     },
     "metadata": {},
     "output_type": "display_data"
    },
    {
     "data": {
      "text/html": [
       " View run at <a href='https://wandb.ai/timlachner/pricing_test/runs/10h93z24' target=\"_blank\">https://wandb.ai/timlachner/pricing_test/runs/10h93z24</a>"
      ],
      "text/plain": [
       "<IPython.core.display.HTML object>"
      ]
     },
     "metadata": {},
     "output_type": "display_data"
    },
    {
     "data": {
      "text/html": [
       "<button onClick=\"this.nextSibling.style.display='block';this.style.display='none';\">Display W&B run</button><iframe src='https://wandb.ai/timlachner/pricing_test/runs/10h93z24?jupyter=true' style='border:none;width:100%;height:420px;display:none;'></iframe>"
      ],
      "text/plain": [
       "<wandb.sdk.wandb_run.Run at 0x14e4aec80>"
      ]
     },
     "execution_count": 3,
     "metadata": {},
     "output_type": "execute_result"
    }
   ],
   "source": [
    "project_name = \"pricing_test\"\n",
    "\n",
    "wandb.init(\n",
    "    project=project_name,\n",
    "    name = f\"{project_name}_{datetime.datetime.now().strftime('%Y-%m-%d_%H-%M-%S')}\"\n",
    ")"
   ]
  },
  {
   "cell_type": "markdown",
   "metadata": {},
   "source": [
    "### Track library versions and git hash of experiment"
   ]
  },
  {
   "cell_type": "markdown",
   "metadata": {},
   "source": [
    "# Experiment parameters"
   ]
  },
  {
   "cell_type": "code",
   "execution_count": 4,
   "metadata": {},
   "outputs": [
    {
     "data": {
      "text/html": [
       "Finishing last run (ID:10h93z24) before initializing another..."
      ],
      "text/plain": [
       "<IPython.core.display.HTML object>"
      ]
     },
     "metadata": {},
     "output_type": "display_data"
    },
    {
     "data": {
      "text/html": [
       " View run <strong style=\"color:#cdcd00\">pricing_test_2025-02-01_11-40-13</strong> at: <a href='https://wandb.ai/timlachner/pricing_test/runs/10h93z24' target=\"_blank\">https://wandb.ai/timlachner/pricing_test/runs/10h93z24</a><br/> View project at: <a href='https://wandb.ai/timlachner/pricing_test' target=\"_blank\">https://wandb.ai/timlachner/pricing_test</a><br/>Synced 5 W&B file(s), 0 media file(s), 0 artifact file(s) and 0 other file(s)"
      ],
      "text/plain": [
       "<IPython.core.display.HTML object>"
      ]
     },
     "metadata": {},
     "output_type": "display_data"
    },
    {
     "data": {
      "text/html": [
       "Find logs at: <code>./wandb/run-20250201_114014-10h93z24/logs</code>"
      ],
      "text/plain": [
       "<IPython.core.display.HTML object>"
      ]
     },
     "metadata": {},
     "output_type": "display_data"
    },
    {
     "data": {
      "text/html": [
       "Successfully finished last run (ID:10h93z24). Initializing new run:<br/>"
      ],
      "text/plain": [
       "<IPython.core.display.HTML object>"
      ]
     },
     "metadata": {},
     "output_type": "display_data"
    },
    {
     "data": {
      "text/html": [
       "Tracking run with wandb version 0.18.6"
      ],
      "text/plain": [
       "<IPython.core.display.HTML object>"
      ]
     },
     "metadata": {},
     "output_type": "display_data"
    },
    {
     "data": {
      "text/html": [
       "Run data is saved locally in <code>/Users/timlachner/Library/CloudStorage/OneDrive-Personal/Work/DDOP/ddopai_pricing_experiments/wandb/run-20250201_114014-n1atzueg</code>"
      ],
      "text/plain": [
       "<IPython.core.display.HTML object>"
      ]
     },
     "metadata": {},
     "output_type": "display_data"
    },
    {
     "data": {
      "text/html": [
       "Syncing run <strong><a href='https://wandb.ai/timlachner/dynamic_pricing/runs/n1atzueg' target=\"_blank\">dynamic_pricing_2025-02-01_11-40-14</a></strong> to <a href='https://wandb.ai/timlachner/dynamic_pricing' target=\"_blank\">Weights & Biases</a> (<a href='https://wandb.me/developer-guide' target=\"_blank\">docs</a>)<br/>"
      ],
      "text/plain": [
       "<IPython.core.display.HTML object>"
      ]
     },
     "metadata": {},
     "output_type": "display_data"
    },
    {
     "data": {
      "text/html": [
       " View project at <a href='https://wandb.ai/timlachner/dynamic_pricing' target=\"_blank\">https://wandb.ai/timlachner/dynamic_pricing</a>"
      ],
      "text/plain": [
       "<IPython.core.display.HTML object>"
      ]
     },
     "metadata": {},
     "output_type": "display_data"
    },
    {
     "data": {
      "text/html": [
       " View run at <a href='https://wandb.ai/timlachner/dynamic_pricing/runs/n1atzueg' target=\"_blank\">https://wandb.ai/timlachner/dynamic_pricing/runs/n1atzueg</a>"
      ],
      "text/plain": [
       "<IPython.core.display.HTML object>"
      ]
     },
     "metadata": {},
     "output_type": "display_data"
    },
    {
     "name": "stderr",
     "output_type": "stream",
     "text": [
      "INFO:root:ddopai: 0.0.7\n",
      "INFO:root:mushroom_rl: 1.10.1\n",
      "INFO:root:Git hash: ff705cd2613ee9fa1e7927cfd1843367795727ff\n",
      "INFO:root:Configuration file 'config_train.yaml' successfully loaded.\n",
      "INFO:root:Configuration file 'config_agent.yaml' successfully loaded.\n",
      "INFO:root:Configuration file 'config_env.yaml' successfully loaded.\n",
      "WARNING:root:No lag window specified in the agent configuration. Keeping value from env config\n"
     ]
    }
   ],
   "source": [
    "config_train, config_agent, config_env, AgentClass, agent_name = prep_experiment(\n",
    "        PROJECT_NAME,\n",
    "        LIBRARIES_TO_TRACK,\n",
    "        config_train_name=\"config_train.yaml\",\n",
    "        config_agent_name=\"config_agent.yaml\",\n",
    "        config_env_name=\"config_env.yaml\",\n",
    "    )"
   ]
  },
  {
   "cell_type": "markdown",
   "metadata": {},
   "source": [
    "## Prepare data\n",
    "* Get the env parameters \n",
    "* Create the data and noise based on these parameters"
   ]
  },
  {
   "cell_type": "code",
   "execution_count": 5,
   "metadata": {},
   "outputs": [],
   "source": [
    "raw_data, val_index_start, test_index_start = get_online_data(\n",
    "        config_env,\n",
    "        overwrite=False\n",
    "    )"
   ]
  },
  {
   "cell_type": "code",
   "execution_count": 6,
   "metadata": {},
   "outputs": [
    {
     "data": {
      "text/plain": [
       "array([[0.79370963]])"
      ]
     },
     "execution_count": 6,
     "metadata": {},
     "output_type": "execute_result"
    }
   ],
   "source": [
    "raw_data[0][0]"
   ]
  },
  {
   "cell_type": "markdown",
   "metadata": {},
   "source": [
    "## Environment parameters\n",
    "\n",
    "* Get the environment parameters from the config file \n",
    "* Overwrite the ```lag_window```parameter with the parameter specified in the agent, if it is specified (since lag window is provided by the environment, but a tunable hyperparameter of the agent)"
   ]
  },
  {
   "cell_type": "code",
   "execution_count": 7,
   "metadata": {},
   "outputs": [],
   "source": [
    "round_action = RoundAction(unit_size=config_env[\"unit_size\"])\n",
    "postprocessors = [round_action]\n",
    "\n",
    "environment = set_up_env_online(ENVCLASS, raw_data, val_index_start, test_index_start, config_env, postprocessors)"
   ]
  },
  {
   "cell_type": "markdown",
   "metadata": {},
   "source": [
    "## Agent Parameter"
   ]
  },
  {
   "cell_type": "code",
   "execution_count": 8,
   "metadata": {},
   "outputs": [
    {
     "name": "stderr",
     "output_type": "stream",
     "text": [
      "INFO:root:Agent: SAC\n",
      "INFO:root:Actor network (mu network):\n"
     ]
    },
    {
     "name": "stdout",
     "output_type": "stream",
     "text": [
      "==========================================================================================\n",
      "Layer (type:depth-idx)                   Output Shape              Param #\n",
      "==========================================================================================\n",
      "MLPActor                                 [1, 1]                    --\n",
      "├─Sequential: 1-1                        [1, 1]                    --\n",
      "│    └─Linear: 2-1                       [1, 64]                   128\n",
      "│    └─ReLU: 2-2                         [1, 64]                   --\n",
      "│    └─Dropout: 2-3                      [1, 64]                   --\n",
      "│    └─Linear: 2-4                       [1, 1]                    65\n",
      "│    └─Identity: 2-5                     [1, 1]                    --\n",
      "==========================================================================================\n",
      "Total params: 193\n",
      "Trainable params: 193\n",
      "Non-trainable params: 0\n",
      "Total mult-adds (M): 0.00\n",
      "==========================================================================================\n",
      "Input size (MB): 0.00\n",
      "Forward/backward pass size (MB): 0.00\n",
      "Params size (MB): 0.00\n",
      "Estimated Total Size (MB): 0.00\n",
      "==========================================================================================\n"
     ]
    },
    {
     "name": "stderr",
     "output_type": "stream",
     "text": [
      "INFO:root:################################################################################\n",
      "INFO:root:Critic network:\n"
     ]
    },
    {
     "name": "stdout",
     "output_type": "stream",
     "text": [
      "==========================================================================================\n",
      "Layer (type:depth-idx)                   Output Shape              Param #\n",
      "==========================================================================================\n",
      "MLPStateAction                           --                        --\n",
      "├─Sequential: 1-1                        [1, 1]                    --\n",
      "│    └─Linear: 2-1                       [1, 64]                   192\n",
      "│    └─ReLU: 2-2                         [1, 64]                   --\n",
      "│    └─Dropout: 2-3                      [1, 64]                   --\n",
      "│    └─Linear: 2-4                       [1, 1]                    65\n",
      "│    └─Identity: 2-5                     [1, 1]                    --\n",
      "==========================================================================================\n",
      "Total params: 257\n",
      "Trainable params: 257\n",
      "Non-trainable params: 0\n",
      "Total mult-adds (M): 0.00\n",
      "==========================================================================================\n",
      "Input size (MB): 0.00\n",
      "Forward/backward pass size (MB): 0.00\n",
      "Params size (MB): 0.00\n",
      "Estimated Total Size (MB): 0.00\n",
      "==========================================================================================\n"
     ]
    }
   ],
   "source": [
    "logging.info(f\"Agent: {agent_name}\")\n",
    "\n",
    "\n",
    "if AgentClass.train_mode == \"env_interaction\":\n",
    "    if \"link\" in config_agent:\n",
    "        glm_link, price_function = set_up_agent(AgentClass, environment, config_agent)\n",
    "        config_agent[\"g\"] = glm_link\n",
    "        config_agent[\"price_function\"] = price_function\n",
    "        del config_agent[\"link\"]\n",
    "    agent = AgentClass(\n",
    "        environment_info=environment.mdp_info,\n",
    "        **config_agent\n",
    "    )\n",
    "\n",
    "else:\n",
    "    raise ValueError(\"Invalid train_mode for online training\")"
   ]
  },
  {
   "cell_type": "code",
   "execution_count": 9,
   "metadata": {},
   "outputs": [],
   "source": [
    "earlystoppinghandler = set_up_earlystoppinghandler(config_train)"
   ]
  },
  {
   "cell_type": "code",
   "execution_count": 10,
   "metadata": {},
   "outputs": [
    {
     "name": "stderr",
     "output_type": "stream",
     "text": [
      "INFO:root:Starting experiment\n"
     ]
    },
    {
     "name": "stdout",
     "output_type": "stream",
     "text": [
      "Experiment directory: results/n1atzueg\n"
     ]
    },
    {
     "name": "stderr",
     "output_type": "stream",
     "text": [
      "  0%|          | 0/3 [00:00<?, ?it/s]INFO:root:Epoch 1: R=119384.34406709572, J=17.374767376265627\n",
      " 33%|███▎      | 1/3 [00:07<00:14,  7.07s/it]INFO:root:Epoch 2: R=54225.346723543116, J=0.4970029411814527\n",
      " 67%|██████▋   | 2/3 [00:14<00:07,  7.05s/it]INFO:root:Epoch 3: R=38812.00397098696, J=6.810134545727945\n",
      "100%|██████████| 3/3 [00:21<00:00,  7.14s/it]\n"
     ]
    },
    {
     "name": "stdout",
     "output_type": "stream",
     "text": [
      "[(array([1.42350822]), array([2.920124], dtype=float32), np.float64(6.810134545727945), array([1.42350822]), False, False)]\n"
     ]
    }
   ],
   "source": [
    "dataset = run_experiment(\n",
    "        agent,\n",
    "        environment,\n",
    "        n_epochs=config_train[\"n_epochs\"],\n",
    "        n_steps=config_train[\"n_steps\"],\n",
    "        early_stopping_handler=earlystoppinghandler,\n",
    "        save_best=config_train[\"save_best\"],\n",
    "        run_id=wandb.run.id,\n",
    "        tracking=\"wandb\",\n",
    "        eval_step_info=False,\n",
    "        print_freq=1,\n",
    "        results_dir = RESULTS_DIR,\n",
    "        return_dataset=True,\n",
    "        return_score=False\n",
    "    )"
   ]
  },
  {
   "cell_type": "code",
   "execution_count": 11,
   "metadata": {},
   "outputs": [
    {
     "data": {
      "text/html": [
       " View run <strong style=\"color:#cdcd00\">dynamic_pricing_2025-02-01_11-40-14</strong> at: <a href='https://wandb.ai/timlachner/dynamic_pricing/runs/n1atzueg' target=\"_blank\">https://wandb.ai/timlachner/dynamic_pricing/runs/n1atzueg</a><br/> View project at: <a href='https://wandb.ai/timlachner/dynamic_pricing' target=\"_blank\">https://wandb.ai/timlachner/dynamic_pricing</a><br/>Synced 5 W&B file(s), 0 media file(s), 2 artifact file(s) and 1 other file(s)"
      ],
      "text/plain": [
       "<IPython.core.display.HTML object>"
      ]
     },
     "metadata": {},
     "output_type": "display_data"
    },
    {
     "data": {
      "text/html": [
       "Find logs at: <code>./wandb/run-20250201_114014-n1atzueg/logs</code>"
      ],
      "text/plain": [
       "<IPython.core.display.HTML object>"
      ]
     },
     "metadata": {},
     "output_type": "display_data"
    }
   ],
   "source": [
    "wandb.finish()"
   ]
  },
  {
   "cell_type": "code",
   "execution_count": null,
   "metadata": {},
   "outputs": [],
   "source": []
  }
 ],
 "metadata": {
  "kernelspec": {
   "display_name": "ddop",
   "language": "python",
   "name": "python3"
  },
  "language_info": {
   "codemirror_mode": {
    "name": "ipython",
    "version": 3
   },
   "file_extension": ".py",
   "mimetype": "text/x-python",
   "name": "python",
   "nbconvert_exporter": "python",
   "pygments_lexer": "ipython3",
   "version": "3.10.15"
  }
 },
 "nbformat": 4,
 "nbformat_minor": 2
}
