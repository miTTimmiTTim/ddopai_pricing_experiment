{
 "cells": [
  {
   "cell_type": "code",
   "execution_count": 1,
   "metadata": {},
   "outputs": [],
   "source": [
    "import os\n",
    "os.environ['NUMEXPR_MAX_THREADS'] = '1'\n",
    "\n",
    "import logging\n",
    "import numexpr as ne\n",
    "import numpy as np\n",
    "import torch\n",
    "import datetime\n",
    "from ddopai.envs.pricing.dynamic import DynamicPricingEnv\n",
    "from ddopai.envs.pricing.dynamic_inventory import DynamicPricingInvEnv\n",
    "from ddopai.envs.actionprocessors import ClipAction, RoundAction\n",
    "\n",
    "from ddopai.experiments.experiment_functions_online import run_experiment\n",
    "from ddopai.experiments.meta_experiment_functions import *\n",
    "import requests\n",
    "import yaml\n",
    "import re\n",
    "import pandas as pd\n",
    "import wandb\n",
    "from copy import deepcopy\n",
    "import warnings\n",
    "import gc\n",
    "from mushroom_rl import core \n",
    "import pickle\n",
    "from tqdm import tqdm, trange"
   ]
  },
  {
   "cell_type": "code",
   "execution_count": 2,
   "metadata": {},
   "outputs": [
    {
     "name": "stderr",
     "output_type": "stream",
     "text": [
      "INFO:root:Configuration file 'config_hp_sweep.yaml' successfully loaded.\n",
      "INFO:root:Configuration file 'config_env.yaml' successfully loaded.\n"
     ]
    }
   ],
   "source": [
    "logging_level = logging.INFO\n",
    "logging.basicConfig(level=logging_level)\n",
    "\n",
    "ne.set_num_threads(1)\n",
    "torch.backends.cudnn.enabled = False\n",
    "torch.set_num_threads(1)\n",
    "\n",
    "set_warnings(logging.INFO) # turn off warnings for any level higher or equal to the input level\n",
    "\n",
    "project_name = \"CMDP-Bandit\"\n",
    "config_hp_sweep = import_config(\"config_hp_sweep.yaml\")\n",
    "config_env = import_config(\"config_env.yaml\")"
   ]
  },
  {
   "cell_type": "code",
   "execution_count": 3,
   "metadata": {},
   "outputs": [
    {
     "name": "stderr",
     "output_type": "stream",
     "text": [
      "\u001b[34m\u001b[1mwandb\u001b[0m: Using wandb-core as the SDK backend.  Please refer to https://wandb.me/wandb-core for more information.\n",
      "\u001b[34m\u001b[1mwandb\u001b[0m: Currently logged in as: \u001b[33mtimlachner\u001b[0m. Use \u001b[1m`wandb login --relogin`\u001b[0m to force relogin\n"
     ]
    },
    {
     "data": {
      "text/html": [
       "Tracking run with wandb version 0.18.6"
      ],
      "text/plain": [
       "<IPython.core.display.HTML object>"
      ]
     },
     "metadata": {},
     "output_type": "display_data"
    },
    {
     "data": {
      "text/html": [
       "Run data is saved locally in <code>/Users/timlachner/Library/CloudStorage/OneDrive-Personal/Work/DDOP/ddopai_pricing_experiments/wandb/run-20250413_152815-9d2lkker</code>"
      ],
      "text/plain": [
       "<IPython.core.display.HTML object>"
      ]
     },
     "metadata": {},
     "output_type": "display_data"
    },
    {
     "data": {
      "text/html": [
       "Syncing run <strong><a href='https://wandb.ai/timlachner/CMDP-Bandit/runs/9d2lkker' target=\"_blank\">CMDP-Bandit_artifact_2025-04-13_15-28-14</a></strong> to <a href='https://wandb.ai/timlachner/CMDP-Bandit' target=\"_blank\">Weights & Biases</a> (<a href='https://wandb.me/developer-guide' target=\"_blank\">docs</a>)<br/>"
      ],
      "text/plain": [
       "<IPython.core.display.HTML object>"
      ]
     },
     "metadata": {},
     "output_type": "display_data"
    },
    {
     "data": {
      "text/html": [
       " View project at <a href='https://wandb.ai/timlachner/CMDP-Bandit' target=\"_blank\">https://wandb.ai/timlachner/CMDP-Bandit</a>"
      ],
      "text/plain": [
       "<IPython.core.display.HTML object>"
      ]
     },
     "metadata": {},
     "output_type": "display_data"
    },
    {
     "data": {
      "text/html": [
       " View run at <a href='https://wandb.ai/timlachner/CMDP-Bandit/runs/9d2lkker' target=\"_blank\">https://wandb.ai/timlachner/CMDP-Bandit/runs/9d2lkker</a>"
      ],
      "text/plain": [
       "<IPython.core.display.HTML object>"
      ]
     },
     "metadata": {},
     "output_type": "display_data"
    },
    {
     "name": "stderr",
     "output_type": "stream",
     "text": [
      "100%|██████████| 5/5 [00:20<00:00,  4.04s/it]\n"
     ]
    },
    {
     "data": {
      "text/html": [
       " View run <strong style=\"color:#cdcd00\">CMDP-Bandit_artifact_2025-04-13_15-28-14</strong> at: <a href='https://wandb.ai/timlachner/CMDP-Bandit/runs/9d2lkker' target=\"_blank\">https://wandb.ai/timlachner/CMDP-Bandit/runs/9d2lkker</a><br/> View project at: <a href='https://wandb.ai/timlachner/CMDP-Bandit' target=\"_blank\">https://wandb.ai/timlachner/CMDP-Bandit</a><br/>Synced 5 W&B file(s), 0 media file(s), 10 artifact file(s) and 0 other file(s)"
      ],
      "text/plain": [
       "<IPython.core.display.HTML object>"
      ]
     },
     "metadata": {},
     "output_type": "display_data"
    },
    {
     "data": {
      "text/html": [
       "Find logs at: <code>./wandb/run-20250413_152815-9d2lkker/logs</code>"
      ],
      "text/plain": [
       "<IPython.core.display.HTML object>"
      ]
     },
     "metadata": {},
     "output_type": "display_data"
    }
   ],
   "source": [
    "artifacts = []\n",
    "\n",
    "run = wandb.init(\n",
    "    project=project_name,\n",
    "    name = f\"{project_name}_artifact_{datetime.datetime.now().strftime('%Y-%m-%d_%H-%M-%S')}\"\n",
    ")\n",
    "for artifact_index in trange(config_hp_sweep[\"num_trials\"]):\n",
    "    \n",
    "    raw_data, val_index_start, test_index_start = get_online_data(\n",
    "            config_env,\n",
    "            overwrite=False\n",
    "        )\n",
    "    \n",
    "    with open('data/raw_data.pkl', 'wb') as f:\n",
    "        pickle.dump(raw_data, f)\n",
    "    seed = np.random.randint(0, 2**32 - 1)\n",
    "    artifact = wandb.Artifact('raw_data', type='data')\n",
    "    artifact.add_file('data/raw_data.pkl')\n",
    "    artifact.metadata = {\n",
    "        \"seed\": seed\n",
    "    }\n",
    "    wandb.log_artifact(artifact)\n",
    "    artifact.wait()\n",
    "    artifacts.append(artifact.name)\n",
    "wandb.finish()"
   ]
  },
  {
   "cell_type": "code",
   "execution_count": null,
   "metadata": {},
   "outputs": [],
   "source": [
    "config_hp_sweep[\"parameters\"][\"artifacts\"] = {\"values\": [artifacts]}\n"
   ]
  },
  {
   "cell_type": "code",
   "execution_count": 5,
   "metadata": {},
   "outputs": [
    {
     "data": {
      "text/plain": [
       "{'method': 'grid',\n",
       " 'metric': {'name': 'cumulative_mean_true_reward', 'goal': 'maximize'},\n",
       " 'name': 'config_hp_sweep',\n",
       " 'parameters': {'config_train-agent': {'values': ['RL2PPO']},\n",
       "  'config_agent-RL2PPO-learning_rate_actor': {'values': [0.001,\n",
       "    0.0005,\n",
       "    0.002]},\n",
       "  'artifacts': {'values': [{'values': ['raw_data:v121',\n",
       "      'raw_data:v122',\n",
       "      'raw_data:v123',\n",
       "      'raw_data:v124',\n",
       "      'raw_data:v125']}]}}}"
      ]
     },
     "execution_count": 5,
     "metadata": {},
     "output_type": "execute_result"
    }
   ],
   "source": [
    "del config_hp_sweep[\"num_trials\"]\n",
    "config_hp_sweep"
   ]
  },
  {
   "cell_type": "code",
   "execution_count": 6,
   "metadata": {},
   "outputs": [
    {
     "name": "stdout",
     "output_type": "stream",
     "text": [
      "Create sweep with ID: shg82khf\n",
      "Sweep URL: https://wandb.ai/timlachner/CMDP-Bandit/sweeps/shg82khf\n"
     ]
    }
   ],
   "source": [
    "sweep_id = wandb.sweep(config_hp_sweep, project=project_name)"
   ]
  },
  {
   "cell_type": "code",
   "execution_count": 7,
   "metadata": {},
   "outputs": [],
   "source": [
    "wandb.finish()"
   ]
  },
  {
   "cell_type": "code",
   "execution_count": null,
   "metadata": {},
   "outputs": [],
   "source": []
  }
 ],
 "metadata": {
  "kernelspec": {
   "display_name": "ddop",
   "language": "python",
   "name": "python3"
  },
  "language_info": {
   "codemirror_mode": {
    "name": "ipython",
    "version": 3
   },
   "file_extension": ".py",
   "mimetype": "text/x-python",
   "name": "python",
   "nbconvert_exporter": "python",
   "pygments_lexer": "ipython3",
   "version": "3.10.15"
  }
 },
 "nbformat": 4,
 "nbformat_minor": 2
}
