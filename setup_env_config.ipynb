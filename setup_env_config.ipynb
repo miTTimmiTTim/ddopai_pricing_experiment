{
 "cells": [
  {
   "cell_type": "code",
   "execution_count": 1,
   "metadata": {},
   "outputs": [],
   "source": [
    "import os\n",
    "os.environ['NUMEXPR_MAX_THREADS'] = '1'\n",
    "\n",
    "import logging\n",
    "import numexpr as ne\n",
    "import numpy as np\n",
    "import torch\n",
    "\n",
    "from ddopai.experiments.meta_experiment_functions import *\n",
    "import requests\n",
    "import yaml\n",
    "import re\n",
    "import pandas as pd\n",
    "import wandb\n",
    "from copy import deepcopy\n",
    "import warnings\n",
    "import gc\n",
    "from mushroom_rl import core \n",
    "import pickle\n",
    "from tqdm import tqdm, trange"
   ]
  },
  {
   "cell_type": "code",
   "execution_count": null,
   "metadata": {},
   "outputs": [
    {
     "name": "stderr",
     "output_type": "stream",
     "text": [
      "INFO:root:Configuration file 'config_env.yaml' successfully loaded.\n"
     ]
    }
   ],
   "source": [
    "config_env = import_config(\"config_env.yaml\")\n",
    "config_dist = import_config(\"config_dist.yaml\")"
   ]
  },
  {
   "cell_type": "markdown",
   "metadata": {},
   "source": [
    "current: multiple env_kwargs with the specific values for each env"
   ]
  },
  {
   "cell_type": "code",
   "execution_count": null,
   "metadata": {},
   "outputs": [],
   "source": [
    "def sample_param(spec):\n",
    "    t = spec[\"type\"]\n",
    "    if t == \"uniform\":\n",
    "        return np.random.uniform(spec[\"low\"], spec[\"high\"])\n",
    "    if t == \"categorical\":\n",
    "        return np.random.choice(spec[\"choices\"])\n",
    "    if t == \"lognormal\":\n",
    "        return np.random.lognormal(mean=spec[\"mu\"], sigma=spec[\"sigma\"])\n",
    "    raise ValueError(f\"Unknown dist type {t}\")\n",
    "\n",
    "def build_task_kwargs(dist_config, status = \"train\"):\n",
    "    task_kwargs = {}\n",
    "    for key, spec in dist_config[status][\"parameters\"].items():\n",
    "        val = sample_param(spec)\n",
    "        # maybe round floats for readability:\n",
    "        if isinstance(val, float):\n",
    "            val = float(np.round(val, 4))\n",
    "        task_kwargs[key] = val\n",
    "\n",
    "    # handle dependent parameters, e.g. alpha/beta sparsity\n",
    "    if task_kwargs[\"nb_features\"] > 1:\n",
    "        d = task_kwargs[\"nb_features\"]\n",
    "        sparsity = task_kwargs[\"sparsity_parameter\"]\n",
    "        mean_a = task_kwargs[\"parameters\"][\"mean_alpha\"][\"choices\"]\n",
    "        mean_b = task_kwargs[\"parameters\"][\"mean_beta\"][\"choices\"]\n",
    "        cov_p = task_kwargs[\"parameters\"][\"covariance\"][\"choices\"]\n",
    "        alpha = np.random.multivariate_normal(\n",
    "            mean=np.ones(d)*mean_a, \n",
    "            cov=np.eye(d)*cov_p\n",
    "        )\n",
    "        beta = np.random.multivariate_normal(\n",
    "            mean=np.ones(d)*mean_b, \n",
    "            cov=np.eye(d)*cov_p\n",
    "        )\n",
    "        # zero out per sparsity\n",
    "        zero_idx_a = np.random.choice(d, int(sparsity*d), replace=False)\n",
    "        zero_idx_b = np.random.choice(d, int(sparsity*d), replace=False)\n",
    "        alpha[zero_idx_a] = 0\n",
    "        beta[zero_idx_b] = 0\n",
    "        task_kwargs[\"alpha\"] = [round(float(x), 2) for x in alpha]\n",
    "    else:\n",
    "        # degenerate 1‐dim case\n",
    "        task_kwargs[\"alpha\"] = [round(float(task_kwargs[\"leading_alpha\"]),2)]\n",
    "        task_kwargs[\"beta\"]  = [round(float(task_kwargs[\"leading_beta\"]),2)]\n",
    "\n",
    "    # convert env_class name → actual class and stash into kwargs\n",
    "    return task_kwargs\n"
   ]
  },
  {
   "cell_type": "code",
   "execution_count": null,
   "metadata": {},
   "outputs": [],
   "source": [
    "env_kwargs = []\n",
    "for episode in range(config_env[\"setup_kwargs\"][\"n_episodes\"]):\n",
    "    episode_kwargs = {}\n",
    "    episode_kwargs['gamma'] = config_env[\"setup_kwargs\"][\"gamma\"][episode % len(config_env[\"setup_kwargs\"][\"gamma\"])] # Ausen\n",
    "    episode_kwargs['env_class'] = config_env[\"setup_kwargs\"][\"env_class\"][episode % len(config_env[\"setup_kwargs\"][\"env_class\"])] # Ausen\n",
    "    episode_kwargs['horizon_train'] = config_env[\"setup_kwargs\"][\"horizon_train\"][episode % len(config_env[\"setup_kwargs\"][\"horizon_train\"])] # Innen\n",
    "    episode_kwargs['p_bound_low'] = config_env[\"setup_kwargs\"][\"p_bound_low\"][episode % len(config_env[\"setup_kwargs\"][\"p_bound_low\"])] # Ausen\n",
    "    episode_kwargs['p_bound_high'] = config_env[\"setup_kwargs\"][\"p_bound_high\"][episode % len(config_env[\"setup_kwargs\"][\"p_bound_high\"])] # Ausen\n",
    "    episode_kwargs['inv'] = config_env[\"setup_kwargs\"][\"inv\"][episode % len(config_env[\"setup_kwargs\"][\"inv\"])] # Innen\n",
    "    episode_kwargs['nb_features'] = config_env[\"setup_kwargs\"][\"nb_features\"][episode % len(config_env[\"setup_kwargs\"][\"nb_features\"])] # Innen\n",
    "    episode_kwargs['noise_std'] = config_env[\"setup_kwargs\"][\"noise_std\"][episode % len(config_env[\"setup_kwargs\"][\"noise_std\"])] # Innen\n",
    "    episode_kwargs['function_form'] = config_env[\"setup_kwargs\"][\"function_form\"][episode % len(config_env[\"setup_kwargs\"][\"function_form\"])] # Innen\n",
    "    episode_kwargs['env_type'] = config_env[\"setup_kwargs\"][\"env_type\"][episode % len(config_env[\"setup_kwargs\"][\"env_type\"])].copy()\n",
    "    if episode_kwargs['nb_features'] > 1:\n",
    "        alpha = np.random.multivariate_normal(\n",
    "            mean=np.ones(episode_kwargs['nb_features'])* config_env[\"setup_kwargs\"][\"mean_alpha\"][episode % len(config_env[\"setup_kwargs\"][\"mean_alpha\"])],\n",
    "            cov=np.eye(episode_kwargs['nb_features']) * config_env[\"setup_kwargs\"][\"covariance_parameter\"][episode % len(config_env[\"setup_kwargs\"][\"covariance_parameter\"])]\n",
    "        )\n",
    "        beta = np.random.multivariate_normal(\n",
    "            mean=np.ones(episode_kwargs['nb_features']) * config_env[\"setup_kwargs\"][\"mean_beta\"][episode % len(config_env[\"setup_kwargs\"][\"mean_beta\"])],\n",
    "            cov=np.eye(episode_kwargs['nb_features']) * config_env[\"setup_kwargs\"][\"covariance_parameter\"][episode % len(config_env[\"setup_kwargs\"][\"covariance_parameter\"])]\n",
    "        )\n",
    "        sparsity = config_env[\"setup_kwargs\"][\"sparsity_parameter\"][episode % len(config_env[\"setup_kwargs\"][\"sparsity_parameter\"])]\n",
    "        num_zero_alpha = int(len(alpha) * sparsity)\n",
    "        num_zero_beta = int(len(beta) * sparsity)\n",
    "\n",
    "        zero_indices_alpha = np.random.choice(len(alpha), num_zero_alpha, replace=False)\n",
    "        zero_indices_beta = np.random.choice(len(beta), num_zero_beta, replace=False)\n",
    "\n",
    "        alpha[zero_indices_alpha] = 0\n",
    "        beta[zero_indices_beta] = 0\n",
    "    \n",
    "        #alpha = np.insert(alpha, 0, config_env[\"setup_kwargs\"][\"leading_alpha\"][episode % len(config_env[\"setup_kwargs\"][\"leading_alpha\"])])\n",
    "        #beta = np.insert(beta, 0, config_env[\"setup_kwargs\"][\"leading_beta\"][episode % len(config_env[\"setup_kwargs\"][\"leading_beta\"])])\n",
    "    else:\n",
    "        alpha = np.array([config_env[\"setup_kwargs\"][\"leading_alpha\"][episode % len(config_env[\"setup_kwargs\"][\"leading_alpha\"])]])\n",
    "        beta = np.array([config_env[\"setup_kwargs\"][\"leading_beta\"][episode % len(config_env[\"setup_kwargs\"][\"leading_beta\"])]])\n",
    "    episode_kwargs['alpha'] = [round(float(a), 2) for a in alpha]\n",
    "    episode_kwargs['beta'] = [round(float(b), 2) for b in beta]\n",
    "    episode_kwargs['env_type'].update({\n",
    "        'mean_alpha': config_env[\"setup_kwargs\"][\"mean_alpha\"][episode % len(config_env[\"setup_kwargs\"][\"mean_alpha\"])],\n",
    "        'mean_beta': config_env[\"setup_kwargs\"][\"mean_beta\"][episode % len(config_env[\"setup_kwargs\"][\"mean_beta\"])],\n",
    "        'leading_alpha': config_env[\"setup_kwargs\"][\"leading_alpha\"][episode % len(config_env[\"setup_kwargs\"][\"leading_alpha\"])],\n",
    "        'leading_beta': config_env[\"setup_kwargs\"][\"leading_beta\"][episode % len(config_env[\"setup_kwargs\"][\"leading_beta\"])],\n",
    "        'covariance_parameter': config_env[\"setup_kwargs\"][\"covariance_parameter\"][episode % len(config_env[\"setup_kwargs\"][\"covariance_parameter\"])],\n",
    "        'noise_std': config_env[\"setup_kwargs\"][\"noise_std\"][episode % len(config_env[\"setup_kwargs\"][\"noise_std\"])]\n",
    "    })\n",
    "    env_kwargs.append(episode_kwargs)\n",
    "config_env[\"env_kwargs\"] = env_kwargs"
   ]
  },
  {
   "cell_type": "code",
   "execution_count": 4,
   "metadata": {},
   "outputs": [
    {
     "data": {
      "text/plain": [
       "{'gamma': 0,\n",
       " 'env_class': 'RL2DynamicPricingEnv',\n",
       " 'horizon_train': 300,\n",
       " 'p_bound_low': 0,\n",
       " 'p_bound_high': 5,\n",
       " 'inv': [3000.0],\n",
       " 'nb_features': 5,\n",
       " 'noise_std': 1,\n",
       " 'function_form': ['linear'],\n",
       " 'env_type': {'inv': False,\n",
       "  'reference_price': False,\n",
       "  'mean_alpha': 1.2,\n",
       "  'mean_beta': -0.3,\n",
       "  'leading_alpha': 10,\n",
       "  'leading_beta': -1,\n",
       "  'covariance_parameter': 0.2,\n",
       "  'noise_std': 1},\n",
       " 'alpha': [1.33, 0.79, 1.11, 1.57, 1.74],\n",
       " 'beta': [-0.76, 0.3, 0.3, -0.67, -0.52]}"
      ]
     },
     "execution_count": 4,
     "metadata": {},
     "output_type": "execute_result"
    }
   ],
   "source": [
    "env_kwargs[2]"
   ]
  },
  {
   "cell_type": "code",
   "execution_count": 5,
   "metadata": {},
   "outputs": [],
   "source": [
    "class NoAliasDumper(yaml.SafeDumper):\n",
    "    def ignore_aliases(self, data):\n",
    "        return True\n",
    "\n",
    "with open(\"config_env.yaml\", \"w\") as file:\n",
    "    yaml.dump(config_env, file, default_flow_style=False, Dumper=NoAliasDumper)"
   ]
  },
  {
   "cell_type": "code",
   "execution_count": null,
   "metadata": {},
   "outputs": [],
   "source": []
  }
 ],
 "metadata": {
  "kernelspec": {
   "display_name": "ddop",
   "language": "python",
   "name": "python3"
  },
  "language_info": {
   "codemirror_mode": {
    "name": "ipython",
    "version": 3
   },
   "file_extension": ".py",
   "mimetype": "text/x-python",
   "name": "python",
   "nbconvert_exporter": "python",
   "pygments_lexer": "ipython3",
   "version": "3.10.15"
  }
 },
 "nbformat": 4,
 "nbformat_minor": 2
}
