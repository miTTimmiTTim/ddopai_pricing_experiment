{
 "cells": [
  {
   "cell_type": "code",
   "execution_count": 1,
   "metadata": {},
   "outputs": [],
   "source": [
    "import os\n",
    "os.environ['NUMEXPR_MAX_THREADS'] = '1'\n",
    "\n",
    "import logging\n",
    "import numexpr as ne\n",
    "import numpy as np\n",
    "import torch\n",
    "\n",
    "from ddopai.experiments.meta_experiment_functions import *\n",
    "import requests\n",
    "import yaml\n",
    "import re\n",
    "import pandas as pd\n",
    "import wandb\n",
    "from copy import deepcopy\n",
    "import warnings\n",
    "import gc\n",
    "from mushroom_rl import core \n",
    "import pickle\n",
    "from tqdm import tqdm, trange"
   ]
  },
  {
   "cell_type": "code",
   "execution_count": 2,
   "metadata": {},
   "outputs": [
    {
     "name": "stderr",
     "output_type": "stream",
     "text": [
      "INFO:root:Configuration file 'config_env.yaml' successfully loaded.\n"
     ]
    }
   ],
   "source": [
    "\n",
    "config_env = import_config(\"config_env.yaml\")"
   ]
  },
  {
   "cell_type": "code",
   "execution_count": 3,
   "metadata": {},
   "outputs": [],
   "source": [
    "env_kwargs = []\n",
    "for episode in range(config_env[\"setup_kwargs\"][\"n_episodes\"]):\n",
    "    episode_kwargs = {}\n",
    "    episode_kwargs['env_class'] = config_env[\"setup_kwargs\"][\"env_class\"][episode % len(config_env[\"setup_kwargs\"][\"env_class\"])]\n",
    "    episode_kwargs['horizon_train'] = config_env[\"setup_kwargs\"][\"horizon_train\"][episode % len(config_env[\"setup_kwargs\"][\"horizon_train\"])]\n",
    "    episode_kwargs['p_bound_low'] = config_env[\"setup_kwargs\"][\"p_bound_low\"][episode % len(config_env[\"setup_kwargs\"][\"p_bound_low\"])]\n",
    "    episode_kwargs['p_bound_high'] = config_env[\"setup_kwargs\"][\"p_bound_high\"][episode % len(config_env[\"setup_kwargs\"][\"p_bound_high\"])]\n",
    "    episode_kwargs['inv'] = config_env[\"setup_kwargs\"][\"inv\"][episode % len(config_env[\"setup_kwargs\"][\"inv\"])]\n",
    "    episode_kwargs['nb_features'] = config_env[\"setup_kwargs\"][\"nb_features\"][episode % len(config_env[\"setup_kwargs\"][\"nb_features\"])]\n",
    "    episode_kwargs['covariance'] = config_env[\"setup_kwargs\"][\"covariance\"][episode % len(config_env[\"setup_kwargs\"][\"covariance\"])]\n",
    "    episode_kwargs['noise_std'] = config_env[\"setup_kwargs\"][\"noise_std\"][episode % len(config_env[\"setup_kwargs\"][\"noise_std\"])]\n",
    "    episode_kwargs['function_form'] = config_env[\"setup_kwargs\"][\"function_form\"][episode % len(config_env[\"setup_kwargs\"][\"function_form\"])]\n",
    "    episode_kwargs['env_type'] = config_env[\"setup_kwargs\"][\"env_type\"][episode % len(config_env[\"setup_kwargs\"][\"env_type\"])]\n",
    "    alpha = np.random.multivariate_normal(\n",
    "        mean=np.zeros(episode_kwargs['nb_features'] - 1),\n",
    "        cov=np.eye(episode_kwargs['nb_features'] - 1) * config_env[\"setup_kwargs\"][\"covariance_parameter\"][episode % len(config_env[\"setup_kwargs\"][\"covariance_parameter\"])]\n",
    "    )\n",
    "    beta = np.random.multivariate_normal(\n",
    "        mean=np.zeros(episode_kwargs['nb_features'] - 1),\n",
    "        cov=np.eye(episode_kwargs['nb_features'] - 1) * config_env[\"setup_kwargs\"][\"covariance_parameter\"][episode % len(config_env[\"setup_kwargs\"][\"covariance_parameter\"])]\n",
    "    )\n",
    "    sparsity = config_env[\"setup_kwargs\"][\"sparsity_parameter\"][episode % len(config_env[\"setup_kwargs\"][\"sparsity_parameter\"])]\n",
    "    num_zero_alpha = int(len(alpha) * sparsity)\n",
    "    num_zero_beta = int(len(beta) * sparsity)\n",
    "\n",
    "    zero_indices_alpha = np.random.choice(len(alpha), num_zero_alpha, replace=False)\n",
    "    zero_indices_beta = np.random.choice(len(beta), num_zero_beta, replace=False)\n",
    "\n",
    "    alpha[zero_indices_alpha] = 0\n",
    "    beta[zero_indices_beta] = 0\n",
    "    \n",
    "    alpha = np.insert(alpha, 0, config_env[\"setup_kwargs\"][\"leading_alpha\"][episode % len(config_env[\"setup_kwargs\"][\"leading_alpha\"])])\n",
    "    beta = np.insert(beta, 0, config_env[\"setup_kwargs\"][\"leading_beta\"][episode % len(config_env[\"setup_kwargs\"][\"leading_beta\"])])\n",
    "    \n",
    "    episode_kwargs['alpha'] = [round(float(a), 2) for a in alpha]\n",
    "    episode_kwargs['beta'] = [round(float(b), 2) for b in beta]\n",
    "    \n",
    "    env_kwargs.append(episode_kwargs)\n",
    "config_env[\"env_kwargs\"] = env_kwargs"
   ]
  },
  {
   "cell_type": "code",
   "execution_count": 4,
   "metadata": {},
   "outputs": [
    {
     "data": {
      "text/plain": [
       "{'env_class': 'DynamicPricingEnv',\n",
       " 'horizon_train': 400,\n",
       " 'p_bound_low': 0,\n",
       " 'p_bound_high': 20,\n",
       " 'inv': [[[30000.0]]],\n",
       " 'nb_features': 10,\n",
       " 'covariance': [1.5],\n",
       " 'noise_std': [0.5],\n",
       " 'function_form': ['linear'],\n",
       " 'env_type': {'inv': False, 'reference_price': False},\n",
       " 'alpha': [10.0, 0.39, 0.05, -0.02, -0.19, -0.03, 0.34, 0.02, -0.12, 0.3],\n",
       " 'beta': [-1.0, 0.17, -0.01, 0.02, -0.06, -0.2, 0.17, 0.05, -0.23, -0.17]}"
      ]
     },
     "execution_count": 4,
     "metadata": {},
     "output_type": "execute_result"
    }
   ],
   "source": [
    "env_kwargs[0]"
   ]
  },
  {
   "cell_type": "code",
   "execution_count": 5,
   "metadata": {},
   "outputs": [],
   "source": [
    "class NoAliasDumper(yaml.SafeDumper):\n",
    "    def ignore_aliases(self, data):\n",
    "        return True\n",
    "\n",
    "with open(\"config_env.yaml\", \"w\") as file:\n",
    "    yaml.dump(config_env, file, default_flow_style=False, Dumper=NoAliasDumper)"
   ]
  },
  {
   "cell_type": "code",
   "execution_count": null,
   "metadata": {},
   "outputs": [],
   "source": []
  }
 ],
 "metadata": {
  "kernelspec": {
   "display_name": "ddop",
   "language": "python",
   "name": "python3"
  },
  "language_info": {
   "codemirror_mode": {
    "name": "ipython",
    "version": 3
   },
   "file_extension": ".py",
   "mimetype": "text/x-python",
   "name": "python",
   "nbconvert_exporter": "python",
   "pygments_lexer": "ipython3",
   "version": "3.10.15"
  }
 },
 "nbformat": 4,
 "nbformat_minor": 2
}
